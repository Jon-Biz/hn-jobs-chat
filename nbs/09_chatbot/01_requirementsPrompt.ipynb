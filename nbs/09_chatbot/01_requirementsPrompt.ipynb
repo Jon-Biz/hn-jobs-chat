{
 "cells": [
  {
   "cell_type": "code",
   "execution_count": 1,
   "metadata": {},
   "outputs": [],
   "source": [
    "#| default_exp requirementsPrompt"
   ]
  },
  {
   "cell_type": "code",
   "execution_count": 2,
   "metadata": {},
   "outputs": [],
   "source": [
    "#| export\n",
    "from langchain_core.messages import HumanMessage\n",
    "\n",
    "from langchain_openai import ChatOpenAI\n",
    "\n",
    "model = ChatOpenAI()\n"
   ]
  },
  {
   "cell_type": "code",
   "execution_count": 3,
   "metadata": {},
   "outputs": [],
   "source": [
    "#| export \n",
    "from langchain_core.prompts import ChatPromptTemplate, MessagesPlaceholder\n",
    "\n",
    "from hn_jobs_chat.keys import keys\n",
    "captureRequirementsPrompt = \"\"\"\n",
    "You are a requirements recorder, helping a job searcher, by recording the requirements they have in the following areas:\\n\\n\"\"\"+  \"\\n\".join(keys) + \"\"\"\\n\\n\n",
    " Listen to the user's message, and return a json object with two keys: 'new_requirements', and 'remove_requirements'. The first one listing new requirements that the user has stated, if any, and the other listing requirements the user wants to remove from the requirements list. Use only the  list of requirements above. Do not add any new types of requirement to the list. \n",
    "\n",
    "For example, if the user says \"I want a job in New York, you should return the following json object:\n",
    "\n",
    "{{\n",
    "  \"new_requirements\": {{\n",
    "    \"location\": \"New York\",\n",
    "  }},\n",
    "  \"remove_requirements\": {{\n",
    "  }}\n",
    "}}\n",
    "\n",
    "For example, if the user says \"I want a job in California, with a salary of 100k, and I don't want a job in Ohio\", you should return the following json object:\n",
    "\n",
    "{{\n",
    "  \"new_requirements\": {{\n",
    "    \"location\": \"New York\",\n",
    "    \"salary\": 100000\n",
    "  }},\n",
    "  \"remove_requirements\": {{\n",
    "    \"location\": \"Ohio\"\n",
    "  }}\n",
    "}}\n",
    "\n",
    "--------------------\\n\\n\n",
    "\"\"\"\n",
    "\n",
    "basePrompt = ChatPromptTemplate.from_messages(\n",
    "    [\n",
    "        (\n",
    "            \"system\",\n",
    "            captureRequirementsPrompt,\n",
    "        ),\n",
    "        MessagesPlaceholder(variable_name=\"messages\"),\n",
    "    ]\n",
    ")\n",
    "\n",
    "chain = basePrompt | model\n"
   ]
  },
  {
   "cell_type": "code",
   "execution_count": 4,
   "metadata": {},
   "outputs": [],
   "source": [
    "#| export\n",
    "config = {\"configurable\": {\"session_id\": \"abc6\"}}"
   ]
  },
  {
   "cell_type": "code",
   "execution_count": 5,
   "metadata": {},
   "outputs": [],
   "source": [
    "#| export \n",
    "import json\n",
    "# Invoke the requirements bot with the user's message\n",
    "def getRequirementsResponse(input:str):\n",
    "    response = chain.invoke(input=[HumanMessage(input)])\n",
    "\n",
    "    json_response = json.loads(response.content)\n",
    "\n",
    "    return json_response\n"
   ]
  },
  {
   "cell_type": "code",
   "execution_count": 6,
   "metadata": {},
   "outputs": [
    {
     "data": {
      "text/plain": [
       "{'new_requirements': {'location': 'New York', 'compensation': 100000},\n",
       " 'remove_requirements': {'location': 'Ohio'}}"
      ]
     },
     "execution_count": 6,
     "metadata": {},
     "output_type": "execute_result"
    }
   ],
   "source": [
    "\n",
    "resp = getRequirementsResponse(\"I want a job in New York, with a salary of 100k, and I don't want a job in Ohio\")\n",
    "\n",
    "resp"
   ]
  },
  {
   "cell_type": "code",
   "execution_count": 7,
   "metadata": {},
   "outputs": [],
   "source": [
    "#| export\n",
    "\n",
    "requirements = {\n",
    "    'want': {},\n",
    "    'donotwant': {} \n",
    "}\n",
    "\n"
   ]
  },
  {
   "cell_type": "code",
   "execution_count": 8,
   "metadata": {},
   "outputs": [],
   "source": [
    "#| export\n",
    "from pydantic import BaseModel\n",
    "\n",
    "class requirementResponse(BaseModel):\n",
    "    new_requirements: dict\n",
    "    remove_requirements: dict\n"
   ]
  },
  {
   "cell_type": "code",
   "execution_count": 9,
   "metadata": {},
   "outputs": [],
   "source": [
    "#| export\n",
    "# TODO: dyanamically parse response into requirement keys\n",
    "\n",
    "def handleResponse(response: requirementResponse):\n",
    "    if response.new_requirements:\n",
    "        for key, value in response.new_requirements.items():\n",
    "            requirements[\"want\"][key] = value\n",
    "\n",
    "    if response.remove_requirements:\n",
    "        for key, value in response.remove_requirements.items():\n",
    "            requirements[\"donotwant\"][key] = value\n",
    "\n",
    "            if key in requirements[\"want\"]:\n",
    "                del requirements[\"want\"][key]\n",
    "\n",
    "    return response"
   ]
  },
  {
   "cell_type": "code",
   "execution_count": 10,
   "metadata": {},
   "outputs": [],
   "source": [
    "\n",
    "def getRequirements():\n",
    "    return requirements\n",
    "\n"
   ]
  },
  {
   "cell_type": "code",
   "execution_count": 11,
   "metadata": {},
   "outputs": [],
   "source": [
    "#| export\n",
    "import json\n",
    "# Return a lists of desired and undesired requirements\n",
    "def handleSubmit(input:str) -> str:\n",
    "    json_response = getRequirementsResponse(input)\n",
    "    validated_response = requirementResponse(**json_response)\n",
    "\n",
    "    handleResponse(validated_response)\n",
    "\n",
    "    return getRequirementsPrompt()"
   ]
  },
  {
   "cell_type": "code",
   "execution_count": 12,
   "metadata": {},
   "outputs": [
    {
     "data": {
      "application/vnd.jupyter.widget-view+json": {
       "model_id": "5063d9c7725d4cac9be30b4ddf4d322f",
       "version_major": 2,
       "version_minor": 0
      },
      "text/plain": [
       "Text(value='')"
      ]
     },
     "metadata": {},
     "output_type": "display_data"
    },
    {
     "data": {
      "application/vnd.jupyter.widget-view+json": {
       "model_id": "65b60669977f4112b81d6e438e1f4828",
       "version_major": 2,
       "version_minor": 0
      },
      "text/plain": [
       "Button(description='Submit', style=ButtonStyle())"
      ]
     },
     "metadata": {},
     "output_type": "display_data"
    }
   ],
   "source": [
    "import ipywidgets as widgets\n",
    "from IPython.display import display\n",
    "import json\n",
    "\n",
    "# Create input widgets\n",
    "text_input = widgets.Text()\n",
    "\n",
    "# Create a button\n",
    "submit_button = widgets.Button(description='Submit')\n",
    "\n",
    "# Define a function to handle form submission\n",
    "def handle_submit(button):\n",
    "   handleSubmit(text_input.value)\n",
    "\n",
    "# Attach the function to the button's on_click event\n",
    "submit_button.on_click(handle_submit)\n",
    "\n",
    "# Display the form\n",
    "display(text_input, submit_button)"
   ]
  },
  {
   "cell_type": "code",
   "execution_count": 13,
   "metadata": {},
   "outputs": [],
   "source": [
    "#| hide\n",
    "from nbdev import nbdev_export\n",
    "nbdev_export()"
   ]
  }
 ],
 "metadata": {
  "kernelspec": {
   "display_name": ".venv",
   "language": "python",
   "name": "python3"
  },
  "language_info": {
   "codemirror_mode": {
    "name": "ipython",
    "version": 3
   },
   "file_extension": ".py",
   "mimetype": "text/x-python",
   "name": "python",
   "nbconvert_exporter": "python",
   "pygments_lexer": "ipython3",
   "version": "3.12.1"
  }
 },
 "nbformat": 4,
 "nbformat_minor": 2
}
