{
 "cells": [
  {
   "cell_type": "code",
   "execution_count": 102,
   "metadata": {},
   "outputs": [],
   "source": [
    "#| default_exp chat"
   ]
  },
  {
   "cell_type": "code",
   "execution_count": 103,
   "metadata": {},
   "outputs": [],
   "source": [
    "# import getpass\n",
    "# import os\n",
    "\n",
    "# os.environ[\"LANGCHAIN_TRACING_V2\"] = \"true\"\n",
    "# os.environ[\"LANGCHAIN_API_KEY\"] = getpass.getpass()"
   ]
  },
  {
   "cell_type": "code",
   "execution_count": 104,
   "metadata": {},
   "outputs": [],
   "source": [
    "# import getpass\n",
    "# import os\n",
    "\n",
    "# os.environ[\"OPENAI_API_KEY\"] = getpass.getpass()\n",
    "\n",
    "# from langchain_openai import ChatOpenAI\n",
    "\n",
    "# model = ChatOpenAI(model=\"gpt-3.5-turbo\")"
   ]
  },
  {
   "cell_type": "code",
   "execution_count": 105,
   "metadata": {},
   "outputs": [],
   "source": [
    "#| export \n",
    "from langchain_core.messages import HumanMessage, SystemMessage\n",
    "\n",
    "from langchain_openai import ChatOpenAI\n",
    "\n",
    "model = ChatOpenAI()"
   ]
  },
  {
   "cell_type": "code",
   "execution_count": 106,
   "metadata": {},
   "outputs": [],
   "source": [
    "#| export \n",
    "from langchain_core.prompts import ChatPromptTemplate, MessagesPlaceholder\n",
    "\n",
    "helperPrompt  = \"\"\"You are a job search assistant. \n",
    "You are helping a job searcher find jobs to apply for. From the list of jobs you have, you need to help the job searcher find the jobs that are relevant to them. You can ask the job searcher questions to help you understand what they are looking for.\n",
    "\"\"\"\n",
    "\n",
    "basePrompt = ChatPromptTemplate.from_messages(\n",
    "    [\n",
    "        (\n",
    "            \"system\",\n",
    "            helperPrompt,\n",
    "        ),\n",
    "        MessagesPlaceholder(variable_name=\"messages\"),\n",
    "    ]\n",
    ")\n",
    "\n",
    "chain = basePrompt | model\n"
   ]
  },
  {
   "cell_type": "code",
   "execution_count": 107,
   "metadata": {},
   "outputs": [],
   "source": [
    "requirementsPrompt  = \"\"\"Current search requirements are: {\n",
    "    \"Job Title\": \"Software Engineer\",\n",
    "    \"Location\": \"Remote\",\n",
    "    \"Company\": \"Google\"\n",
    "}\n",
    "\"\"\"\n",
    "\n",
    "searchResultsPrompt = \"\"\"\n",
    "Current search results are: [\n",
    "    {\n",
    "        \"Job Title\": \"Software Engineer\",\n",
    "        \"Location\": \"Remote\",\n",
    "        \"Company\": \"Google\",\n",
    "        \"Status\": \"Pending\"\n",
    "    },\n",
    "    {\n",
    "        \"Job Title\": \"Software Engineer\",\n",
    "        \"Location\": \"Onsite\",\n",
    "        \"Company\": \"Facebook\",\n",
    "        \"Status\": \"Pending\"\n",
    "    },\n",
    "    {\n",
    "        \"Job Title\": \"Software Engineer\",\n",
    "        \"Location\": \"Remote\",\n",
    "        \"Company\": \"Amazon\",\n",
    "        \"Status\": \"Pending\"\n",
    "    }\n",
    "]\n",
    "\"\"\""
   ]
  },
  {
   "cell_type": "code",
   "execution_count": 108,
   "metadata": {},
   "outputs": [],
   "source": [
    "#| export\n",
    "from langchain_core.chat_history import (\n",
    "    BaseChatMessageHistory,\n",
    "    InMemoryChatMessageHistory\n",
    ")\n",
    "\n",
    "from langchain_core.runnables.history import RunnableWithMessageHistory\n",
    "\n",
    "store = {}\n",
    "\n",
    "def get_session_history(session_id: str) -> BaseChatMessageHistory:\n",
    "    if session_id not in store:\n",
    "        store[session_id] = InMemoryChatMessageHistory()\n",
    "    return store[session_id]\n",
    "\n",
    "with_message_history = RunnableWithMessageHistory(chain, get_session_history, input_messages_key=\"messages\")\n"
   ]
  },
  {
   "cell_type": "code",
   "execution_count": 109,
   "metadata": {},
   "outputs": [],
   "source": [
    "#| export \n",
    "config = {\"configurable\": {\"session_id\": \"abc4\"}}"
   ]
  },
  {
   "cell_type": "code",
   "execution_count": 110,
   "metadata": {},
   "outputs": [],
   "source": [
    "#| export\n",
    "def remove_previous_RAG_info(session_id: str) -> dict:\n",
    "    history = get_session_history(session_id)\n",
    "\n",
    "    alteredHistory = []\n",
    "\n",
    "    for message in history.messages:\n",
    "        if type(message) is tuple:\n",
    "            msgType, text = message\n",
    "            if \"Current search requirements are\" not in text:\n",
    "                if \"Current search results are\" not in text:\n",
    "                    alteredHistory.append(message)    \n",
    "        elif type(message) is HumanMessage:\n",
    "            alteredHistory.append(message)\n",
    "        else:\n",
    "            alteredHistory.append(message)\n",
    "\n",
    "    history.messages = alteredHistory\n",
    "\n",
    "    return {\"session_id\": session_id, \"messages\": alteredHistory}"
   ]
  },
  {
   "cell_type": "code",
   "execution_count": 111,
   "metadata": {},
   "outputs": [],
   "source": [
    "#| export\n",
    "from langchain_core.prompts import ChatPromptTemplate\n",
    "\n",
    "requirementsPrompt = ChatPromptTemplate.from_template(\n",
    "\"\"\"Current search requirements are: {requirements}\"\"\")\n",
    "\n",
    "def getRequirementsPrompt(requirements):\n",
    "    return requirementsPrompt.format(requirements=requirements)\n"
   ]
  },
  {
   "cell_type": "code",
   "execution_count": 112,
   "metadata": {},
   "outputs": [],
   "source": [
    "#| export\n",
    "from langchain_core.prompts import ChatPromptTemplate\n",
    "\n",
    "requirementsPrompt = ChatPromptTemplate.from_template(\n",
    "\"\"\"Search results meeting those requirements are: {requirements}\"\"\")\n",
    "\n",
    "def getSearchResultsPrompt(requirements):\n",
    "    return requirementsPrompt.format(requirements=requirements)\n"
   ]
  },
  {
   "cell_type": "code",
   "execution_count": 113,
   "metadata": {},
   "outputs": [],
   "source": [
    "#| export\n",
    "\n",
    "def getChatResponse(input, requirements, searchResults):\n",
    "    # Remove the previous RAG info, so we can re-run the bot with new RAG info\n",
    "    remove_previous_RAG_info(\"abc4\")\n",
    "\n",
    "    requirementsPrompt = getRequirementsPrompt(requirements)\n",
    "    searchResultsPrompt = getSearchResultsPrompt(searchResults)\n",
    "\n",
    "    response = with_message_history.invoke(\n",
    "        { \"messages\": [\n",
    "            (   \"system\",\n",
    "                requirementsPrompt\n",
    "            ),\n",
    "            (   \"system\",\n",
    "                searchResultsPrompt\n",
    "            ),\n",
    "            HumanMessage(content=input)]\n",
    "        },\n",
    "        config=config,\n",
    "    )\n",
    "    \n",
    "    return response.content"
   ]
  },
  {
   "cell_type": "code",
   "execution_count": 114,
   "metadata": {},
   "outputs": [
    {
     "data": {
      "application/vnd.jupyter.widget-view+json": {
       "model_id": "4483c080314c4bec99230f33b13f279b",
       "version_major": 2,
       "version_minor": 0
      },
      "text/plain": [
       "Text(value='')"
      ]
     },
     "metadata": {},
     "output_type": "display_data"
    },
    {
     "data": {
      "application/vnd.jupyter.widget-view+json": {
       "model_id": "b604c1cc769e4fb785796f987af4cf23",
       "version_major": 2,
       "version_minor": 0
      },
      "text/plain": [
       "Button(description='Submit', style=ButtonStyle())"
      ]
     },
     "metadata": {},
     "output_type": "display_data"
    }
   ],
   "source": [
    "import ipywidgets as widgets\n",
    "from IPython.display import display\n",
    "\n",
    "# Create input widgets\n",
    "text_input = widgets.Text()\n",
    "\n",
    "# Create a button\n",
    "submit_button = widgets.Button(description='Submit')\n",
    "\n",
    "\n",
    "# Define a function to handle form submission\n",
    "def handle_submit(button):\n",
    "    response = getResponse(text_input.value)\n",
    "    print(response)\n",
    "\n",
    "# Attach the function to the button's on_click event\n",
    "submit_button.on_click(handle_submit)\n",
    "\n",
    "# Display the form\n",
    "display(text_input, submit_button)\n"
   ]
  },
  {
   "cell_type": "code",
   "execution_count": 115,
   "metadata": {},
   "outputs": [],
   "source": [
    "#| hide\n",
    "from nbdev import nbdev_export\n",
    "nbdev_export()"
   ]
  }
 ],
 "metadata": {
  "kernelspec": {
   "display_name": ".venv",
   "language": "python",
   "name": "python3"
  },
  "language_info": {
   "codemirror_mode": {
    "name": "ipython",
    "version": 3
   },
   "file_extension": ".py",
   "mimetype": "text/x-python",
   "name": "python",
   "nbconvert_exporter": "python",
   "pygments_lexer": "ipython3",
   "version": "3.12.1"
  }
 },
 "nbformat": 4,
 "nbformat_minor": 2
}
