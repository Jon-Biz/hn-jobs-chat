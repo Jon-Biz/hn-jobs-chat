{
 "cells": [
  {
   "cell_type": "markdown",
   "metadata": {},
   "source": [
    "#Search\n",
    "This is the function that will return items that meet the requirements the user provided."
   ]
  },
  {
   "cell_type": "markdown",
   "metadata": {},
   "source": [
    "## Multiple Vector Search with ranking.\n",
    "\n",
    "Ok, how to surface the best matches? We have simplified the process of outlining requirements, by separating out items we want to look for. However, now we need to combine those outputs into one single listing. "
   ]
  },
  {
   "cell_type": "markdown",
   "metadata": {},
   "source": [
    "## Reciprocal Ranked Fusion (RRF)\n",
    "\n",
    "We perform a search across every keyword item. Then, we give each result a score based on the number of times it appears in the results. \n",
    "\n",
    "Some keywords will be marked 'absolute' - meaning that not being present in that keyword's list drops the item from the results entirely. "
   ]
  },
  {
   "cell_type": "code",
   "execution_count": 54,
   "metadata": {},
   "outputs": [],
   "source": [
    "#| export\n",
    "from hn_jobs_chat.keys import keys\n",
    "\n",
    "def format_job_result(job_listing):\n",
    "    job = {}\n",
    "    \n",
    "    for key in keys:\n",
    "        if key in job_listing:\n",
    "            job[key] = job_listing[key]\n",
    "\n",
    "    return job"
   ]
  },
  {
   "cell_type": "code",
   "execution_count": 65,
   "metadata": {},
   "outputs": [],
   "source": [
    "#| export \n",
    "def format_results(results):\n",
    "    formatted_results = []\n",
    "\n",
    "    for job_listing in results:\n",
    "        job = format_job_result(job_listing[0])\n",
    "\n",
    "        formatted_results.append(job)\n",
    "\n",
    "    return formatted_results\n"
   ]
  },
  {
   "cell_type": "code",
   "execution_count": 66,
   "metadata": {},
   "outputs": [
    {
     "data": {
      "text/plain": [
       "[{'company': 'Google',\n",
       "  'location': 'Mountain View, CA',\n",
       "  'job_title': 'Software Engineer'}]"
      ]
     },
     "execution_count": 66,
     "metadata": {},
     "output_type": "execute_result"
    }
   ],
   "source": [
    "\n",
    "results = [[{ 'job_title': 'Software Engineer', 'company': 'Google', 'location': 'Mountain View, CA' }]]\n",
    "\n",
    "format_results(results)"
   ]
  },
  {
   "cell_type": "code",
   "execution_count": 67,
   "metadata": {},
   "outputs": [
    {
     "data": {
      "text/plain": [
       "dict"
      ]
     },
     "execution_count": 67,
     "metadata": {},
     "output_type": "execute_result"
    }
   ],
   "source": [
    "thing = ({ 'title': 'Software Engineer', 'company': 'Google', 'location': 'Mountain View, CA' },)\n",
    "\n",
    "type(thing[0])"
   ]
  },
  {
   "cell_type": "code",
   "execution_count": 68,
   "metadata": {},
   "outputs": [
    {
     "name": "stdout",
     "output_type": "stream",
     "text": [
      "SELECT row_to_json(posts_july) FROM posts_july WHERE location = 'San Francisco' LIMIT 10;\n"
     ]
    },
    {
     "data": {
      "text/plain": [
       "{'location': [{'company': 'Shortwave',\n",
       "   'location': 'San Francisco',\n",
       "   'timezone': None,\n",
       "   'industry': None,\n",
       "   'target_market': None,\n",
       "   'company_status': None,\n",
       "   'company_description': 'Shortwave is building an email client with a built-in AI executive assistant.',\n",
       "   'company_goal': 'bringing the power of LLMs & a modern messaging UX to 4.5 billion email users.',\n",
       "   'company_stage': None,\n",
       "   'more_company_info': None,\n",
       "   'employment_type': 'Full-time',\n",
       "   'remote_or_local_details': 'ONSITE',\n",
       "   'job_title': 'Sr. Software Engineer',\n",
       "   'job_description': 'Help build the future by developing a modern email client with AI capabilities.',\n",
       "   'job_requirements': 'Strong CS fundamentals,App development experience,Generalist background,Scrappiness,Speed,Grit',\n",
       "   'job_soft_skills': None,\n",
       "   'product_description': \"An AI virtual assistant that has perfect knowledge of every message, attachment, receipt, newsletter, etc you've ever sent or received.\",\n",
       "   'tech_stack': None,\n",
       "   'application_process': None,\n",
       "   'contact_email': 'joinourteam@shortwave.com',\n",
       "   'application_url': 'https://www.shortwave.com/',\n",
       "   'information_urls': '',\n",
       "   'additional_notes': 'The team consists mostly of ex-Google / ex-Firebase members.,Co-founded by a Firebase (YC S11) co-founder.',\n",
       "   'compensation': '$140k-$215k base + generous equity'},\n",
       "  {'company': 'Shortwave',\n",
       "   'location': 'San Francisco',\n",
       "   'timezone': None,\n",
       "   'industry': None,\n",
       "   'target_market': None,\n",
       "   'company_status': None,\n",
       "   'company_description': 'Shortwave is building an email client with a built-in AI executive assistant.',\n",
       "   'company_goal': 'bring the power of LLMs & a modern messaging UX to 4.5 billion email users.',\n",
       "   'company_stage': None,\n",
       "   'more_company_info': None,\n",
       "   'employment_type': 'Full-time',\n",
       "   'remote_or_local_details': 'ONSITE',\n",
       "   'job_title': 'Sr. Software Engineer',\n",
       "   'job_description': 'Imagine an AI virtual assistant that can answer questions about your email and act on your behalf.',\n",
       "   'job_requirements': 'generalists with strong CS fundamentals,app development experience,scrappiness,speed,grit',\n",
       "   'job_soft_skills': None,\n",
       "   'product_description': \"An AI virtual assistant with perfect knowledge of every message, attachment, receipt, newsletter, etc you've ever sent or received.\",\n",
       "   'tech_stack': None,\n",
       "   'application_process': 'Email if interested: joinourteam@shortwave.com',\n",
       "   'contact_email': 'joinourteam@shortwave.com',\n",
       "   'application_url': 'https://www.shortwave.com/',\n",
       "   'information_urls': None,\n",
       "   'additional_notes': 'The team is comprised of ex-Google / ex-Firebase personnel.,Willing to pay for the best talent.',\n",
       "   'compensation': '$140k-$215k base + generous equity'},\n",
       "  {'company': 'Agave',\n",
       "   'location': 'San Francisco',\n",
       "   'timezone': None,\n",
       "   'industry': None,\n",
       "   'target_market': None,\n",
       "   'company_status': None,\n",
       "   'company_description': 'A data-integration API and analytics platform for the construction industry.',\n",
       "   'company_goal': 'Building data infrastructure for the $12T construction industry.',\n",
       "   'company_stage': 'seed',\n",
       "   'more_company_info': None,\n",
       "   'employment_type': 'Full-time',\n",
       "   'remote_or_local_details': 'Local only',\n",
       "   'job_title': 'Founding Engineer',\n",
       "   'job_description': 'Backend Engineer (4th hire) at a YC startup building data infrastructure.',\n",
       "   'job_requirements': '1-5 years of experience,6+ years of experience',\n",
       "   'job_soft_skills': None,\n",
       "   'product_description': None,\n",
       "   'tech_stack': '',\n",
       "   'application_process': 'Apply via the provided URL.',\n",
       "   'contact_email': '',\n",
       "   'application_url': 'https://www.agaveapi.com/careers',\n",
       "   'information_urls': 'https://www.ycombinator.com/companies/agave/jobs/jryB4nr-sof...,https://www.ycombinator.com/companies/agave/jobs/6QgUaxJ-fou...',\n",
       "   'additional_notes': 'We’re a team of 7 who worked together for 9 years, first at Graphiq (acquired by Amazon) then at Alexa.,We raised $3M from YC, Accel (Facebook, Slack, Cloudera, Segment, etc.), founders of Plaid and Mailbox, and founders/execs at Procore, Autodesk, PlanGrid, Fieldwire, and others.,We recently hit a significant revenue milestone and have consistent 15% MoM revenue growth.',\n",
       "   'compensation': ''},\n",
       "  {'company': 'Agave',\n",
       "   'location': 'San Francisco',\n",
       "   'timezone': None,\n",
       "   'industry': None,\n",
       "   'target_market': None,\n",
       "   'company_status': None,\n",
       "   'company_description': 'A YC startup building data infrastructure for the $12T construction industry.',\n",
       "   'company_goal': 'To provide a data-integration API and analytics platform for the construction industry.',\n",
       "   'company_stage': 'startup',\n",
       "   'more_company_info': None,\n",
       "   'employment_type': 'Full-time',\n",
       "   'remote_or_local_details': 'Local only',\n",
       "   'job_title': 'Founding Engineer',\n",
       "   'job_description': 'Backend Engineer (4th hire) at YC startup building data infra for the $12T construction industry.',\n",
       "   'job_requirements': '1-5 Years Experience,6+ Years Experience',\n",
       "   'job_soft_skills': None,\n",
       "   'product_description': None,\n",
       "   'tech_stack': None,\n",
       "   'application_process': None,\n",
       "   'contact_email': None,\n",
       "   'application_url': 'https://www.agaveapi.com/careers',\n",
       "   'information_urls': 'https://www.ycombinator.com/companies/agave/jobs/jryB4nr-sof...,https://www.ycombinator.com/companies/agave/jobs/6QgUaxJ-fou...',\n",
       "   'additional_notes': 'We’re a team of 7 who worked together for 9 years, first at Graphiq (acq. by Amazon) then at Alexa.,We raised $3M from YC, Accel (Facebook, Slack, Cloudera, Segment, etc.), founders of Plaid and Mailbox, and founders/execs at Procore, Autodesk, PlanGrid, Fieldwire, and others.,We recently hit a significant revenue milestone and have consistent 15% MoM revenue growth.',\n",
       "   'compensation': None}]}"
      ]
     },
     "execution_count": 68,
     "metadata": {},
     "output_type": "execute_result"
    }
   ],
   "source": [
    "#| default_exp search\n",
    "#| export\n",
    "import psycopg2\n",
    "\n",
    "month = \"july\"\n",
    "postsTableName = \"posts_\" + month\n",
    "\n",
    "conn = psycopg2.connect(\"dbname=Bumpant user=Bumpant password=ampegskb\")\n",
    "cursor = conn.cursor()\n",
    "\n",
    "def search(requirements):\n",
    "    initial_results = {}\n",
    "\n",
    "    for key in requirements.keys():\n",
    "        query = f\"SELECT row_to_json({postsTableName}) FROM {postsTableName} WHERE {key} = '{requirements[key]}' LIMIT 40;\"\n",
    "\n",
    "        cursor.execute(query)\n",
    "\n",
    "        results = cursor.fetchall()\n",
    "\n",
    "        formatted_results = format_results(results)\n",
    "\n",
    "        initial_results[key] = formatted_results\n",
    "        \n",
    "        conn.commit()\n",
    "\n",
    "    return initial_results\n",
    "\n",
    "search({\n",
    "    \"location\": \"San Francisco\"\n",
    "})\n"
   ]
  },
  {
   "cell_type": "code",
   "execution_count": 71,
   "metadata": {},
   "outputs": [],
   "source": [
    "#| hide\n",
    "from nbdev import nbdev_export\n",
    "nbdev_export()"
   ]
  }
 ],
 "metadata": {
  "kernelspec": {
   "display_name": ".venv",
   "language": "python",
   "name": "python3"
  },
  "language_info": {
   "codemirror_mode": {
    "name": "ipython",
    "version": 3
   },
   "file_extension": ".py",
   "mimetype": "text/x-python",
   "name": "python",
   "nbconvert_exporter": "python",
   "pygments_lexer": "ipython3",
   "version": "3.12.1"
  }
 },
 "nbformat": 4,
 "nbformat_minor": 2
}
