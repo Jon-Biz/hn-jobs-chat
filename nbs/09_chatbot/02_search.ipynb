{
 "cells": [
  {
   "cell_type": "markdown",
   "metadata": {},
   "source": [
    "#Search\n",
    "This is the function that will return items that meet the requirements the user provided."
   ]
  },
  {
   "cell_type": "markdown",
   "metadata": {},
   "source": [
    "## Multiple Vector Search with ranking.\n",
    "\n",
    "Ok, how to surface the best matches? We have simplified the process of outlining requirements, by separating out items we want to look for. However, now we need to combine those outputs into one single listing. "
   ]
  },
  {
   "cell_type": "markdown",
   "metadata": {},
   "source": [
    "## Reciprocal Ranked Fusion (RRF)\n",
    "\n",
    "We perform a search across every keyword item. Then, we give each result a score based on the number of times it appears in the results. \n",
    "\n",
    "Some keywords will be marked 'absolute' - meaning that not being present in that keyword's list drops the item from the results entirely. "
   ]
  },
  {
   "cell_type": "code",
   "execution_count": 1,
   "metadata": {},
   "outputs": [],
   "source": [
    "#| export\n",
    "from hn_jobs_chat.keys import keys\n",
    "\n",
    "def format_job_result(job_listing):\n",
    "    job = {}\n",
    "    \n",
    "    for key in keys:\n",
    "        if key in job_listing:\n",
    "            job[key] = job_listing[key]\n",
    "\n",
    "    return job"
   ]
  },
  {
   "cell_type": "code",
   "execution_count": 2,
   "metadata": {},
   "outputs": [],
   "source": [
    "#| export \n",
    "def format_results(results):\n",
    "    formatted_results = []\n",
    "\n",
    "    for job_listing in results:\n",
    "        job = format_job_result(job_listing[0])\n",
    "\n",
    "        formatted_results.append(job)\n",
    "\n",
    "    return formatted_results\n"
   ]
  },
  {
   "cell_type": "code",
   "execution_count": 3,
   "metadata": {},
   "outputs": [
    {
     "data": {
      "text/plain": [
       "[{'company': 'Google',\n",
       "  'location': 'Mountain View, CA',\n",
       "  'job_title': 'Software Engineer'}]"
      ]
     },
     "execution_count": 3,
     "metadata": {},
     "output_type": "execute_result"
    }
   ],
   "source": [
    "\n",
    "results = [[{ 'job_title': 'Software Engineer', 'company': 'Google', 'location': 'Mountain View, CA' }]]\n",
    "\n",
    "format_results(results)"
   ]
  },
  {
   "cell_type": "code",
   "execution_count": 4,
   "metadata": {},
   "outputs": [
    {
     "name": "stdout",
     "output_type": "stream",
     "text": [
      "string\n"
     ]
    }
   ],
   "source": [
    "from hn_jobs_chat.keys import described_keys\n",
    "\n",
    "print(described_keys[0]['type'])\n"
   ]
  },
  {
   "cell_type": "code",
   "execution_count": 6,
   "metadata": {},
   "outputs": [],
   "source": [
    "#| default_exp search\n",
    "#| export\n",
    "import psycopg2\n",
    "from hn_jobs_chat.keys import described_keys_dict\n",
    "from hn_jobs_chat.globals import postsTableName\n",
    "\n",
    "conn = psycopg2.connect(\"dbname=Bumpant user=Bumpant password=ampegskb\")\n",
    "cursor = conn.cursor()\n",
    "\n",
    "def search(requirements):\n",
    "    initial_results = {}\n",
    "\n",
    "    for key in requirements.keys():\n",
    "        \n",
    "        if described_keys_dict[key]['type'] == 'string':\n",
    "            query = f\"SELECT row_to_json({postsTableName}) FROM {postsTableName} WHERE {key} = '{requirements[key]}' LIMIT 40;\"\n",
    "\n",
    "            cursor.execute(query)\n",
    "            results = cursor.fetchall()\n",
    "            formatted_results = format_results(results)\n",
    "            initial_results[key] = formatted_results\n",
    "\n",
    "        elif described_keys_dict[key]['type'] == 'array':\n",
    "            initial_results[key] = {}\n",
    "\n",
    "            newTableName = f\"{postsTableName}_{key}\"\n",
    "\n",
    "            for item in requirements[key]:\n",
    "                query = f\"\"\"\n",
    "                    SELECT row_to_json({postsTableName})\n",
    "                    FROM {postsTableName}\n",
    "                    JOIN {newTableName} ON {newTableName}.postId = {postsTableName}.id\n",
    "                    WHERE {newTableName}.item = '{item}'\n",
    "                    LIMIT 40;\n",
    "                \"\"\"\n",
    "\n",
    "                cursor.execute(query)\n",
    "                results = cursor.fetchall()\n",
    "                formatted_results = format_results(results)\n",
    "                initial_results[key][item] = formatted_results\n",
    "\n",
    "        else:\n",
    "            raise ValueError(f\"Invalid type: {described_keys_dict[key]['type']}\")\n",
    "\n",
    "        \n",
    "        # conn.commit()\n",
    "\n",
    "    return initial_results\n",
    "\n"
   ]
  },
  {
   "cell_type": "code",
   "execution_count": 7,
   "metadata": {},
   "outputs": [
    {
     "data": {
      "text/plain": [
       "{'location': [{'company': 'Rainbow Insurance',\n",
       "   'location': 'San Francisco',\n",
       "   'timezone': None,\n",
       "   'industry': None,\n",
       "   'target_market': None,\n",
       "   'company_status': None,\n",
       "   'company_description': None,\n",
       "   'company_goal': 'to provide insurance policies to small businesses by evaluating them against various risks.',\n",
       "   'company_stage': 'seed',\n",
       "   'more_company_info': None,\n",
       "   'employment_type': 'Full Time',\n",
       "   'remote_or_local_details': 'Hybrid (2 days on-site in SF)',\n",
       "   'job_title': 'Fullstack Software Engineer',\n",
       "   'job_description': 'We are looking for an experienced software engineer to join our team and help us grow and innovate.',\n",
       "   'job_requirements': '3+ years of professional experience as a software engineer,Experience in fintech is an optional but major plus,Familiarity with our tech stack (Golang, React through a Next.js app, GraphQL, PostgreSQL) is beneficial but not required',\n",
       "   'job_soft_skills': None,\n",
       "   'product_description': None,\n",
       "   'tech_stack': None,\n",
       "   'application_process': None,\n",
       "   'contact_email': 'hn@userainbow.com',\n",
       "   'application_url': 'https://www.userainbow.com/about',\n",
       "   'information_urls': 'https://www.userainbow.com/about',\n",
       "   'additional_notes': \"You're joining a small fast-paced team: 7 engineers, 20 people total.,Direct impact on solving real-world problems for small businesses.,Competitive salary and benefits.\",\n",
       "   'compensation': '$150-180k'},\n",
       "  {'company': 'Layer',\n",
       "   'location': 'San Francisco',\n",
       "   'timezone': None,\n",
       "   'industry': None,\n",
       "   'target_market': None,\n",
       "   'company_status': None,\n",
       "   'company_description': 'We’re building SMB accounting software API-first so that it can be integrated directly into software platforms where business owners already work.',\n",
       "   'company_goal': 'Help small business owners start, run and scale their business with workflows and financial products.',\n",
       "   'company_stage': None,\n",
       "   'more_company_info': None,\n",
       "   'employment_type': 'Full-Time',\n",
       "   'remote_or_local_details': 'In-Person',\n",
       "   'job_title': 'Founding Fullstack Engineer',\n",
       "   'job_description': None,\n",
       "   'job_requirements': 'Excited about building a company and team,Passionate about building software for SMBs',\n",
       "   'job_soft_skills': None,\n",
       "   'product_description': None,\n",
       "   'tech_stack': None,\n",
       "   'application_process': None,\n",
       "   'contact_email': 'daniel@layerfi.com',\n",
       "   'application_url': 'https://jobs.ashbyhq.com/layerfi/ef55941f-b59c-419a-8736-a25...',\n",
       "   'information_urls': 'https://www.npmjs.com/package/@layerfi/components',\n",
       "   'additional_notes': 'We have no standalone frontend - instead we build a React component library that our customers can directly use within their own apps.,We are well funded by top tier investors and are live with hundreds of small businesses.',\n",
       "   'compensation': None},\n",
       "  {'company': 'Patch',\n",
       "   'location': 'San Francisco',\n",
       "   'timezone': None,\n",
       "   'industry': None,\n",
       "   'target_market': None,\n",
       "   'company_status': 'raised $80.7M in funding (a16z, Coatue, Energize)',\n",
       "   'company_description': 'Patch combines technology and carbon markets expertise to increase the integrity of carbon markets and direct capital to powerful climate solutions. We have helped hundreds of companies meet their sustainability goals and have directed millions of dollars to promising climate solutions.',\n",
       "   'company_goal': 'increase the integrity of carbon markets and direct capital to powerful climate solutions.',\n",
       "   'company_stage': 'Series B',\n",
       "   'more_company_info': None,\n",
       "   'employment_type': 'Full-Time',\n",
       "   'remote_or_local_details': 'Hybrid (in office 2-3 days a week)',\n",
       "   'job_title': 'Senior / Staff Software Engineer',\n",
       "   'job_description': None,\n",
       "   'job_requirements': 'Senior or Staff Level Engineers,experience with Ruby and Typescript',\n",
       "   'job_soft_skills': None,\n",
       "   'product_description': None,\n",
       "   'tech_stack': None,\n",
       "   'application_process': None,\n",
       "   'contact_email': 'jobs@patch.io',\n",
       "   'application_url': 'https://jobs.ashbyhq.com/patch.io/934b8dfe-d144-4be2-8fa9-b0...',\n",
       "   'information_urls': '',\n",
       "   'additional_notes': 'Our engineering team is 15 high-agency product-oriented engineers.,Join us if you like domain modeling a complex real-world problem!',\n",
       "   'compensation': '$180 - 220k'},\n",
       "  {'company': 'Andi',\n",
       "   'location': 'San Francisco',\n",
       "   'timezone': None,\n",
       "   'industry': None,\n",
       "   'target_market': None,\n",
       "   'company_status': None,\n",
       "   'company_description': None,\n",
       "   'company_goal': 'create a more intuitive, powerful way for people to find and interact with information.',\n",
       "   'company_stage': None,\n",
       "   'more_company_info': None,\n",
       "   'employment_type': 'Full-time',\n",
       "   'remote_or_local_details': 'Onsite (preferred) / Hybrid',\n",
       "   'job_title': 'AI Engineer',\n",
       "   'job_description': None,\n",
       "   'job_requirements': '3+ years of AI/ML engineering experience, focus on NLP and LLMs,Strong Python skills, experience with modern AI frameworks,Track record of shipping AI features in production,Experience with vector databases and efficient retrieval methods,Familiarity with AWS and containerization technologies',\n",
       "   'job_soft_skills': None,\n",
       "   'product_description': None,\n",
       "   'tech_stack': None,\n",
       "   'application_process': None,\n",
       "   'contact_email': None,\n",
       "   'application_url': 'https://www.ycombinator.com/companies/andi/jobs/okQ7tYQ-ai-e...',\n",
       "   'information_urls': 'https://andisearch.com',\n",
       "   'additional_notes': 'We offer competitive salary, meaningful equity, and the chance to shape the future of search.,Remote work possible for exceptional candidates.',\n",
       "   'compensation': None},\n",
       "  {'company': 'Contour',\n",
       "   'location': 'San Francisco',\n",
       "   'timezone': None,\n",
       "   'industry': None,\n",
       "   'target_market': None,\n",
       "   'company_status': None,\n",
       "   'company_description': \"We're rebuilding the financial ledger, revolutionizing how multi-location businesses assess their performance, and empowering them to make better and more timely decisions.\",\n",
       "   'company_goal': 'Our software streamlines data collection, reporting, and analysis, arming business owners with the insights they need to thrive.',\n",
       "   'company_stage': None,\n",
       "   'more_company_info': None,\n",
       "   'employment_type': 'Full-time',\n",
       "   'remote_or_local_details': 'Hybrid (3 days in person)',\n",
       "   'job_title': 'Founding Engineer',\n",
       "   'job_description': None,\n",
       "   'job_requirements': None,\n",
       "   'job_soft_skills': None,\n",
       "   'product_description': None,\n",
       "   'tech_stack': 'Rust,Typescript,Next,WASM,Postgres',\n",
       "   'application_process': None,\n",
       "   'contact_email': 'alex@contour.app',\n",
       "   'application_url': None,\n",
       "   'information_urls': None,\n",
       "   'additional_notes': \"We're looking for a talented and passionate Founding Engineer to join us early, working closely alongside the founding team.\",\n",
       "   'compensation': None}]}"
      ]
     },
     "execution_count": 7,
     "metadata": {},
     "output_type": "execute_result"
    }
   ],
   "source": [
    "search({\n",
    "    \"location\": \"San Francisco\"\n",
    "})\n"
   ]
  },
  {
   "cell_type": "code",
   "execution_count": 7,
   "metadata": {},
   "outputs": [],
   "source": [
    "#| hide\n",
    "from nbdev import nbdev_export\n",
    "nbdev_export()"
   ]
  }
 ],
 "metadata": {
  "kernelspec": {
   "display_name": ".venv",
   "language": "python",
   "name": "python3"
  },
  "language_info": {
   "codemirror_mode": {
    "name": "ipython",
    "version": 3
   },
   "file_extension": ".py",
   "mimetype": "text/x-python",
   "name": "python",
   "nbconvert_exporter": "python",
   "pygments_lexer": "ipython3",
   "version": "3.12.1"
  }
 },
 "nbformat": 4,
 "nbformat_minor": 2
}
