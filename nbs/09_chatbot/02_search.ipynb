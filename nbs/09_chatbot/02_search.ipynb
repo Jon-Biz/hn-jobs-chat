{
 "cells": [
  {
   "cell_type": "markdown",
   "metadata": {},
   "source": [
    "#Search\n",
    "This is the function that will return items that meet the requirements the user provided."
   ]
  },
  {
   "cell_type": "markdown",
   "metadata": {},
   "source": [
    "## Multiple Vector Search with ranking.\n",
    "\n",
    "Ok, how to surface the best matches? We have simplified the process of outlining requirements, by separating out items we want to look for. However, now we need to combine those outputs into one single listing. "
   ]
  },
  {
   "cell_type": "markdown",
   "metadata": {},
   "source": [
    "## Reciprocal Ranked Fusion (RRF)\n",
    "\n",
    "We perform a search across every keyword item. Then, we give each result a score based on the number of times it appears in the results. \n",
    "\n",
    "Some keywords will be marked 'absolute' - meaning that not being present in that keyword's list drops the item from the results entirely. "
   ]
  },
  {
   "cell_type": "code",
   "execution_count": 21,
   "metadata": {},
   "outputs": [],
   "source": [
    "#| export\n",
    "from hn_jobs_chat.keys import keys\n",
    "\n",
    "def format_job_result(job_listing):\n",
    "    job = {}\n",
    "    \n",
    "    for key in keys:\n",
    "        if key in job_listing:\n",
    "            job[key] = job_listing[key]\n",
    "\n",
    "    return job"
   ]
  },
  {
   "cell_type": "code",
   "execution_count": 22,
   "metadata": {},
   "outputs": [],
   "source": [
    "#| export \n",
    "from hn_jobs_chat.keys import keys\n",
    "\n",
    "def format_results(results):\n",
    "    formatted_results = []\n",
    "\n",
    "    for job_listing in results:\n",
    "        job = format_job_result(job_listing)\n",
    "\n",
    "        formatted_results.append(job)\n",
    "\n",
    "    return formatted_results\n"
   ]
  },
  {
   "cell_type": "code",
   "execution_count": 23,
   "metadata": {},
   "outputs": [
    {
     "data": {
      "text/plain": [
       "[{'company': 'Google',\n",
       "  'location': 'Mountain View, CA',\n",
       "  'job_title': 'Software Engineer'}]"
      ]
     },
     "execution_count": 23,
     "metadata": {},
     "output_type": "execute_result"
    }
   ],
   "source": [
    "\n",
    "results = [{ 'job_title': 'Software Engineer', 'company': 'Google', 'location': 'Mountain View, CA' }]\n",
    "\n",
    "format_results(results)"
   ]
  },
  {
   "cell_type": "code",
   "execution_count": 24,
   "metadata": {},
   "outputs": [
    {
     "data": {
      "text/plain": [
       "dict"
      ]
     },
     "execution_count": 24,
     "metadata": {},
     "output_type": "execute_result"
    }
   ],
   "source": [
    "thing = ({ 'title': 'Software Engineer', 'company': 'Google', 'location': 'Mountain View, CA' },)\n",
    "\n",
    "type(thing[0])"
   ]
  },
  {
   "cell_type": "code",
   "execution_count": 28,
   "metadata": {},
   "outputs": [
    {
     "data": {
      "text/plain": [
       "{'location': []}"
      ]
     },
     "execution_count": 28,
     "metadata": {},
     "output_type": "execute_result"
    }
   ],
   "source": [
    "#| default_exp search\n",
    "#| export\n",
    "import psycopg2\n",
    "\n",
    "month = \"july\"\n",
    "postsTableName = \"posts_\" + month\n",
    "\n",
    "conn = psycopg2.connect(\"dbname=Bumpant user=Bumpant password=ampegskb\")\n",
    "cursor = conn.cursor()\n",
    "\n",
    "def search(requirements):\n",
    "    initial_results = {}\n",
    "\n",
    "    for key in requirements.keys():\n",
    "        query = f\"SELECT row_to_json({postsTableName}) FROM {postsTableName} WHERE {key} = '{requirements[key]}' LIMIT 10;\"\n",
    "\n",
    "        print(query)\n",
    "        cursor.execute(query)\n",
    "\n",
    "        results = cursor.fetchall()\n",
    "\n",
    "        formatted_results = format_results(results)\n",
    "\n",
    "        initial_results[key] = formatted_results\n",
    "        \n",
    "        conn.commit()\n",
    "\n",
    "    return initial_results\n",
    "\n",
    "search({\n",
    "    \"location\": \"San Francisco\"\n",
    "})\n"
   ]
  },
  {
   "cell_type": "code",
   "execution_count": 26,
   "metadata": {},
   "outputs": [],
   "source": [
    "#| hide\n",
    "from nbdev import nbdev_export\n",
    "nbdev_export()"
   ]
  }
 ],
 "metadata": {
  "kernelspec": {
   "display_name": ".venv",
   "language": "python",
   "name": "python3"
  },
  "language_info": {
   "codemirror_mode": {
    "name": "ipython",
    "version": 3
   },
   "file_extension": ".py",
   "mimetype": "text/x-python",
   "name": "python",
   "nbconvert_exporter": "python",
   "pygments_lexer": "ipython3",
   "version": "3.12.1"
  }
 },
 "nbformat": 4,
 "nbformat_minor": 2
}
