{
 "cells": [
  {
   "cell_type": "code",
   "execution_count": null,
   "metadata": {},
   "outputs": [],
   "source": [
    "#| default_exp requirements"
   ]
  },
  {
   "cell_type": "code",
   "execution_count": null,
   "metadata": {},
   "outputs": [],
   "source": [
    "#| export\n",
    "from langchain_openai import ChatOpenAI\n",
    "\n",
    "model = ChatOpenAI()\n"
   ]
  },
  {
   "cell_type": "code",
   "execution_count": null,
   "metadata": {},
   "outputs": [],
   "source": [
    "#| export \n",
    "from langchain_core.prompts import ChatPromptTemplate, MessagesPlaceholder\n",
    "\n",
    "from hn_jobs_chat.keys import keys\n",
    "\n",
    "captureRequirementsPrompt = \"\"\"\n",
    "You are a requirements recorder, helping a job searcher, by recording the requirements they have in the following areas:\\n\\n\"\"\"+  \"\\n\".join(keys) + \"\"\"\\n\\n\n",
    " Listen to the user's message, and return a json object with two keys: 'new_requirements', and 'remove_requirements'. The first one listing new requirements that the user has stated, if any, and the other listing requirements the user wants to remove from the requirements list. Use only the  list of requirements above. Do not add any new types of requirement to the list. \n",
    "\n",
    "For example, if the user says \"I want a job in New York, you should return the following json object:\n",
    "\n",
    "{{\n",
    "  \"new_requirements\": {{\n",
    "    \"location\": \"New York\",\n",
    "  }},\n",
    "  \"remove_requirements\": {{\n",
    "  }}\n",
    "}}\n",
    "\n",
    "For example, if the user says \"I want a job in California, with a salary of 100k, and I don't want a job in Ohio\", you should return the following json object:\n",
    "\n",
    "{{\n",
    "  \"new_requirements\": {{\n",
    "    \"location\": \"New York\",\n",
    "    \"salary\": 100000\n",
    "  }},\n",
    "  \"remove_requirements\": {{\n",
    "    \"location\": \"Ohio\"\n",
    "  }}\n",
    "}}\n",
    "\n",
    "--------------------\\n\\n\n",
    "\"\"\"\n",
    "\n",
    "basePrompt = ChatPromptTemplate.from_messages(\n",
    "    [\n",
    "        (\n",
    "            \"system\",\n",
    "            captureRequirementsPrompt,\n",
    "        ),\n",
    "        MessagesPlaceholder(variable_name=\"messages\"),\n",
    "    ]\n",
    ")\n",
    "\n",
    "chain = basePrompt | model\n"
   ]
  },
  {
   "cell_type": "code",
   "execution_count": null,
   "metadata": {},
   "outputs": [],
   "source": [
    "#| export\n",
    "from langchain_core.messages import HumanMessage\n",
    "import json\n",
    "\n",
    "# Invoke the requirements bot with the user's message\n",
    "def getRequirementsResponse(input:str):\n",
    "    response = chain.invoke(input=[HumanMessage(input)])\n",
    "\n",
    "    json_response = json.loads(response.content)\n",
    "\n",
    "    return json_response\n"
   ]
  },
  {
   "cell_type": "code",
   "execution_count": null,
   "metadata": {},
   "outputs": [],
   "source": [
    "\n",
    "resp = getRequirementsResponse(\"I am looking for a software engineer job in Los Angeles, California\")\n",
    "\n",
    "resp"
   ]
  },
  {
   "cell_type": "code",
   "execution_count": null,
   "metadata": {},
   "outputs": [],
   "source": [
    "#| export\n",
    "from pydantic import BaseModel\n",
    "\n",
    "class requirementResponse(BaseModel):\n",
    "    new_requirements: dict\n",
    "    remove_requirements: dict\n"
   ]
  },
  {
   "cell_type": "code",
   "execution_count": null,
   "metadata": {},
   "outputs": [],
   "source": [
    "#| export\n",
    "# Return a lists of desired and undesired requirements\n",
    "def getRequirements(input:str) -> requirementResponse:\n",
    "    json_response = getRequirementsResponse(input)\n",
    "    validated_response = requirementResponse(**json_response)\n",
    "\n",
    "    return validated_response\n"
   ]
  },
  {
   "cell_type": "code",
   "execution_count": null,
   "metadata": {},
   "outputs": [],
   "source": [
    "import ipywidgets as widgets\n",
    "from IPython.display import display\n",
    "\n",
    "# Create input widgets\n",
    "text_input = widgets.Text()\n",
    "\n",
    "# Create a button\n",
    "submit_button = widgets.Button(description='Submit')\n",
    "\n",
    "# Define a function to handle form submission\n",
    "def handle_submit(button):\n",
    "   print(text_input.value)\n",
    "   response = getRequirements(text_input.value)\n",
    "   print(response)\n",
    "\n",
    "# Attach the function to the button's on_click event\n",
    "submit_button.on_click(handle_submit)\n",
    "\n",
    "# Display the form\n",
    "display(text_input, submit_button)"
   ]
  },
  {
   "cell_type": "code",
   "execution_count": null,
   "metadata": {},
   "outputs": [],
   "source": [
    "#| hide\n",
    "from nbdev import nbdev_export\n",
    "nbdev_export()"
   ]
  }
 ],
 "metadata": {
  "kernelspec": {
   "display_name": ".venv",
   "language": "python",
   "name": "python3"
  },
  "language_info": {
   "codemirror_mode": {
    "name": "ipython",
    "version": 3
   },
   "file_extension": ".py",
   "mimetype": "text/x-python",
   "name": "python",
   "nbconvert_exporter": "python",
   "pygments_lexer": "ipython3",
   "version": "3.12.1"
  }
 },
 "nbformat": 4,
 "nbformat_minor": 2
}
