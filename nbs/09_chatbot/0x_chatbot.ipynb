{
 "cells": [
  {
   "cell_type": "code",
   "execution_count": 1,
   "metadata": {},
   "outputs": [],
   "source": [
    "#| default_exp chatbot"
   ]
  },
  {
   "cell_type": "code",
   "execution_count": 2,
   "metadata": {},
   "outputs": [],
   "source": [
    "\n",
    "\n",
    "def getRequirementsPrompt():\n",
    "    return "
   ]
  },
  {
   "cell_type": "code",
   "execution_count": 3,
   "metadata": {},
   "outputs": [],
   "source": [
    "from hn_jobs_chat.requirements import  requirementResponse\n",
    "\n",
    "currentRequirements = {}\n",
    "\n",
    "def getCurrentRequirements(requirementsUpdate: requirementResponse): \n",
    "    new_requirements = requirementsUpdate.new_requirements\n",
    "    remove_requirements = requirementsUpdate.remove_requirements\n",
    "\n",
    "    for key in remove_requirements.keys():\n",
    "        if key in currentRequirements:\n",
    "            if currentRequirements[key] == new_requirements[key]: \n",
    "                currentRequirements[key] == None\n",
    "   \n",
    "    for key in new_requirements.keys():\n",
    "        currentRequirements[key] = new_requirements[key]\n",
    "\n",
    "    return currentRequirements\n",
    " \n",
    "    \n"
   ]
  },
  {
   "cell_type": "code",
   "execution_count": 4,
   "metadata": {},
   "outputs": [
    {
     "name": "stdout",
     "output_type": "stream",
     "text": [
      "<class 'hn_jobs_chat.requirements.requirementResponse'>\n",
      "requirementsUpdate new_requirements={'job_title': 'programmer'} remove_requirements={'location': 'Los Angeles'}\n",
      "requirementsUpdateCurrent {'job_title': 'programmer'}\n"
     ]
    },
    {
     "data": {
      "text/plain": [
       "{'job_title': 'programmer'}"
      ]
     },
     "execution_count": 4,
     "metadata": {},
     "output_type": "execute_result"
    }
   ],
   "source": [
    "from hn_jobs_chat.requirements import requirementResponse\n",
    "\n",
    "updateReq = { \n",
    "    'new_requirements': {\n",
    "        'job_title': 'programmer'\n",
    "    },\n",
    "    'remove_requirements': {\n",
    "        'location': 'Los Angeles'\n",
    "    }\n",
    "}\n",
    "\n",
    "updated = requirementResponse(**updateReq)\n",
    "\n",
    "current = getCurrentRequirements(updated)\n",
    "\n",
    "currentRequirements = {}\n",
    "\n",
    "current"
   ]
  },
  {
   "cell_type": "code",
   "execution_count": 5,
   "metadata": {},
   "outputs": [
    {
     "name": "stdout",
     "output_type": "stream",
     "text": [
      "SELECT row_to_json(posts_july) FROM posts_july WHERE location = 'San Francisco' LIMIT 10;\n"
     ]
    }
   ],
   "source": [
    "#| export\n",
    "\n",
    "from hn_jobs_chat.requirements import getRequirements, requirementResponse\n",
    "from hn_jobs_chat.search import search\n",
    "from hn_jobs_chat.chat import getChatResponse\n",
    "\n",
    "def getResponse(input:str) -> str:\n",
    "\n",
    "    # Parse the user's last comment into the current requirements\n",
    "    requirements: requirementResponse = getRequirements(input)\n",
    "    currentRequirements = getCurrentRequirements(requirements)\n",
    "    searchResults = search(currentRequirements)\n",
    "    response = getChatResponse(input, currentRequirements, searchResults)\n",
    "\n",
    "    return response\n",
    "    "
   ]
  },
  {
   "cell_type": "code",
   "execution_count": 7,
   "metadata": {},
   "outputs": [
    {
     "data": {
      "application/vnd.jupyter.widget-view+json": {
       "model_id": "8a59941c0aee47d3a0a650d57d4b5165",
       "version_major": 2,
       "version_minor": 0
      },
      "text/plain": [
       "Text(value='')"
      ]
     },
     "metadata": {},
     "output_type": "display_data"
    },
    {
     "data": {
      "application/vnd.jupyter.widget-view+json": {
       "model_id": "01dea7a09b8041c9b71253843536679c",
       "version_major": 2,
       "version_minor": 0
      },
      "text/plain": [
       "Button(description='Submit', style=ButtonStyle())"
      ]
     },
     "metadata": {},
     "output_type": "display_data"
    },
    {
     "name": "stdout",
     "output_type": "stream",
     "text": [
      "I'm looking for a job in san francisco.\n",
      "<class 'hn_jobs_chat.requirements.requirementResponse'>\n",
      "requirementsUpdate new_requirements={'location': 'San Francisco'} remove_requirements={}\n",
      "requirementsUpdateCurrent {'location': 'San Francisco'}\n",
      "SELECT row_to_json(posts_july) FROM posts_july WHERE location = 'San Francisco' LIMIT 10;\n",
      "('system', \"Human: Current search requirements are: {'location': 'San Francisco'}\")\n",
      "('system', 'Human: Search results meeting those requirements are: {\\'location\\': [{\\'company\\': \\'Shortwave\\', \\'location\\': \\'San Francisco\\', \\'timezone\\': None, \\'industry\\': None, \\'target_market\\': None, \\'company_status\\': None, \\'company_description\\': \\'Shortwave is building an email client with a built-in AI executive assistant.\\', \\'company_goal\\': \\'bringing the power of LLMs & a modern messaging UX to 4.5 billion email users.\\', \\'company_stage\\': None, \\'more_company_info\\': None, \\'employment_type\\': \\'Full-time\\', \\'remote_or_local_details\\': \\'ONSITE\\', \\'job_title\\': \\'Sr. Software Engineer\\', \\'job_description\\': \\'Help build the future by developing a modern email client with AI capabilities.\\', \\'job_requirements\\': \\'Strong CS fundamentals,App development experience,Generalist background,Scrappiness,Speed,Grit\\', \\'job_soft_skills\\': None, \\'product_description\\': \"An AI virtual assistant that has perfect knowledge of every message, attachment, receipt, newsletter, etc you\\'ve ever sent or received.\", \\'tech_stack\\': None, \\'application_process\\': None, \\'contact_email\\': \\'joinourteam@shortwave.com\\', \\'application_url\\': \\'https://www.shortwave.com/\\', \\'information_urls\\': \\'\\', \\'additional_notes\\': \\'The team consists mostly of ex-Google / ex-Firebase members.,Co-founded by a Firebase (YC S11) co-founder.\\', \\'compensation\\': \\'$140k-$215k base + generous equity\\'}, {\\'company\\': \\'Shortwave\\', \\'location\\': \\'San Francisco\\', \\'timezone\\': None, \\'industry\\': None, \\'target_market\\': None, \\'company_status\\': None, \\'company_description\\': \\'Shortwave is building an email client with a built-in AI executive assistant.\\', \\'company_goal\\': \\'bring the power of LLMs & a modern messaging UX to 4.5 billion email users.\\', \\'company_stage\\': None, \\'more_company_info\\': None, \\'employment_type\\': \\'Full-time\\', \\'remote_or_local_details\\': \\'ONSITE\\', \\'job_title\\': \\'Sr. Software Engineer\\', \\'job_description\\': \\'Imagine an AI virtual assistant that can answer questions about your email and act on your behalf.\\', \\'job_requirements\\': \\'generalists with strong CS fundamentals,app development experience,scrappiness,speed,grit\\', \\'job_soft_skills\\': None, \\'product_description\\': \"An AI virtual assistant with perfect knowledge of every message, attachment, receipt, newsletter, etc you\\'ve ever sent or received.\", \\'tech_stack\\': None, \\'application_process\\': \\'Email if interested: joinourteam@shortwave.com\\', \\'contact_email\\': \\'joinourteam@shortwave.com\\', \\'application_url\\': \\'https://www.shortwave.com/\\', \\'information_urls\\': None, \\'additional_notes\\': \\'The team is comprised of ex-Google / ex-Firebase personnel.,Willing to pay for the best talent.\\', \\'compensation\\': \\'$140k-$215k base + generous equity\\'}, {\\'company\\': \\'Agave\\', \\'location\\': \\'San Francisco\\', \\'timezone\\': None, \\'industry\\': None, \\'target_market\\': None, \\'company_status\\': None, \\'company_description\\': \\'A data-integration API and analytics platform for the construction industry.\\', \\'company_goal\\': \\'Building data infrastructure for the $12T construction industry.\\', \\'company_stage\\': \\'seed\\', \\'more_company_info\\': None, \\'employment_type\\': \\'Full-time\\', \\'remote_or_local_details\\': \\'Local only\\', \\'job_title\\': \\'Founding Engineer\\', \\'job_description\\': \\'Backend Engineer (4th hire) at a YC startup building data infrastructure.\\', \\'job_requirements\\': \\'1-5 years of experience,6+ years of experience\\', \\'job_soft_skills\\': None, \\'product_description\\': None, \\'tech_stack\\': \\'\\', \\'application_process\\': \\'Apply via the provided URL.\\', \\'contact_email\\': \\'\\', \\'application_url\\': \\'https://www.agaveapi.com/careers\\', \\'information_urls\\': \\'https://www.ycombinator.com/companies/agave/jobs/jryB4nr-sof...,https://www.ycombinator.com/companies/agave/jobs/6QgUaxJ-fou...\\', \\'additional_notes\\': \\'We’re a team of 7 who worked together for 9 years, first at Graphiq (acquired by Amazon) then at Alexa.,We raised $3M from YC, Accel (Facebook, Slack, Cloudera, Segment, etc.), founders of Plaid and Mailbox, and founders/execs at Procore, Autodesk, PlanGrid, Fieldwire, and others.,We recently hit a significant revenue milestone and have consistent 15% MoM revenue growth.\\', \\'compensation\\': \\'\\'}, {\\'company\\': \\'Agave\\', \\'location\\': \\'San Francisco\\', \\'timezone\\': None, \\'industry\\': None, \\'target_market\\': None, \\'company_status\\': None, \\'company_description\\': \\'A YC startup building data infrastructure for the $12T construction industry.\\', \\'company_goal\\': \\'To provide a data-integration API and analytics platform for the construction industry.\\', \\'company_stage\\': \\'startup\\', \\'more_company_info\\': None, \\'employment_type\\': \\'Full-time\\', \\'remote_or_local_details\\': \\'Local only\\', \\'job_title\\': \\'Founding Engineer\\', \\'job_description\\': \\'Backend Engineer (4th hire) at YC startup building data infra for the $12T construction industry.\\', \\'job_requirements\\': \\'1-5 Years Experience,6+ Years Experience\\', \\'job_soft_skills\\': None, \\'product_description\\': None, \\'tech_stack\\': None, \\'application_process\\': None, \\'contact_email\\': None, \\'application_url\\': \\'https://www.agaveapi.com/careers\\', \\'information_urls\\': \\'https://www.ycombinator.com/companies/agave/jobs/jryB4nr-sof...,https://www.ycombinator.com/companies/agave/jobs/6QgUaxJ-fou...\\', \\'additional_notes\\': \\'We’re a team of 7 who worked together for 9 years, first at Graphiq (acq. by Amazon) then at Alexa.,We raised $3M from YC, Accel (Facebook, Slack, Cloudera, Segment, etc.), founders of Plaid and Mailbox, and founders/execs at Procore, Autodesk, PlanGrid, Fieldwire, and others.,We recently hit a significant revenue milestone and have consistent 15% MoM revenue growth.\\', \\'compensation\\': None}]}')\n",
      "content=\"I'm looking for a job in San Francisco\"\n",
      "content='I found a couple of job opportunities in San Francisco for you:\\n\\n1. **Company:** Shortwave  \\n   **Job Title:** Sr. Software Engineer  \\n   **Description:** Help build a modern email client with AI capabilities.  \\n   **Requirements:** Strong CS fundamentals, app development experience, generalist background, scrappiness, speed, grit  \\n   **Compensation:** $140k-$215k base + generous equity  \\n   **Application:** [Apply here](https://www.shortwave.com/)  \\n\\n2. **Company:** Agave  \\n   **Job Title:** Founding Engineer  \\n   **Description:** Backend Engineer at a YC startup building data infrastructure for the construction industry.  \\n   **Requirements:** 1-5 years of experience, 6+ years of experience  \\n   **Compensation:** Not specified  \\n   **Application:** [Apply here](https://www.agaveapi.com/careers)  \\n\\nLet me know if you would like more information about any of these positions.' response_metadata={'token_usage': {'completion_tokens': 200, 'prompt_tokens': 1508, 'total_tokens': 1708}, 'model_name': 'gpt-3.5-turbo-0125', 'system_fingerprint': None, 'finish_reason': 'stop', 'logprobs': None} id='run-da493b3f-5cb9-40ad-8009-9b759ce876ae-0' usage_metadata={'input_tokens': 1508, 'output_tokens': 200, 'total_tokens': 1708}\n",
      "I found a couple of job opportunities in San Francisco for you:\n",
      "\n",
      "1. **Company:** Shortwave  \n",
      "   **Job Title:** Sr. Software Engineer  \n",
      "   **Description:** Help build a modern email client with AI capabilities.  \n",
      "   **Requirements:** Strong CS fundamentals, app development experience, generalist background, scrappiness, speed, grit  \n",
      "   **Compensation:** $140k-$215k base + generous equity  \n",
      "   **Application:** [Apply here](https://www.shortwave.com/)  \n",
      "\n",
      "2. **Company:** Agave  \n",
      "   **Job Title:** Founding Engineer  \n",
      "   **Description:** Backend Engineer at a YC startup building data infrastructure for the construction industry.  \n",
      "   **Requirements:** 1-5 years of experience, 6+ years of experience  \n",
      "   **Compensation:** Not specified  \n",
      "   **Application:** [Apply here](https://www.agaveapi.com/careers)  \n",
      "\n",
      "Let me know if you would like more information about any of these positions.\n",
      "Tell me more about the company Agave\n",
      "<class 'hn_jobs_chat.requirements.requirementResponse'>\n",
      "requirementsUpdate new_requirements={'company': 'Agave'} remove_requirements={}\n",
      "requirementsUpdateCurrent {'location': 'San Francisco', 'company': 'Agave'}\n",
      "SELECT row_to_json(posts_july) FROM posts_july WHERE location = 'San Francisco' LIMIT 10;\n",
      "SELECT row_to_json(posts_july) FROM posts_july WHERE company = 'Agave' LIMIT 10;\n",
      "('system', 'Human: Search results meeting those requirements are: {\\'location\\': [{\\'company\\': \\'Shortwave\\', \\'location\\': \\'San Francisco\\', \\'timezone\\': None, \\'industry\\': None, \\'target_market\\': None, \\'company_status\\': None, \\'company_description\\': \\'Shortwave is building an email client with a built-in AI executive assistant.\\', \\'company_goal\\': \\'bringing the power of LLMs & a modern messaging UX to 4.5 billion email users.\\', \\'company_stage\\': None, \\'more_company_info\\': None, \\'employment_type\\': \\'Full-time\\', \\'remote_or_local_details\\': \\'ONSITE\\', \\'job_title\\': \\'Sr. Software Engineer\\', \\'job_description\\': \\'Help build the future by developing a modern email client with AI capabilities.\\', \\'job_requirements\\': \\'Strong CS fundamentals,App development experience,Generalist background,Scrappiness,Speed,Grit\\', \\'job_soft_skills\\': None, \\'product_description\\': \"An AI virtual assistant that has perfect knowledge of every message, attachment, receipt, newsletter, etc you\\'ve ever sent or received.\", \\'tech_stack\\': None, \\'application_process\\': None, \\'contact_email\\': \\'joinourteam@shortwave.com\\', \\'application_url\\': \\'https://www.shortwave.com/\\', \\'information_urls\\': \\'\\', \\'additional_notes\\': \\'The team consists mostly of ex-Google / ex-Firebase members.,Co-founded by a Firebase (YC S11) co-founder.\\', \\'compensation\\': \\'$140k-$215k base + generous equity\\'}, {\\'company\\': \\'Shortwave\\', \\'location\\': \\'San Francisco\\', \\'timezone\\': None, \\'industry\\': None, \\'target_market\\': None, \\'company_status\\': None, \\'company_description\\': \\'Shortwave is building an email client with a built-in AI executive assistant.\\', \\'company_goal\\': \\'bring the power of LLMs & a modern messaging UX to 4.5 billion email users.\\', \\'company_stage\\': None, \\'more_company_info\\': None, \\'employment_type\\': \\'Full-time\\', \\'remote_or_local_details\\': \\'ONSITE\\', \\'job_title\\': \\'Sr. Software Engineer\\', \\'job_description\\': \\'Imagine an AI virtual assistant that can answer questions about your email and act on your behalf.\\', \\'job_requirements\\': \\'generalists with strong CS fundamentals,app development experience,scrappiness,speed,grit\\', \\'job_soft_skills\\': None, \\'product_description\\': \"An AI virtual assistant with perfect knowledge of every message, attachment, receipt, newsletter, etc you\\'ve ever sent or received.\", \\'tech_stack\\': None, \\'application_process\\': \\'Email if interested: joinourteam@shortwave.com\\', \\'contact_email\\': \\'joinourteam@shortwave.com\\', \\'application_url\\': \\'https://www.shortwave.com/\\', \\'information_urls\\': None, \\'additional_notes\\': \\'The team is comprised of ex-Google / ex-Firebase personnel.,Willing to pay for the best talent.\\', \\'compensation\\': \\'$140k-$215k base + generous equity\\'}, {\\'company\\': \\'Agave\\', \\'location\\': \\'San Francisco\\', \\'timezone\\': None, \\'industry\\': None, \\'target_market\\': None, \\'company_status\\': None, \\'company_description\\': \\'A data-integration API and analytics platform for the construction industry.\\', \\'company_goal\\': \\'Building data infrastructure for the $12T construction industry.\\', \\'company_stage\\': \\'seed\\', \\'more_company_info\\': None, \\'employment_type\\': \\'Full-time\\', \\'remote_or_local_details\\': \\'Local only\\', \\'job_title\\': \\'Founding Engineer\\', \\'job_description\\': \\'Backend Engineer (4th hire) at a YC startup building data infrastructure.\\', \\'job_requirements\\': \\'1-5 years of experience,6+ years of experience\\', \\'job_soft_skills\\': None, \\'product_description\\': None, \\'tech_stack\\': \\'\\', \\'application_process\\': \\'Apply via the provided URL.\\', \\'contact_email\\': \\'\\', \\'application_url\\': \\'https://www.agaveapi.com/careers\\', \\'information_urls\\': \\'https://www.ycombinator.com/companies/agave/jobs/jryB4nr-sof...,https://www.ycombinator.com/companies/agave/jobs/6QgUaxJ-fou...\\', \\'additional_notes\\': \\'We’re a team of 7 who worked together for 9 years, first at Graphiq (acquired by Amazon) then at Alexa.,We raised $3M from YC, Accel (Facebook, Slack, Cloudera, Segment, etc.), founders of Plaid and Mailbox, and founders/execs at Procore, Autodesk, PlanGrid, Fieldwire, and others.,We recently hit a significant revenue milestone and have consistent 15% MoM revenue growth.\\', \\'compensation\\': \\'\\'}, {\\'company\\': \\'Agave\\', \\'location\\': \\'San Francisco\\', \\'timezone\\': None, \\'industry\\': None, \\'target_market\\': None, \\'company_status\\': None, \\'company_description\\': \\'A YC startup building data infrastructure for the $12T construction industry.\\', \\'company_goal\\': \\'To provide a data-integration API and analytics platform for the construction industry.\\', \\'company_stage\\': \\'startup\\', \\'more_company_info\\': None, \\'employment_type\\': \\'Full-time\\', \\'remote_or_local_details\\': \\'Local only\\', \\'job_title\\': \\'Founding Engineer\\', \\'job_description\\': \\'Backend Engineer (4th hire) at YC startup building data infra for the $12T construction industry.\\', \\'job_requirements\\': \\'1-5 Years Experience,6+ Years Experience\\', \\'job_soft_skills\\': None, \\'product_description\\': None, \\'tech_stack\\': None, \\'application_process\\': None, \\'contact_email\\': None, \\'application_url\\': \\'https://www.agaveapi.com/careers\\', \\'information_urls\\': \\'https://www.ycombinator.com/companies/agave/jobs/jryB4nr-sof...,https://www.ycombinator.com/companies/agave/jobs/6QgUaxJ-fou...\\', \\'additional_notes\\': \\'We’re a team of 7 who worked together for 9 years, first at Graphiq (acq. by Amazon) then at Alexa.,We raised $3M from YC, Accel (Facebook, Slack, Cloudera, Segment, etc.), founders of Plaid and Mailbox, and founders/execs at Procore, Autodesk, PlanGrid, Fieldwire, and others.,We recently hit a significant revenue milestone and have consistent 15% MoM revenue growth.\\', \\'compensation\\': None}]}')\n",
      "content=\"I'm looking for a job in San Francisco\"\n",
      "content='I found a couple of job opportunities in San Francisco for you:\\n\\n1. **Company:** Shortwave  \\n   **Job Title:** Sr. Software Engineer  \\n   **Description:** Help build a modern email client with AI capabilities.  \\n   **Requirements:** Strong CS fundamentals, app development experience, generalist background, scrappiness, speed, grit  \\n   **Compensation:** $140k-$215k base + generous equity  \\n   **Application:** [Apply here](https://www.shortwave.com/)  \\n\\n2. **Company:** Agave  \\n   **Job Title:** Founding Engineer  \\n   **Description:** Backend Engineer at a YC startup building data infrastructure for the construction industry.  \\n   **Requirements:** 1-5 years of experience, 6+ years of experience  \\n   **Compensation:** Not specified  \\n   **Application:** [Apply here](https://www.agaveapi.com/careers)  \\n\\nLet me know if you would like more information about any of these positions.' response_metadata={'token_usage': {'completion_tokens': 200, 'prompt_tokens': 1508, 'total_tokens': 1708}, 'model_name': 'gpt-3.5-turbo-0125', 'system_fingerprint': None, 'finish_reason': 'stop', 'logprobs': None} id='run-da493b3f-5cb9-40ad-8009-9b759ce876ae-0' usage_metadata={'input_tokens': 1508, 'output_tokens': 200, 'total_tokens': 1708}\n",
      "('system', \"Human: Current search requirements are: {'location': 'San Francisco'}\")\n",
      "('system', 'Human: Search results meeting those requirements are: {\\'location\\': [{\\'company\\': \\'Shortwave\\', \\'location\\': \\'San Francisco\\', \\'timezone\\': None, \\'industry\\': None, \\'target_market\\': None, \\'company_status\\': None, \\'company_description\\': \\'Shortwave is building an email client with a built-in AI executive assistant.\\', \\'company_goal\\': \\'bringing the power of LLMs & a modern messaging UX to 4.5 billion email users.\\', \\'company_stage\\': None, \\'more_company_info\\': None, \\'employment_type\\': \\'Full-time\\', \\'remote_or_local_details\\': \\'ONSITE\\', \\'job_title\\': \\'Sr. Software Engineer\\', \\'job_description\\': \\'Help build the future by developing a modern email client with AI capabilities.\\', \\'job_requirements\\': \\'Strong CS fundamentals,App development experience,Generalist background,Scrappiness,Speed,Grit\\', \\'job_soft_skills\\': None, \\'product_description\\': \"An AI virtual assistant that has perfect knowledge of every message, attachment, receipt, newsletter, etc you\\'ve ever sent or received.\", \\'tech_stack\\': None, \\'application_process\\': None, \\'contact_email\\': \\'joinourteam@shortwave.com\\', \\'application_url\\': \\'https://www.shortwave.com/\\', \\'information_urls\\': \\'\\', \\'additional_notes\\': \\'The team consists mostly of ex-Google / ex-Firebase members.,Co-founded by a Firebase (YC S11) co-founder.\\', \\'compensation\\': \\'$140k-$215k base + generous equity\\'}, {\\'company\\': \\'Shortwave\\', \\'location\\': \\'San Francisco\\', \\'timezone\\': None, \\'industry\\': None, \\'target_market\\': None, \\'company_status\\': None, \\'company_description\\': \\'Shortwave is building an email client with a built-in AI executive assistant.\\', \\'company_goal\\': \\'bring the power of LLMs & a modern messaging UX to 4.5 billion email users.\\', \\'company_stage\\': None, \\'more_company_info\\': None, \\'employment_type\\': \\'Full-time\\', \\'remote_or_local_details\\': \\'ONSITE\\', \\'job_title\\': \\'Sr. Software Engineer\\', \\'job_description\\': \\'Imagine an AI virtual assistant that can answer questions about your email and act on your behalf.\\', \\'job_requirements\\': \\'generalists with strong CS fundamentals,app development experience,scrappiness,speed,grit\\', \\'job_soft_skills\\': None, \\'product_description\\': \"An AI virtual assistant with perfect knowledge of every message, attachment, receipt, newsletter, etc you\\'ve ever sent or received.\", \\'tech_stack\\': None, \\'application_process\\': \\'Email if interested: joinourteam@shortwave.com\\', \\'contact_email\\': \\'joinourteam@shortwave.com\\', \\'application_url\\': \\'https://www.shortwave.com/\\', \\'information_urls\\': None, \\'additional_notes\\': \\'The team is comprised of ex-Google / ex-Firebase personnel.,Willing to pay for the best talent.\\', \\'compensation\\': \\'$140k-$215k base + generous equity\\'}, {\\'company\\': \\'Agave\\', \\'location\\': \\'San Francisco\\', \\'timezone\\': None, \\'industry\\': None, \\'target_market\\': None, \\'company_status\\': None, \\'company_description\\': \\'A data-integration API and analytics platform for the construction industry.\\', \\'company_goal\\': \\'Building data infrastructure for the $12T construction industry.\\', \\'company_stage\\': \\'seed\\', \\'more_company_info\\': None, \\'employment_type\\': \\'Full-time\\', \\'remote_or_local_details\\': \\'Local only\\', \\'job_title\\': \\'Founding Engineer\\', \\'job_description\\': \\'Backend Engineer (4th hire) at a YC startup building data infrastructure.\\', \\'job_requirements\\': \\'1-5 years of experience,6+ years of experience\\', \\'job_soft_skills\\': None, \\'product_description\\': None, \\'tech_stack\\': \\'\\', \\'application_process\\': \\'Apply via the provided URL.\\', \\'contact_email\\': \\'\\', \\'application_url\\': \\'https://www.agaveapi.com/careers\\', \\'information_urls\\': \\'https://www.ycombinator.com/companies/agave/jobs/jryB4nr-sof...,https://www.ycombinator.com/companies/agave/jobs/6QgUaxJ-fou...\\', \\'additional_notes\\': \\'We’re a team of 7 who worked together for 9 years, first at Graphiq (acquired by Amazon) then at Alexa.,We raised $3M from YC, Accel (Facebook, Slack, Cloudera, Segment, etc.), founders of Plaid and Mailbox, and founders/execs at Procore, Autodesk, PlanGrid, Fieldwire, and others.,We recently hit a significant revenue milestone and have consistent 15% MoM revenue growth.\\', \\'compensation\\': \\'\\'}, {\\'company\\': \\'Agave\\', \\'location\\': \\'San Francisco\\', \\'timezone\\': None, \\'industry\\': None, \\'target_market\\': None, \\'company_status\\': None, \\'company_description\\': \\'A YC startup building data infrastructure for the $12T construction industry.\\', \\'company_goal\\': \\'To provide a data-integration API and analytics platform for the construction industry.\\', \\'company_stage\\': \\'startup\\', \\'more_company_info\\': None, \\'employment_type\\': \\'Full-time\\', \\'remote_or_local_details\\': \\'Local only\\', \\'job_title\\': \\'Founding Engineer\\', \\'job_description\\': \\'Backend Engineer (4th hire) at YC startup building data infra for the $12T construction industry.\\', \\'job_requirements\\': \\'1-5 Years Experience,6+ Years Experience\\', \\'job_soft_skills\\': None, \\'product_description\\': None, \\'tech_stack\\': None, \\'application_process\\': None, \\'contact_email\\': None, \\'application_url\\': \\'https://www.agaveapi.com/careers\\', \\'information_urls\\': \\'https://www.ycombinator.com/companies/agave/jobs/jryB4nr-sof...,https://www.ycombinator.com/companies/agave/jobs/6QgUaxJ-fou...\\', \\'additional_notes\\': \\'We’re a team of 7 who worked together for 9 years, first at Graphiq (acq. by Amazon) then at Alexa.,We raised $3M from YC, Accel (Facebook, Slack, Cloudera, Segment, etc.), founders of Plaid and Mailbox, and founders/execs at Procore, Autodesk, PlanGrid, Fieldwire, and others.,We recently hit a significant revenue milestone and have consistent 15% MoM revenue growth.\\', \\'compensation\\': None}]}')\n",
      "content=\"I'm looking for a job in san francisco.\"\n",
      "content='I found a couple of job opportunities in San Francisco for you:\\n\\n1. **Company:** Shortwave  \\n   **Job Title:** Sr. Software Engineer  \\n   **Description:** Help build a modern email client with AI capabilities.  \\n   **Requirements:** Strong CS fundamentals, app development experience, generalist background, scrappiness, speed, grit  \\n   **Compensation:** $140k-$215k base + generous equity  \\n   **Application:** [Apply here](https://www.shortwave.com/)  \\n\\n2. **Company:** Agave  \\n   **Job Title:** Founding Engineer  \\n   **Description:** Backend Engineer at a YC startup building data infrastructure for the construction industry.  \\n   **Requirements:** 1-5 years of experience, 6+ years of experience  \\n   **Compensation:** Not specified  \\n   **Application:** [Apply here](https://www.agaveapi.com/careers)  \\n\\nLet me know if you would like more information about any of these positions.' response_metadata={'token_usage': {'completion_tokens': 200, 'prompt_tokens': 3069, 'total_tokens': 3269}, 'model_name': 'gpt-3.5-turbo-0125', 'system_fingerprint': None, 'finish_reason': 'stop', 'logprobs': None} id='run-1af21c7f-c44c-41d8-8da2-90bad6f79677-0' usage_metadata={'input_tokens': 3069, 'output_tokens': 200, 'total_tokens': 3269}\n",
      "Here is more information about Agave:\n",
      "\n",
      "**Company Name:** Agave  \n",
      "**Location:** San Francisco  \n",
      "**Description:** Agave is a data-integration API and analytics platform focusing on the construction industry.  \n",
      "**Company Goal:** Building data infrastructure for the $12 trillion construction industry.  \n",
      "**Company Stage:** Seed (startup)  \n",
      "**Employment Type:** Full-time  \n",
      "**Location Details:** Local only  \n",
      "**Additional Notes:**  \n",
      "- The team consists of 7 members who have worked together for 9 years, previously at Graphiq (acquired by Amazon) and then at Alexa.  \n",
      "- They have raised $3 million from Y Combinator, Accel, and other notable investors.  \n",
      "- Recently achieved a significant revenue milestone with consistent 15% month-over-month growth.  \n",
      "\n",
      "If you are interested in a position at Agave as a Founding Engineer, you can apply via the provided URL: [Agave Careers](https://www.agaveapi.com/careers).\n"
     ]
    }
   ],
   "source": [
    "import ipywidgets as widgets\n",
    "from IPython.display import display\n",
    "\n",
    "currentRequirements = {}\n",
    "\n",
    "# Create input widgets\n",
    "text_input = widgets.Text()\n",
    "\n",
    "# Create a button\n",
    "submit_button = widgets.Button(description='Submit')\n",
    "\n",
    "\n",
    "# Define a function to handle form submission\n",
    "def handle_submit(button):\n",
    "    print(text_input.value)\n",
    "    response = getResponse(text_input.value)\n",
    "    print(response)\n",
    "\n",
    "# Attach the function to the button's on_click event\n",
    "submit_button.on_click(handle_submit)\n",
    "\n",
    "# Display the form\n",
    "display(text_input, submit_button)\n"
   ]
  },
  {
   "cell_type": "code",
   "execution_count": 8,
   "metadata": {},
   "outputs": [
    {
     "name": "stdout",
     "output_type": "stream",
     "text": [
      "<class 'hn_jobs_chat.requirements.requirementResponse'>\n",
      "requirementsUpdate new_requirements={'location': 'San Francisco'} remove_requirements={}\n",
      "requirementsUpdateCurrent {'location': 'San Francisco'}\n",
      "SELECT row_to_json(posts_july) FROM posts_july WHERE location = 'San Francisco' LIMIT 10;\n"
     ]
    },
    {
     "data": {
      "text/plain": [
       "'I found a couple of job opportunities in San Francisco for you:\\n\\n1. **Company:** Shortwave  \\n   **Job Title:** Sr. Software Engineer  \\n   **Description:** Help build a modern email client with AI capabilities.  \\n   **Requirements:** Strong CS fundamentals, app development experience, generalist background, scrappiness, speed, grit  \\n   **Compensation:** $140k-$215k base + generous equity  \\n   **Application:** [Apply here](https://www.shortwave.com/)  \\n\\n2. **Company:** Agave  \\n   **Job Title:** Founding Engineer  \\n   **Description:** Backend Engineer at a YC startup building data infrastructure for the construction industry.  \\n   **Requirements:** 1-5 years of experience, 6+ years of experience  \\n   **Compensation:** Not specified  \\n   **Application:** [Apply here](https://www.agaveapi.com/careers)  \\n\\nLet me know if you would like more information about any of these positions.'"
      ]
     },
     "execution_count": 8,
     "metadata": {},
     "output_type": "execute_result"
    }
   ],
   "source": [
    "prompt = \"I'm looking for a job in San Francisco\"\n",
    "\n",
    "response = getResponse(prompt)\n",
    "\n",
    "response"
   ]
  },
  {
   "cell_type": "code",
   "execution_count": 9,
   "metadata": {},
   "outputs": [],
   "source": [
    "#| hide\n",
    "from nbdev import nbdev_export\n",
    "nbdev_export()"
   ]
  }
 ],
 "metadata": {
  "kernelspec": {
   "display_name": ".venv",
   "language": "python",
   "name": "python3"
  },
  "language_info": {
   "codemirror_mode": {
    "name": "ipython",
    "version": 3
   },
   "file_extension": ".py",
   "mimetype": "text/x-python",
   "name": "python",
   "nbconvert_exporter": "python",
   "pygments_lexer": "ipython3",
   "version": "3.12.1"
  }
 },
 "nbformat": 4,
 "nbformat_minor": 2
}
