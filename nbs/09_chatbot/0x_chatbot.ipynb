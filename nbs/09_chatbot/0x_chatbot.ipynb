{
 "cells": [
  {
   "cell_type": "code",
   "execution_count": 23,
   "metadata": {},
   "outputs": [],
   "source": [
    "#| default_exp chatbot"
   ]
  },
  {
   "cell_type": "code",
   "execution_count": 24,
   "metadata": {},
   "outputs": [],
   "source": [
    "\n",
    "\n",
    "def getRequirementsPrompt():\n",
    "    return "
   ]
  },
  {
   "cell_type": "code",
   "execution_count": null,
   "metadata": {},
   "outputs": [],
   "source": []
  },
  {
   "cell_type": "code",
   "execution_count": 25,
   "metadata": {},
   "outputs": [],
   "source": [
    "#| export\n",
    "from hn_jobs_chat.requirements import  requirementResponse\n",
    "\n",
    "current_requirements = {}\n",
    "\n",
    "def updateCurrentRequirements(requirementsUpdate: requirementResponse): \n",
    "    new_requirements = requirementsUpdate.new_requirements\n",
    "    remove_requirements = requirementsUpdate.remove_requirements\n",
    "\n",
    "    # Remove requirements\n",
    "    for key in remove_requirements.keys():\n",
    "        if key in current_requirements.keys():\n",
    "            if isinstance(current_requirements[key], list):\n",
    "                current_requirements[key] = [item for item in current_requirements[key] if item != remove_requirements[key]]\n",
    "            else:\n",
    "                del current_requirements[key]\n",
    "   \n",
    "    # Add requirements\n",
    "    for key in new_requirements.keys():\n",
    "        if isinstance(current_requirements.get(key), list):\n",
    "            current_requirements[key].append(new_requirements[key])\n",
    "        else:\n",
    "            current_requirements[key] = new_requirements[key]\n",
    "\n",
    "    return current_requirements\n",
    "     \n",
    "    \n",
    "def getCurrentRequirements():\n",
    "    return current_requirements"
   ]
  },
  {
   "cell_type": "code",
   "execution_count": 26,
   "metadata": {},
   "outputs": [
    {
     "data": {
      "text/plain": [
       "{'job_title': 'programmer'}"
      ]
     },
     "execution_count": 26,
     "metadata": {},
     "output_type": "execute_result"
    }
   ],
   "source": [
    "from hn_jobs_chat.requirements import requirementResponse\n",
    "\n",
    "updateReq = { \n",
    "    'new_requirements': {\n",
    "        'job_title': 'programmer'\n",
    "    },\n",
    "    'remove_requirements': {\n",
    "        'location': 'Los Angeles'\n",
    "    }\n",
    "}\n",
    "\n",
    "updated = requirementResponse(**updateReq)\n",
    "\n",
    "current = updateCurrentRequirements(updated)\n",
    "\n",
    "currentRequirements = {}\n",
    "\n",
    "current"
   ]
  },
  {
   "cell_type": "code",
   "execution_count": 27,
   "metadata": {},
   "outputs": [],
   "source": [
    "#| export\n",
    "\n",
    "from hn_jobs_chat.requirements import getRequirements, requirementResponse\n",
    "from hn_jobs_chat.search import search\n",
    "from hn_jobs_chat.chat import getChatResponse\n",
    "\n",
    "def getResponse(input:str) -> str:\n",
    "\n",
    "    # Parse the user's last comment into the current requirements\n",
    "    requirements: requirementResponse = getRequirements(input)\n",
    "    currentRequirements = updateCurrentRequirements(requirements)\n",
    "    searchResults = search(currentRequirements)\n",
    "    response = getChatResponse(input, currentRequirements, searchResults)\n",
    "\n",
    "    return response, currentRequirements\n",
    "    "
   ]
  },
  {
   "cell_type": "code",
   "execution_count": 28,
   "metadata": {},
   "outputs": [
    {
     "data": {
      "application/vnd.jupyter.widget-view+json": {
       "model_id": "022913b366034588b595fc4f2c696b51",
       "version_major": 2,
       "version_minor": 0
      },
      "text/plain": [
       "Text(value='')"
      ]
     },
     "metadata": {},
     "output_type": "display_data"
    },
    {
     "data": {
      "application/vnd.jupyter.widget-view+json": {
       "model_id": "2fd0585afbac40d28d56f90ec712570f",
       "version_major": 2,
       "version_minor": 0
      },
      "text/plain": [
       "Button(description='Submit', style=ButtonStyle())"
      ]
     },
     "metadata": {},
     "output_type": "display_data"
    }
   ],
   "source": [
    "import ipywidgets as widgets\n",
    "from IPython.display import display\n",
    "\n",
    "currentRequirements = {}\n",
    "\n",
    "# Create input widgets\n",
    "text_input = widgets.Text()\n",
    "\n",
    "# Create a button\n",
    "submit_button = widgets.Button(description='Submit')\n",
    "\n",
    "\n",
    "# Define a function to handle form submission\n",
    "def handle_submit(button):\n",
    "    print(text_input.value)\n",
    "    response = getResponse(text_input.value)\n",
    "    print(response)\n",
    "\n",
    "# Attach the function to the button's on_click event\n",
    "submit_button.on_click(handle_submit)\n",
    "\n",
    "# Display the form\n",
    "display(text_input, submit_button)\n"
   ]
  },
  {
   "cell_type": "code",
   "execution_count": 29,
   "metadata": {},
   "outputs": [
    {
     "data": {
      "text/plain": [
       "('It seems like there are no specific job postings for a \"programmer\" in San Francisco in the current search results. However, there are a couple of tech-related job opportunities in San Francisco that you might be interested in:\\n\\n1. **Shortwave** is looking for a **Sr. Software Engineer** to help build an email client with a built-in AI executive assistant. They are seeking candidates with strong CS fundamentals, app development experience, and other qualities. The compensation is $140k-$215k base + generous equity. You can find more information and apply [here](https://www.shortwave.com/).\\n\\n2. **Agave** is seeking a **Founding Engineer** for their YC startup that is building data infrastructure for the construction industry. This role involves Backend Engineering and requires 1-5 years of experience. You can apply [here](https://www.agaveapi.com/careers).\\n\\nThese roles might align with your skills and interests. Let me know if you would like more details on any of these positions or if you need assistance with anything else.',\n",
       " {'job_title': 'programmer', 'location': 'San Francisco'})"
      ]
     },
     "execution_count": 29,
     "metadata": {},
     "output_type": "execute_result"
    }
   ],
   "source": [
    "prompt = \"I'm looking for a job in San Francisco\"\n",
    "\n",
    "response = getResponse(prompt)\n",
    "\n",
    "response"
   ]
  },
  {
   "cell_type": "code",
   "execution_count": 30,
   "metadata": {},
   "outputs": [
    {
     "name": "stdout",
     "output_type": "stream",
     "text": [
      "It looks like there are no specific job postings for a \"programmer\" in San Francisco in the current search results. However, there are a couple of tech-related job opportunities in San Francisco that you might be interested in:\n",
      "\n",
      "1. **Shortwave** is looking for a **Sr. Software Engineer** to help build an email client with a built-in AI executive assistant. The role involves developing a modern email client with AI capabilities. They are seeking candidates with strong CS fundamentals, app development experience, and other qualities. The compensation is $140k-$215k base + generous equity. You can find more information and apply [here](https://www.shortwave.com/).\n",
      "\n",
      "2. **Agave** is seeking a **Founding Engineer** for their YC startup that is building data infrastructure for the construction industry. This role is for a Backend Engineer (4th hire) and requires 1-5 years of experience. You can apply [here](https://www.agaveapi.com/careers).\n",
      "\n",
      "These roles might align with your skills and interests. Let me know if you would like more details on any of these positions or if you need assistance with anything else.\n",
      "{'job_title': 'programmer', 'location': 'San Francisco'}\n"
     ]
    }
   ],
   "source": [
    "def test_chatbot():\n",
    "    response, requirements = getResponse(\"I am looking for a job in San Francisco\")\n",
    "    print(response)\n",
    "    print(requirements)\n",
    "\n",
    "test_chatbot()"
   ]
  },
  {
   "cell_type": "code",
   "execution_count": 32,
   "metadata": {},
   "outputs": [],
   "source": [
    "#| hide\n",
    "from nbdev import nbdev_export\n",
    "nbdev_export()"
   ]
  }
 ],
 "metadata": {
  "kernelspec": {
   "display_name": ".venv",
   "language": "python",
   "name": "python3"
  },
  "language_info": {
   "codemirror_mode": {
    "name": "ipython",
    "version": 3
   },
   "file_extension": ".py",
   "mimetype": "text/x-python",
   "name": "python",
   "nbconvert_exporter": "python",
   "pygments_lexer": "ipython3",
   "version": "3.12.1"
  }
 },
 "nbformat": 4,
 "nbformat_minor": 2
}
