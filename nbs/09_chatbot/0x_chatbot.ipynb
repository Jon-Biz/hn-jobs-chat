{
 "cells": [
  {
   "cell_type": "code",
   "execution_count": 15,
   "metadata": {},
   "outputs": [],
   "source": [
    "#| default_exp chatbot"
   ]
  },
  {
   "cell_type": "code",
   "execution_count": 16,
   "metadata": {},
   "outputs": [],
   "source": [
    "\n",
    "\n",
    "def getRequirementsPrompt():\n",
    "    return "
   ]
  },
  {
   "cell_type": "code",
   "execution_count": 17,
   "metadata": {},
   "outputs": [],
   "source": [
    "from hn_jobs_chat.requirements import  requirementResponse\n",
    "\n",
    "currentRequirements = {}\n",
    "\n",
    "def getCurrentRequirements(requirementsUpdate: requirementResponse): \n",
    "\n",
    "    print(type(requirementsUpdate))\n",
    "    print(requirementsUpdate)\n",
    "\n",
    "    new_requirements = requirementsUpdate.new_requirements\n",
    "    remove_requirements = requirementsUpdate.remove_requirements\n",
    "\n",
    "    for key in remove_requirements.keys():\n",
    "        if key in currentRequirements:\n",
    "            if currentRequirements[key] == new_requirements[key]: \n",
    "                currentRequirements[key] == None\n",
    "   \n",
    "    for key in new_requirements.keys():\n",
    "        if key in currentRequirements:\n",
    "            currentRequirements[key] = new_requirements[key]\n",
    "\n",
    "    return currentRequirements\n",
    " \n",
    "    \n"
   ]
  },
  {
   "cell_type": "code",
   "execution_count": 18,
   "metadata": {},
   "outputs": [
    {
     "name": "stdout",
     "output_type": "stream",
     "text": [
      "<class 'hn_jobs_chat.requirements.requirementResponse'>\n",
      "new_requirements={'job_title': 'programmer'} remove_requirements={'location': 'Los Angeles'}\n"
     ]
    },
    {
     "data": {
      "text/plain": [
       "{}"
      ]
     },
     "execution_count": 18,
     "metadata": {},
     "output_type": "execute_result"
    }
   ],
   "source": [
    "from hn_jobs_chat.requirements import requirementResponse\n",
    "\n",
    "updateReq = { \n",
    "    'new_requirements': {\n",
    "        'job_title': 'programmer'\n",
    "    },\n",
    "    'remove_requirements': {\n",
    "        'location': 'Los Angeles'\n",
    "    }\n",
    "}\n",
    "\n",
    "updated = requirementResponse(**updateReq)\n",
    "\n",
    "current = getCurrentRequirements(updated)\n",
    "\n",
    "currentRequirements = {}\n",
    "\n",
    "current"
   ]
  },
  {
   "cell_type": "code",
   "execution_count": 19,
   "metadata": {},
   "outputs": [],
   "source": [
    "#| export\n",
    "\n",
    "from hn_jobs_chat.requirements import getRequirements, requirementResponse\n",
    "from hn_jobs_chat.search import search\n",
    "from hn_jobs_chat.chat import getChatResponse\n",
    "\n",
    "def getResponse(input:str) -> str:\n",
    "\n",
    "    # Parse the user's last comment into the current requirements\n",
    "    requirements: requirementResponse = getRequirements(input)\n",
    "    currentRequirements = getCurrentRequirements(requirements)\n",
    "    searchResults = search(currentRequirements)\n",
    "    print('searchResults', searchResults)\n",
    "    response = getChatResponse(input, currentRequirements, searchResults)\n",
    "\n",
    "    return response\n",
    "    "
   ]
  },
  {
   "cell_type": "code",
   "execution_count": 20,
   "metadata": {},
   "outputs": [
    {
     "name": "stdout",
     "output_type": "stream",
     "text": [
      "ddd\n",
      "<class 'hn_jobs_chat.requirements.requirementResponse'>\n",
      "new_requirements={'job_title': 'Software Engineering Manager', 'location': 'Los Angeles, California'} remove_requirements={}\n",
      "I found a job that matches your criteria. The position is for a \"Software Engineering Manager\" located in Los Angeles, California. Would you like more details about this job or help with anything else in your job search?\n"
     ]
    }
   ],
   "source": [
    "print('ddd')\n",
    "\n",
    "resp = getResponse(\"I am looking for a software engineering manager job in Los Angeles, California\")\n",
    "\n",
    "print(resp)\n"
   ]
  },
  {
   "cell_type": "code",
   "execution_count": 24,
   "metadata": {},
   "outputs": [
    {
     "data": {
      "application/vnd.jupyter.widget-view+json": {
       "model_id": "1f12258d2fc84c1093af82caf427681d",
       "version_major": 2,
       "version_minor": 0
      },
      "text/plain": [
       "Text(value='')"
      ]
     },
     "metadata": {},
     "output_type": "display_data"
    },
    {
     "data": {
      "application/vnd.jupyter.widget-view+json": {
       "model_id": "e0f2696c87ee4781b5c0c4403f8eca5a",
       "version_major": 2,
       "version_minor": 0
      },
      "text/plain": [
       "Button(description='Submit', style=ButtonStyle())"
      ]
     },
     "metadata": {},
     "output_type": "display_data"
    }
   ],
   "source": [
    "import ipywidgets as widgets\n",
    "from IPython.display import display\n",
    "\n",
    "currentRequirements = {}\n",
    "\n",
    "# Create input widgets\n",
    "text_input = widgets.Text()\n",
    "\n",
    "# Create a button\n",
    "submit_button = widgets.Button(description='Submit')\n",
    "\n",
    "\n",
    "# Define a function to handle form submission\n",
    "def handle_submit(button):\n",
    "    print(text_input.value)\n",
    "    response = getResponse(text_input.value)\n",
    "    print(response)\n",
    "\n",
    "# Attach the function to the button's on_click event\n",
    "submit_button.on_click(handle_submit)\n",
    "\n",
    "# Display the form\n",
    "display(text_input, submit_button)\n"
   ]
  },
  {
   "cell_type": "code",
   "execution_count": 22,
   "metadata": {},
   "outputs": [],
   "source": [
    "#| hide\n",
    "from nbdev import nbdev_export\n",
    "nbdev_export()"
   ]
  }
 ],
 "metadata": {
  "kernelspec": {
   "display_name": ".venv",
   "language": "python",
   "name": "python3"
  },
  "language_info": {
   "codemirror_mode": {
    "name": "ipython",
    "version": 3
   },
   "file_extension": ".py",
   "mimetype": "text/x-python",
   "name": "python",
   "nbconvert_exporter": "python",
   "pygments_lexer": "ipython3",
   "version": "3.12.1"
  }
 },
 "nbformat": 4,
 "nbformat_minor": 2
}
