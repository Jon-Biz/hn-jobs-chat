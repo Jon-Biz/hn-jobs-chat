{
 "cells": [
  {
   "cell_type": "code",
   "execution_count": 1,
   "metadata": {},
   "outputs": [],
   "source": [
    "#| default_exp chatbot"
   ]
  },
  {
   "cell_type": "code",
   "execution_count": 2,
   "metadata": {},
   "outputs": [],
   "source": [
    "\n",
    "\n",
    "def getRequirementsPrompt():\n",
    "    return "
   ]
  },
  {
   "cell_type": "code",
   "execution_count": null,
   "metadata": {},
   "outputs": [],
   "source": []
  },
  {
   "cell_type": "code",
   "execution_count": 3,
   "metadata": {},
   "outputs": [],
   "source": [
    "#| export\n",
    "from hn_jobs_chat.requirements import  requirementResponse\n",
    "\n",
    "currentRequirements = {}\n",
    "\n",
    "def updateCurrentRequirements(requirementsUpdate: requirementResponse): \n",
    "    new_requirements = requirementsUpdate.new_requirements\n",
    "    remove_requirements = requirementsUpdate.remove_requirements\n",
    "\n",
    "    # Remove requirements\n",
    "    for removeKey in remove_requirements.keys():\n",
    "        if key in currentRequirements.keys():\n",
    "            if key == removeKey: \n",
    "                if isinstance(currentRequirements[removeKey], list):\n",
    "                    currentRequirements[removeKey] = [item for item in currentRequirements[removeKey] if item != remove_requirements[removeKey]]\n",
    "                else:\n",
    "                    currentRequirements[removeKey] = None\n",
    "   \n",
    "    for key in new_requirements.keys():\n",
    "        currentRequirements[key] = new_requirements[key]\n",
    "\n",
    "    return currentRequirements\n",
    "     \n",
    "    \n",
    "def getCurrentRequirements():\n",
    "    return currentRequirements"
   ]
  },
  {
   "cell_type": "code",
   "execution_count": 4,
   "metadata": {},
   "outputs": [
    {
     "data": {
      "text/plain": [
       "{'job_title': 'programmer'}"
      ]
     },
     "execution_count": 4,
     "metadata": {},
     "output_type": "execute_result"
    }
   ],
   "source": [
    "from hn_jobs_chat.requirements import requirementResponse\n",
    "\n",
    "updateReq = { \n",
    "    'new_requirements': {\n",
    "        'job_title': 'programmer'\n",
    "    },\n",
    "    'remove_requirements': {\n",
    "        'location': 'Los Angeles'\n",
    "    }\n",
    "}\n",
    "\n",
    "updated = requirementResponse(**updateReq)\n",
    "\n",
    "current = getCurrentRequirements(updated)\n",
    "\n",
    "currentRequirements = {}\n",
    "\n",
    "current"
   ]
  },
  {
   "cell_type": "code",
   "execution_count": 5,
   "metadata": {},
   "outputs": [],
   "source": [
    "#| export\n",
    "\n",
    "from hn_jobs_chat.requirements import getRequirements, requirementResponse\n",
    "from hn_jobs_chat.search import search\n",
    "from hn_jobs_chat.chat import getChatResponse\n",
    "\n",
    "def getResponse(input:str) -> str:\n",
    "\n",
    "    # Parse the user's last comment into the current requirements\n",
    "    requirements: requirementResponse = getRequirements(input)\n",
    "    currentRequirements = updateCurrentRequirements(requirements)\n",
    "    searchResults = search(currentRequirements)\n",
    "    response = getChatResponse(input, currentRequirements, searchResults)\n",
    "\n",
    "    return response, currentRequirements\n",
    "    "
   ]
  },
  {
   "cell_type": "code",
   "execution_count": 6,
   "metadata": {},
   "outputs": [
    {
     "data": {
      "application/vnd.jupyter.widget-view+json": {
       "model_id": "4637732f1d204121a834cd18d1f48df3",
       "version_major": 2,
       "version_minor": 0
      },
      "text/plain": [
       "Text(value='')"
      ]
     },
     "metadata": {},
     "output_type": "display_data"
    },
    {
     "data": {
      "application/vnd.jupyter.widget-view+json": {
       "model_id": "5d5ae995435d437ab37405143bb2c20a",
       "version_major": 2,
       "version_minor": 0
      },
      "text/plain": [
       "Button(description='Submit', style=ButtonStyle())"
      ]
     },
     "metadata": {},
     "output_type": "display_data"
    }
   ],
   "source": [
    "import ipywidgets as widgets\n",
    "from IPython.display import display\n",
    "\n",
    "currentRequirements = {}\n",
    "\n",
    "# Create input widgets\n",
    "text_input = widgets.Text()\n",
    "\n",
    "# Create a button\n",
    "submit_button = widgets.Button(description='Submit')\n",
    "\n",
    "\n",
    "# Define a function to handle form submission\n",
    "def handle_submit(button):\n",
    "    print(text_input.value)\n",
    "    response = getResponse(text_input.value)\n",
    "    print(response)\n",
    "\n",
    "# Attach the function to the button's on_click event\n",
    "submit_button.on_click(handle_submit)\n",
    "\n",
    "# Display the form\n",
    "display(text_input, submit_button)\n"
   ]
  },
  {
   "cell_type": "code",
   "execution_count": 7,
   "metadata": {},
   "outputs": [
    {
     "data": {
      "text/plain": [
       "'Great! I found a couple of job opportunities in San Francisco that you might be interested in:\\n\\n1. **Shortwave** is looking for a **Sr. Software Engineer**. They are building an email client with a built-in AI executive assistant. The role involves helping to develop a modern email client with AI capabilities. They are looking for candidates with strong CS fundamentals, app development experience, and other qualities. The compensation is $140k-$215k base + generous equity. You can find more information and apply [here](https://www.shortwave.com/).\\n\\n2. **Agave** is seeking a **Founding Engineer** for their YC startup that is building data infrastructure for the construction industry. This role is for a Backend Engineer (4th hire) and requires 1-5 years of experience. The company has a team of 7 who have worked together for 9 years and have recently hit a significant revenue milestone. You can apply [here](https://www.agaveapi.com/careers).\\n\\nLet me know if you would like more details on any of these positions or if you need help with anything else.'"
      ]
     },
     "execution_count": 7,
     "metadata": {},
     "output_type": "execute_result"
    }
   ],
   "source": [
    "prompt = \"I'm looking for a job in San Francisco\"\n",
    "\n",
    "response = getResponse(prompt)\n",
    "\n",
    "response"
   ]
  },
  {
   "cell_type": "code",
   "execution_count": 15,
   "metadata": {},
   "outputs": [],
   "source": [
    "#| hide\n",
    "from nbdev import nbdev_export\n",
    "nbdev_export()"
   ]
  }
 ],
 "metadata": {
  "kernelspec": {
   "display_name": ".venv",
   "language": "python",
   "name": "python3"
  },
  "language_info": {
   "codemirror_mode": {
    "name": "ipython",
    "version": 3
   },
   "file_extension": ".py",
   "mimetype": "text/x-python",
   "name": "python",
   "nbconvert_exporter": "python",
   "pygments_lexer": "ipython3",
   "version": "3.12.1"
  }
 },
 "nbformat": 4,
 "nbformat_minor": 2
}
