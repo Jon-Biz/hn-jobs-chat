{
 "cells": [
  {
   "cell_type": "code",
   "execution_count": 1,
   "metadata": {},
   "outputs": [],
   "source": [
    "#| default_exp chatbot"
   ]
  },
  {
   "cell_type": "code",
   "execution_count": 2,
   "metadata": {},
   "outputs": [],
   "source": [
    "\n",
    "\n",
    "def getRequirementsPrompt():\n",
    "    return "
   ]
  },
  {
   "cell_type": "code",
   "execution_count": 3,
   "metadata": {},
   "outputs": [],
   "source": [
    "from hn_jobs_chat.requirements import  requirementResponse\n",
    "\n",
    "currentRequirements = {}\n",
    "\n",
    "def getCurrentRequirements(requirementsUpdate: requirementResponse): \n",
    "\n",
    "    print(type(requirementsUpdate))\n",
    "    print(requirementsUpdate)\n",
    "\n",
    "    new_requirements = requirementsUpdate.new_requirements\n",
    "    remove_requirements = requirementsUpdate.remove_requirements\n",
    "\n",
    "    for key in remove_requirements.keys():\n",
    "        if key in currentRequirements:\n",
    "            if currentRequirements[key] == new_requirements[key]: \n",
    "                currentRequirements[key] == None\n",
    "   \n",
    "    for key in new_requirements.keys():\n",
    "        if key in currentRequirements:\n",
    "            currentRequirements[key] = new_requirements[key]\n",
    "\n",
    "    return currentRequirements\n",
    " \n",
    "    \n"
   ]
  },
  {
   "cell_type": "code",
   "execution_count": 4,
   "metadata": {},
   "outputs": [
    {
     "name": "stdout",
     "output_type": "stream",
     "text": [
      "<class 'hn_jobs_chat.requirements.requirementResponse'>\n",
      "new_requirements={'job_title': 'programmer'} remove_requirements={'location': 'Los Angeles'}\n"
     ]
    },
    {
     "data": {
      "text/plain": [
       "{'job_title': 'programmer'}"
      ]
     },
     "execution_count": 4,
     "metadata": {},
     "output_type": "execute_result"
    }
   ],
   "source": [
    "from hn_jobs_chat.requirements import requirementResponse\n",
    "\n",
    "updateReq = { \n",
    "    'new_requirements': {\n",
    "        'job_title': 'programmer'\n",
    "    },\n",
    "    'remove_requirements': {\n",
    "        'location': 'Los Angeles'\n",
    "    }\n",
    "}\n",
    "\n",
    "updated = requirementResponse(**updateReq)\n",
    "\n",
    "current = getCurrentRequirements(updated)\n",
    "\n",
    "currentRequirements = {}\n",
    "\n",
    "current"
   ]
  },
  {
   "cell_type": "code",
   "execution_count": 5,
   "metadata": {},
   "outputs": [],
   "source": [
    "#| export\n",
    "\n",
    "from hn_jobs_chat.requirements import getRequirements, requirementResponse\n",
    "from hn_jobs_chat.search import search\n",
    "from hn_jobs_chat.chat import getChatResponse\n",
    "\n",
    "def getResponse(input:str) -> str:\n",
    "\n",
    "    # Parse the user's last comment into the current requirements\n",
    "    requirements: requirementResponse = getRequirements(input)\n",
    "    currentRequirements = getCurrentRequirements(requirements)\n",
    "    searchResults = search(currentRequirements)\n",
    "    response = getChatResponse(input, currentRequirements, searchResults)\n",
    "\n",
    "    return response\n",
    "    "
   ]
  },
  {
   "cell_type": "code",
   "execution_count": 6,
   "metadata": {},
   "outputs": [
    {
     "name": "stdout",
     "output_type": "stream",
     "text": [
      "ddd\n",
      "<class 'hn_jobs_chat.requirements.requirementResponse'>\n",
      "new_requirements={'job_title': 'Software Engineering Manager', 'location': 'Los Angeles, California'} remove_requirements={}\n",
      "Great! I found a job that matches your criteria. The position is for a \"Software Engineering Manager\" located in Los Angeles, California. Would you like more details about this job or help with anything else in your job search?\n"
     ]
    }
   ],
   "source": [
    "print('ddd')\n",
    "\n",
    "resp = getResponse(\"I am looking for a software engineering manager job in Los Angeles, California\")\n",
    "\n",
    "print(resp)\n"
   ]
  },
  {
   "cell_type": "code",
   "execution_count": 7,
   "metadata": {},
   "outputs": [
    {
     "data": {
      "application/vnd.jupyter.widget-view+json": {
       "model_id": "c654a1ced4ba41a6b49a2bffb337caf6",
       "version_major": 2,
       "version_minor": 0
      },
      "text/plain": [
       "Text(value='')"
      ]
     },
     "metadata": {},
     "output_type": "display_data"
    },
    {
     "data": {
      "application/vnd.jupyter.widget-view+json": {
       "model_id": "d1175258b4dd4fa8a609639768d90e2f",
       "version_major": 2,
       "version_minor": 0
      },
      "text/plain": [
       "Button(description='Submit', style=ButtonStyle())"
      ]
     },
     "metadata": {},
     "output_type": "display_data"
    },
    {
     "name": "stdout",
     "output_type": "stream",
     "text": [
      "<class 'hn_jobs_chat.requirements.requirementResponse'>\n",
      "new_requirements={} remove_requirements={'location': 'Los Angeles, California'}\n"
     ]
    },
    {
     "ename": "KeyError",
     "evalue": "'location'",
     "output_type": "error",
     "traceback": [
      "\u001b[0;31m---------------------------------------------------------------------------\u001b[0m",
      "\u001b[0;31mKeyError\u001b[0m                                  Traceback (most recent call last)",
      "Cell \u001b[0;32mIn[7], line 13\u001b[0m, in \u001b[0;36mhandle_submit\u001b[0;34m(button)\u001b[0m\n\u001b[1;32m     12\u001b[0m \u001b[38;5;28;01mdef\u001b[39;00m \u001b[38;5;21mhandle_submit\u001b[39m(button):\n\u001b[0;32m---> 13\u001b[0m     response \u001b[38;5;241m=\u001b[39m \u001b[43mgetResponse\u001b[49m\u001b[43m(\u001b[49m\u001b[43mtext_input\u001b[49m\u001b[38;5;241;43m.\u001b[39;49m\u001b[43mvalue\u001b[49m\u001b[43m)\u001b[49m\n\u001b[1;32m     14\u001b[0m     \u001b[38;5;28mprint\u001b[39m(response)\n",
      "Cell \u001b[0;32mIn[5], line 12\u001b[0m, in \u001b[0;36mgetResponse\u001b[0;34m(input)\u001b[0m\n\u001b[1;32m      8\u001b[0m \u001b[38;5;28;01mdef\u001b[39;00m \u001b[38;5;21mgetResponse\u001b[39m(\u001b[38;5;28minput\u001b[39m:\u001b[38;5;28mstr\u001b[39m) \u001b[38;5;241m-\u001b[39m\u001b[38;5;241m>\u001b[39m \u001b[38;5;28mstr\u001b[39m:\n\u001b[1;32m      9\u001b[0m \n\u001b[1;32m     10\u001b[0m     \u001b[38;5;66;03m# Parse the user's last comment into the current requirements\u001b[39;00m\n\u001b[1;32m     11\u001b[0m     requirements: requirementResponse \u001b[38;5;241m=\u001b[39m getRequirements(\u001b[38;5;28minput\u001b[39m)\n\u001b[0;32m---> 12\u001b[0m     currentRequirements \u001b[38;5;241m=\u001b[39m \u001b[43mgetCurrentRequirements\u001b[49m\u001b[43m(\u001b[49m\u001b[43mrequirements\u001b[49m\u001b[43m)\u001b[49m\n\u001b[1;32m     13\u001b[0m     searchResults \u001b[38;5;241m=\u001b[39m search(currentRequirements)\n\u001b[1;32m     14\u001b[0m     response \u001b[38;5;241m=\u001b[39m getChatResponse(\u001b[38;5;28minput\u001b[39m, currentRequirements, searchResults)\n",
      "Cell \u001b[0;32mIn[3], line 15\u001b[0m, in \u001b[0;36mgetCurrentRequirements\u001b[0;34m(requirementsUpdate)\u001b[0m\n\u001b[1;32m     13\u001b[0m \u001b[38;5;28;01mfor\u001b[39;00m key \u001b[38;5;129;01min\u001b[39;00m remove_requirements\u001b[38;5;241m.\u001b[39mkeys():\n\u001b[1;32m     14\u001b[0m     \u001b[38;5;28;01mif\u001b[39;00m key \u001b[38;5;129;01min\u001b[39;00m currentRequirements:\n\u001b[0;32m---> 15\u001b[0m         \u001b[38;5;28;01mif\u001b[39;00m currentRequirements[key] \u001b[38;5;241m==\u001b[39m \u001b[43mnew_requirements\u001b[49m\u001b[43m[\u001b[49m\u001b[43mkey\u001b[49m\u001b[43m]\u001b[49m: \n\u001b[1;32m     16\u001b[0m             currentRequirements[key] \u001b[38;5;241m==\u001b[39m \u001b[38;5;28;01mNone\u001b[39;00m\n\u001b[1;32m     18\u001b[0m \u001b[38;5;28;01mfor\u001b[39;00m key \u001b[38;5;129;01min\u001b[39;00m new_requirements\u001b[38;5;241m.\u001b[39mkeys():\n",
      "\u001b[0;31mKeyError\u001b[0m: 'location'"
     ]
    }
   ],
   "source": [
    "import ipywidgets as widgets\n",
    "from IPython.display import display\n",
    "\n",
    "# Create input widgets\n",
    "text_input = widgets.Text()\n",
    "\n",
    "# Create a button\n",
    "submit_button = widgets.Button(description='Submit')\n",
    "\n",
    "\n",
    "# Define a function to handle form submission\n",
    "def handle_submit(button):\n",
    "    response = getResponse(text_input.value)\n",
    "    print(response)\n",
    "\n",
    "# Attach the function to the button's on_click event\n",
    "submit_button.on_click(handle_submit)\n",
    "\n",
    "# Display the form\n",
    "display(text_input, submit_button)\n"
   ]
  },
  {
   "cell_type": "code",
   "execution_count": 8,
   "metadata": {},
   "outputs": [],
   "source": [
    "#| hide\n",
    "from nbdev import nbdev_export\n",
    "nbdev_export()"
   ]
  }
 ],
 "metadata": {
  "kernelspec": {
   "display_name": ".venv",
   "language": "python",
   "name": "python3"
  },
  "language_info": {
   "codemirror_mode": {
    "name": "ipython",
    "version": 3
   },
   "file_extension": ".py",
   "mimetype": "text/x-python",
   "name": "python",
   "nbconvert_exporter": "python",
   "pygments_lexer": "ipython3",
   "version": "3.12.1"
  }
 },
 "nbformat": 4,
 "nbformat_minor": 2
}
