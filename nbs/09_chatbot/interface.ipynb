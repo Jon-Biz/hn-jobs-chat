{
 "cells": [
  {
   "cell_type": "code",
   "execution_count": null,
   "metadata": {},
   "outputs": [],
   "source": [
    "#| default_exp interface"
   ]
  },
  {
   "cell_type": "code",
   "execution_count": 6,
   "metadata": {},
   "outputs": [
    {
     "name": "stdout",
     "output_type": "stream",
     "text": [
      "Note: you may need to restart the kernel to use updated packages.\n",
      "zsh:1: 0.29 not found\n",
      "Note: you may need to restart the kernel to use updated packages.\n"
     ]
    }
   ],
   "source": [
    "%pip install -q python-fasthtml\n",
    "%pip install -q uvicorn>=0.29\n"
   ]
  },
  {
   "cell_type": "code",
   "execution_count": 10,
   "metadata": {},
   "outputs": [],
   "source": [
    "#| export\n",
    "from fasthtml.common import *\n",
    "from hn_jobs_chat.chatbot import getResponse\n",
    "\n",
    "# Set up the app, including daisyui and tailwind for the chat component\n",
    "hdrs = (picolink, Script(src=\"https://cdn.tailwindcss.com\"),\n",
    "    Link(rel=\"stylesheet\", href=\"https://cdn.jsdelivr.net/npm/daisyui@4.11.1/dist/full.min.css\"))\n",
    "app = FastHTML(hdrs=hdrs, cls=\"p-4 max-w-lg mx-auto\")\n",
    "\n",
    "# Set up a chat model (https://claudette.answer.ai/)\n",
    "sp = \"You are a helpful and concise assistant.\"\n",
    "\n",
    "# Chat message component (renders a chat bubble)\n",
    "def ChatMessage(msg, user):\n",
    "    bubble_class = \"chat-bubble-primary\" if user else 'chat-bubble-secondary'\n",
    "    chat_class = \"chat-end\" if user else 'chat-start'\n",
    "    return Div(cls=f\"chat {chat_class}\")(\n",
    "               Div('user' if user else 'assistant', cls=\"chat-header\"),\n",
    "               Div(msg, cls=f\"chat-bubble {bubble_class}\"),\n",
    "               Hidden(msg, name=\"messages\")\n",
    "           )\n",
    "\n",
    "# The input field for the user message. Also used to clear the\n",
    "# input field after sending a message via an OOB swap\n",
    "def ChatInput():\n",
    "    return Input(name='msg', id='msg-input', placeholder=\"Type a message\",\n",
    "                 cls=\"input input-bordered w-full\", hx_swap_oob='true')\n",
    "\n",
    "# The main screen\n",
    "@app.get\n",
    "def index():\n",
    "    page = Form(hx_post=send, hx_target=\"#chatlist\", hx_swap=\"beforeend\")(\n",
    "           Div(id=\"chatlist\", cls=\"chat-box h-[73vh] overflow-y-auto\"),\n",
    "               Div(cls=\"flex space-x-2 mt-2\")(\n",
    "                   Group(ChatInput(), Button(\"Send\", cls=\"btn btn-primary\"))\n",
    "               )\n",
    "           )\n",
    "    return Titled('Chatbot Demo', page)\n",
    "\n",
    "# Handle the form submission\n",
    "@app.post\n",
    "def send(msg:str, messages:list[str]=None):\n",
    "    if not messages: messages = []\n",
    "    messages.append(msg.rstrip())\n",
    "    r = getResponse(msg)\n",
    "    return (ChatMessage(msg, True),    # The user's message\n",
    "            ChatMessage(r.rstrip(), False), # The chatbot's response\n",
    "            ChatInput()) # And clear the input field via an OOB swap\n",
    "\n",
    "serve()\n",
    "\n"
   ]
  },
  {
   "cell_type": "code",
   "execution_count": null,
   "metadata": {},
   "outputs": [],
   "source": []
  },
  {
   "cell_type": "code",
   "execution_count": 11,
   "metadata": {},
   "outputs": [],
   "source": [
    "#| hide\n",
    "from nbdev import nbdev_export\n",
    "nbdev_export()"
   ]
  }
 ],
 "metadata": {
  "kernelspec": {
   "display_name": ".venv",
   "language": "python",
   "name": "python3"
  },
  "language_info": {
   "codemirror_mode": {
    "name": "ipython",
    "version": 3
   },
   "file_extension": ".py",
   "mimetype": "text/x-python",
   "name": "python",
   "nbconvert_exporter": "python",
   "pygments_lexer": "ipython3",
   "version": "3.12.1"
  }
 },
 "nbformat": 4,
 "nbformat_minor": 2
}
