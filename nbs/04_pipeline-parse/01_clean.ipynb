{
 "cells": [
  {
   "cell_type": "markdown",
   "metadata": {},
   "source": [
    "# Clean Data\n",
    "\n",
    "* Not all the comments in the thread are job postings. Some are questions and comments too. I could see the conversations that happen around the posting containing useful information, but \n",
    "* mark posts that aren't job postings"
   ]
  },
  {
   "cell_type": "code",
   "execution_count": null,
   "metadata": {},
   "outputs": [],
   "source": [
    "%%capture\n",
    "#| default_exp clean\n",
    "\n",
    "%pip install openai\n",
    "%pip install numpy\n",
    "# %pip install langchain"
   ]
  },
  {
   "cell_type": "markdown",
   "metadata": {},
   "source": [
    "We need to determine:\n",
    "* company name\n",
    "* company location\n",
    "* contact info\n",
    "\n",
    "If any information isn't present, we need to make sure that we don't hallucinate."
   ]
  },
  {
   "cell_type": "markdown",
   "metadata": {},
   "source": [
    "## Is the posting a job posting?"
   ]
  },
  {
   "cell_type": "code",
   "execution_count": null,
   "metadata": {},
   "outputs": [],
   "source": [
    "# | export\n",
    "import os\n",
    "import openai\n",
    "\n",
    "# openai.api_base = \"https://openrouter.ai/api/v1\"\n",
    "openai.api_key = os.environ.get('OPENAI_API_KEY')\n",
    "\n",
    "def getResponse(text: str):\n",
    "    response = openai.chat.completions.create(\n",
    "        model=\"gpt-3.5-turbo\",\n",
    "        messages=[{\"role\": \"user\", \"content\": text}],\n",
    "    )\n",
    "\n",
    "    result = {\n",
    "        \"input_text\": text,\n",
    "        \"text\": response.choices[0].message.content\n",
    "    }\n",
    "\n",
    "    return result"
   ]
  },
  {
   "cell_type": "code",
   "execution_count": null,
   "metadata": {},
   "outputs": [],
   "source": [
    "# |export\n",
    "import json\n",
    "\n",
    "def toJson(response, repromptNum=None):\n",
    "    # try catch here. If item fails, rerun it. If it fails more than 3 times, return None\n",
    "    try:\n",
    "        return json.loads(response.replace('\\n',''))\n",
    "    except:\n",
    "        if repromptNum == None:\n",
    "            repromptNum = 0\n",
    "        \n",
    "        if repromptNum > 3:\n",
    "            return '{ \"errpr\": \"Could not receive valid json: Too many reprompts\",\"item\": '+item+'}'\n",
    "        \n",
    "        repromptNum += 1\n",
    "        return reprompt(response, repromptNum)\n",
    "    \n",
    "def reprompt(item, repromptNum=None):\n",
    "    newPrompt = 'Your response: \\n\\n'+item.text+'was not valid json. Please try again. Here is the original request:\\n' + item\n",
    "\n",
    "    response = getResponse(newPrompt)\n",
    "\n",
    "    print('response')\n",
    "    return toJson(response['text'], repromptNum=repromptNum)\n"
   ]
  },
  {
   "cell_type": "code",
   "execution_count": null,
   "metadata": {},
   "outputs": [],
   "source": [
    "#| export\n",
    "\n",
    "def isJob(item, resultItem):\n",
    "    text='Is the following message a job posting, or something else? If it is a job posting, reply { \"isPosting: true }. If it is not a job posting, reply with { \"isPosting\": false }\\n-----------------\\n'+ item['comment']\n",
    "\n",
    "    result = getResponse(text)\n",
    "    resp = toJson(result['text'])\n",
    " \n",
    "    resultItem['isPosting'] = resp['isPosting']\n",
    "\n",
    "    return resultItem"
   ]
  },
  {
   "cell_type": "code",
   "execution_count": null,
   "metadata": {},
   "outputs": [],
   "source": [
    "#| export  \n",
    "\n",
    "# Determine if the items are jobs\n",
    "def processItems(items):\n",
    "\n",
    "    results = []\n",
    "\n",
    "    for item in items:\n",
    "        results.append(isJob(item))\n",
    "\n",
    "    return results"
   ]
  },
  {
   "cell_type": "code",
   "execution_count": 1,
   "metadata": {},
   "outputs": [],
   "source": [
    "# | hide\n",
    "from nbdev import nbdev_export\n",
    "\n",
    "nbdev_export()\n"
   ]
  }
 ],
 "metadata": {
  "kernelspec": {
   "display_name": ".venv",
   "language": "python",
   "name": "python3"
  },
  "language_info": {
   "codemirror_mode": {
    "name": "ipython",
    "version": 3
   },
   "file_extension": ".py",
   "mimetype": "text/x-python",
   "name": "python",
   "nbconvert_exporter": "python",
   "pygments_lexer": "ipython3",
   "version": "3.12.1"
  }
 },
 "nbformat": 4,
 "nbformat_minor": 2
}
