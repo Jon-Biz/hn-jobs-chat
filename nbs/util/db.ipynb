{
 "cells": [
  {
   "cell_type": "markdown",
   "metadata": {},
   "source": [
    "Connection to db"
   ]
  },
  {
   "cell_type": "code",
   "execution_count": 1,
   "metadata": {},
   "outputs": [
    {
     "name": "stdout",
     "output_type": "stream",
     "text": [
      "Note: you may need to restart the kernel to use updated packages.\n",
      "Note: you may need to restart the kernel to use updated packages.\n"
     ]
    }
   ],
   "source": [
    "#| default_exp db\n",
    "\n",
    "# PostGres 16.3.1 MacOS is currently installed.\n",
    "%pip install -q psycopg2-binary\n",
    "%pip install -q nbdev\n"
   ]
  },
  {
   "cell_type": "code",
   "execution_count": 2,
   "metadata": {},
   "outputs": [],
   "source": [
    "#| export\n",
    "import psycopg2\n",
    "\n",
    "dbName = 'Bumpant'\n",
    "dbUser = 'Bumpant'\n",
    "dbPassword = 'ampegskb'\n",
    "\n",
    "def connectToDB():\n",
    "    conn = psycopg2.connect(\"dbname=\" + dbName + \" user=\" + dbUser + \" password=\" + dbPassword)\n",
    "    cursor = conn.cursor()\n",
    "    return conn, cursor\n"
   ]
  },
  {
   "cell_type": "code",
   "execution_count": 4,
   "metadata": {},
   "outputs": [],
   "source": [
    "#| hide\n",
    "from nbdev import nbdev_export\n",
    "nbdev_export()"
   ]
  }
 ],
 "metadata": {
  "kernelspec": {
   "display_name": ".venv",
   "language": "python",
   "name": "python3"
  },
  "language_info": {
   "codemirror_mode": {
    "name": "ipython",
    "version": 3
   },
   "file_extension": ".py",
   "mimetype": "text/x-python",
   "name": "python",
   "nbconvert_exporter": "python",
   "pygments_lexer": "ipython3",
   "version": "3.12.1"
  }
 },
 "nbformat": 4,
 "nbformat_minor": 2
}
