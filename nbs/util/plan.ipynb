{
 "cells": [
  {
   "cell_type": "markdown",
   "metadata": {},
   "source": [
    "Ok, here's the plan.\n",
    "\n",
    "1. create data (however)\n",
    " - pass current data into db\n",
    "2. create rag\n",
    " - \n",
    "3. chat behaviour\n",
    "4. add embeddings\n"
   ]
  }
 ],
 "metadata": {
  "language_info": {
   "name": "python"
  }
 },
 "nbformat": 4,
 "nbformat_minor": 2
}
