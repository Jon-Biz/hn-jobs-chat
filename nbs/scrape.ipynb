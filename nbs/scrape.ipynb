{
 "cells": [
  {
   "cell_type": "markdown",
   "metadata": {},
   "source": [
    "# Scrape HN\n",
    "\n",
    "This file scrapes this month's HN Jobs post using Selenium"
   ]
  },
  {
   "cell_type": "code",
   "execution_count": 56,
   "metadata": {},
   "outputs": [],
   "source": [
    "#| default_exp scraper\n",
    "\n",
    "#| export\n",
    "who_is_hiring = \"https://news.ycombinator.com/item?id=40846428\"\n"
   ]
  },
  {
   "cell_type": "code",
   "execution_count": 57,
   "metadata": {},
   "outputs": [
    {
     "name": "stdout",
     "output_type": "stream",
     "text": [
      "Note: you may need to restart the kernel to use updated packages.\n",
      "Note: you may need to restart the kernel to use updated packages.\n",
      "Note: you may need to restart the kernel to use updated packages.\n",
      "Note: you may need to restart the kernel to use updated packages.\n"
     ]
    }
   ],
   "source": [
    "%pip install -q selenium\n",
    "%pip install -q nbdev\n",
    "%pip install -q webdriver-manager\n",
    "%pip install -q pillow"
   ]
  },
  {
   "cell_type": "code",
   "execution_count": 58,
   "metadata": {},
   "outputs": [],
   "source": [
    "#| export\n",
    "from nbdev.showdoc import *\n",
    "\n",
    "from selenium import webdriver\n",
    "from selenium.webdriver.chrome.service import Service\n",
    "from webdriver_manager.chrome import ChromeDriverManager\n",
    "from selenium.webdriver.common.by import By\n",
    "from selenium.common.exceptions import NoSuchElementException"
   ]
  },
  {
   "cell_type": "code",
   "execution_count": 59,
   "metadata": {},
   "outputs": [],
   "source": [
    "#| export\n",
    "import io\n",
    "from PIL import Image\n",
    "\n",
    "dataLocation = \"previousData/\"\n",
    "\n",
    "def getPosts(postsHtml: list):\n",
    "    jobPosts = []\n",
    "\n",
    "    for post in postsHtml:\n",
    "        indent = post.find_element(By.CLASS_NAME, \"ind\").get_attribute(\"indent\")\n",
    "\n",
    "        # ignore reply comments: comments indented by 1+\n",
    "        # later on it might be useful to attach these to the parent comment\n",
    "        if (indent == \"0\"):\n",
    "\n",
    "            try:\n",
    "                hnuser = post.find_element(By.CLASS_NAME, \"hnuser\").text\n",
    "            except NoSuchElementException:\n",
    "                hnuser = ''  # or a default value\n",
    "\n",
    "            try:\n",
    "                date = post.find_element(By.CLASS_NAME, \"age\").get_attribute(\"title\")\n",
    "            except NoSuchElementException:\n",
    "                date = 0  # or a default value\n",
    "\n",
    "            try:\n",
    "                comment = post.find_element(By.CLASS_NAME, \"comment\").text\n",
    "            except NoSuchElementException:\n",
    "                comment = ''  # or a default value\n",
    "\n",
    "            name = date + \"_\" + hnuser\n",
    "            fileName = dataLocation + 'images/'+name+\".png\"\n",
    "            # image_binary = post.screenshot_as_png \n",
    "            # img = Image.open(io.BytesIO(image_binary))\n",
    "            # img.save(fileName)\n",
    "\n",
    "            jobPost = {\n",
    "                \"hnuser\": hnuser,\n",
    "                \"date\": date,\n",
    "                \"comment\": comment,  \n",
    "                \"fileName\": fileName,\n",
    "                \"html\": post.get_attribute(\"outerHTML\")\n",
    "            }\n",
    "\n",
    "            jobPosts.append(jobPost)\n",
    "\n",
    "    return jobPosts"
   ]
  },
  {
   "cell_type": "code",
   "execution_count": 3,
   "metadata": {},
   "outputs": [],
   "source": [
    "#| export\n",
    "\n",
    "from os import wait\n",
    "\n",
    "\n",
    "def hnJobsPaginated(url, page: int):\n",
    "    return f'{url}&p={page}'\n",
    "\n",
    "def scrape(url: str):\n",
    "    url = url or who_is_hiring\n",
    "\n",
    "    #create an instance of the Service object\n",
    "    service = Service(executable_path=ChromeDriverManager().install())\n",
    "    #start Chrome using the service keyword\n",
    "    driver = webdriver.Chrome(service=service)\n",
    "\n",
    "    def scrapePage(url: str, page: int = 1):\n",
    "        print(f\"Scraping page {page}\")\n",
    "\n",
    "        paginatedUrl = hnJobsPaginated(url, page)\n",
    "        driver.get(paginatedUrl)\n",
    "\n",
    "        tbody = driver.find_element(By.CLASS_NAME, \"comment-tree\")\n",
    "        postsHtml = tbody.find_elements(By.CLASS_NAME, \"athing\")\n",
    "        posts = getPosts(postsHtml)\n",
    "\n",
    "        try:\n",
    "            driver.find_element(By.CLASS_NAME, \"morelink\")\n",
    "            page += 1\n",
    "            posts.append(scrapePage(url, page))\n",
    "        except NoSuchElementException:\n",
    "            print('all pages scraped')\n",
    "\n",
    "        return posts    \n",
    "\n",
    "    posts = scrapePage(url)\n",
    "\n",
    "    print(f\"Scraped {len(posts)} posts\")\n",
    "\n",
    "    driver.quit()\n",
    "\n",
    "    return posts"
   ]
  },
  {
   "cell_type": "code",
   "execution_count": 61,
   "metadata": {},
   "outputs": [],
   "source": [
    "#| export\n",
    "import json\n",
    "\n",
    "def savePosts(filename, posts):\n",
    "    with open(filename, 'w', encoding='utf-8') as f:\n",
    "        json.dump(posts, f, ensure_ascii=False, indent=4)"
   ]
  },
  {
   "cell_type": "code",
   "execution_count": 62,
   "metadata": {},
   "outputs": [],
   "source": [
    "#| export\n",
    "import json\n",
    "\n",
    "def loadJSON(filename):\n",
    "    posts = False\n",
    "    try: \n",
    "        with open(filename, 'r', encoding='utf-8') as f:\n",
    "            posts = json.load(f)\n",
    "    finally:\n",
    "        return posts"
   ]
  },
  {
   "cell_type": "code",
   "execution_count": 6,
   "metadata": {},
   "outputs": [],
   "source": [
    "#| hide\n",
    "import nbdev; nbdev.nbdev_export()\n"
   ]
  }
 ],
 "metadata": {
  "kernelspec": {
   "display_name": "python3",
   "language": "python",
   "name": "python3"
  },
  "language_info": {
   "codemirror_mode": {
    "name": "ipython",
    "version": 3
   },
   "file_extension": ".py",
   "mimetype": "text/x-python",
   "name": "python",
   "nbconvert_exporter": "python",
   "pygments_lexer": "ipython3",
   "version": "3.12.1"
  }
 },
 "nbformat": 4,
 "nbformat_minor": 4
}
