{
 "cells": [
  {
   "cell_type": "code",
   "execution_count": null,
   "metadata": {},
   "outputs": [],
   "source": [
    "# %%capture\n",
    "# #| default_exp embed\n",
    "\n",
    "# # PostGres 16.3.1 MacOS is currently installed.\n",
    "# %pip install psycopg2-binary\n",
    "\n",
    "%pip install nbdev\n",
    "\n"
   ]
  },
  {
   "cell_type": "code",
   "execution_count": null,
   "metadata": {},
   "outputs": [],
   "source": [
    "# import psycopg2\n",
    "\n",
    "# conn = psycopg2.connect(\"dbname=Bumpant user=Bumpant password=ampegskb\")\n",
    "# cur = conn.cursor()\n"
   ]
  },
  {
   "cell_type": "code",
   "execution_count": null,
   "metadata": {},
   "outputs": [],
   "source": [
    "# oldquery = \"\"\"I'm am a senior developer working with React and javascrip in San Francisco. I have 5 years of experience. I am looking for a job in the bay area. I am a team player.\"\n",
    "# \"\"\"\n",
    "\n",
    "# oldquery  = \"\"\"Qventus | REMOTE (USA, LATAM, INDIA) | Engineering / Product | www.qventus.com\\nQventus provides a real-time decision-making platform for hospital operations. Our mission is to simplify how healthcare operates so that hospitals can focus on delivering the best possible care to patients. We use artificial intelligence and machine learning to create products and solutions that help nurses, doctors, and hospital staff anticipate issues and make operational decisions proactively. We work with leading public, academic, and community hospitals across the United States.\\nWe are actively hiring for the following positions:\\n*Remote US:\\n- Sr. Data Engineer - GenAI Apps\\n- Sr. Data Platform Engineer\\n- Chief of Staff, AI Operational Assistant Innovation\\n- Senior Product Manager, Inpatient Solution\\n- Client Success Partner\\n*INDIA:\\n- Lead Analytics Engineer\\n- Senior Data Engineer\\n- Technical Tooling Lead\\n- QA Manager\\n*Remote LATAM:\\n- Data Engineer ll\\n*To see a full list of openings and to apply, follow our Join Us page: https://jobs.ashbyhq.com/qventus?utm_source=DQpNjMYvxb\\nreply\"\"\"\n",
    "# query=\"\"\"Loneliness is a significant health crisis, especially for older adults. We're using advanced AI to connect people through group events and shared experiences, reducing loneliness and improving quality of life. Backed by Stanford research and top investors, our platform is already making a positive impact. Join our mission-driven team to scale this solution and transform lives.\\nStealth Company | San Francisco | Hybrid | Founding Engineer (Venture-Backed Founding Team) • Apply Now!: https://tinyurl.com/4zt3v98w\\nreply\"\"\"\n",
    "\n",
    "\n",
    "\n",
    "# query=\"\"\"Blackshark AI\"\"\""
   ]
  },
  {
   "cell_type": "code",
   "execution_count": null,
   "metadata": {},
   "outputs": [],
   "source": [
    "\n",
    "\n",
    "# import openai \n",
    "\n",
    "# client = openai.Client()\n",
    "\n",
    "# response = client.embeddings.create(\n",
    "#     input=query,\n",
    "#     model=\"text-embedding-3-small\"\n",
    "# )\n"
   ]
  },
  {
   "cell_type": "code",
   "execution_count": null,
   "metadata": {},
   "outputs": [],
   "source": [
    "# embed = response.data[0].embedding\n",
    "# conn.commit()"
   ]
  },
  {
   "cell_type": "code",
   "execution_count": null,
   "metadata": {},
   "outputs": [],
   "source": [
    "# embed = response.data[0].embedding\n",
    "# embedStr = ','.join([str(x) for x in embed])\n",
    "\n",
    "# matchThreshold = 0.2;\n",
    "# matchCnt = 3;\n",
    "\n",
    "# cur.execute(\"\"\"\n",
    "#     SELECT 1 - (embedding <=> %s) as similarity, comment\n",
    "#     FROM posts \n",
    "#     WHERE 1 - (embedding <=> %s) > %s\n",
    "#     ORDER BY embedding <-> %s LIMIT %s \n",
    "# \"\"\", ['['+embedStr+']','['+embedStr+']', matchThreshold,'['+embedStr+']', matchCnt])\n",
    "\n",
    "# cur.fetchall()\n",
    "\n",
    "\n",
    "\n"
   ]
  },
  {
   "cell_type": "code",
   "execution_count": null,
   "metadata": {},
   "outputs": [],
   "source": [
    "#| hide\n",
    "\n",
    "from nbdev import *\n",
    "nbdev_export()"
   ]
  }
 ],
 "metadata": {
  "kernelspec": {
   "display_name": ".venv",
   "language": "python",
   "name": "python3"
  },
  "language_info": {
   "codemirror_mode": {
    "name": "ipython",
    "version": 3
   },
   "file_extension": ".py",
   "mimetype": "text/x-python",
   "name": "python",
   "nbconvert_exporter": "python",
   "pygments_lexer": "ipython3",
   "version": "3.12.1"
  }
 },
 "nbformat": 4,
 "nbformat_minor": 2
}
