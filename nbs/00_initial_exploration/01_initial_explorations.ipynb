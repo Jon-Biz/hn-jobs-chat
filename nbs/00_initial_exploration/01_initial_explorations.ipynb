{
 "cells": [
  {
   "cell_type": "markdown",
   "metadata": {},
   "source": [
    "# Initial explorations\n",
    "We pass existing data to preliminary prompts for evaluation."
   ]
  },
  {
   "cell_type": "markdown",
   "metadata": {},
   "source": [
    "## Parsing the job descriptions\n",
    "\n",
    "We start by getting the LLM to categorize the various job requirements in each listing. These requirements will then be compared to the users stated requirements in order to retreive the most relevant jobs. But, by  "
   ]
  },
  {
   "cell_type": "markdown",
   "metadata": {},
   "source": [
    "Ok, from this we can see that "
   ]
  },
  {
   "cell_type": "code",
   "execution_count": null,
   "metadata": {},
   "outputs": [],
   "source": []
  }
 ],
 "metadata": {
  "language_info": {
   "name": "python"
  }
 },
 "nbformat": 4,
 "nbformat_minor": 2
}
