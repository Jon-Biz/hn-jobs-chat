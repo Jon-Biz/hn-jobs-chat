{
 "cells": [
  {
   "cell_type": "markdown",
   "metadata": {},
   "source": [
    "# Initial data capture\n",
    "\n",
    "We start the approach to a solution by retreiving previous months of posts.\n",
    "\n",
    "We will add these as tables in our database.\n"
   ]
  },
  {
   "cell_type": "code",
   "execution_count": 4,
   "metadata": {},
   "outputs": [],
   "source": [
    "#| default_exp data\n",
    "#| export\n",
    "urls = [    \n",
    "    [\"July\",\"https://news.ycombinator.com/item?id=36573871\"],\n",
    "    [\"June\", \"https://news.ycombinator.com/item?id=36152014\"],\n",
    "    [\"May\", \"https://news.ycombinator.com/item?id=35773707\"],\n",
    "]\n",
    "\n",
    "dataLocation = \"previousData/\"\n"
   ]
  },
  {
   "cell_type": "code",
   "execution_count": 5,
   "metadata": {},
   "outputs": [
    {
     "name": "stdout",
     "output_type": "stream",
     "text": [
      "loaded posts\n",
      "No data found for June, scraping...\n",
      "Scraping page 1\n",
      "Scraping page 2\n",
      "Scraping page 3\n",
      "all pages scraped\n",
      "Scraped 127 posts\n",
      "Data saved to ../previousData/June.json.json\n",
      "No data found for May, scraping...\n",
      "Scraping page 1\n",
      "Scraping page 2\n",
      "Scraping page 3\n",
      "all pages scraped\n",
      "Scraped 145 posts\n",
      "Data saved to ../previousData/May.json.json\n"
     ]
    }
   ],
   "source": [
    "from hn_jobs_chat.scraper import scrape\n",
    "from hn_jobs_chat.util import saveJSON, loadJSON\n",
    "\n",
    "posts = []\n",
    "dataLocation = \"previousData/\"\n",
    "\n",
    "for name, url in urls:\n",
    "    fileName = \"../\"+ dataLocation + name + \".json\"\n",
    "\n",
    "    monthPosts = loadJSON(fileName)\n",
    "\n",
    "    if (monthPosts):\n",
    "        print(\"loaded posts\")\n",
    "    else:\n",
    "        print(\"No data found for \"+name+\", scraping...\")\n",
    "        \n",
    "        # April 2024\n",
    "        monthPosts = scrape(url)\n",
    "        saveJSON(fileName, monthPosts)\n",
    "\n",
    "        print(\"Data saved to \"+fileName)\n",
    "\n",
    "    posts.append(monthPosts)\n"
   ]
  },
  {
   "cell_type": "code",
   "execution_count": 6,
   "metadata": {},
   "outputs": [],
   "source": [
    "#| hide\n",
    "from nbdev import nbdev_export\n",
    "nbdev_export()"
   ]
  }
 ],
 "metadata": {
  "kernelspec": {
   "display_name": ".venv",
   "language": "python",
   "name": "python3"
  },
  "language_info": {
   "codemirror_mode": {
    "name": "ipython",
    "version": 3
   },
   "file_extension": ".py",
   "mimetype": "text/x-python",
   "name": "python",
   "nbconvert_exporter": "python",
   "pygments_lexer": "ipython3",
   "version": "3.12.1"
  }
 },
 "nbformat": 4,
 "nbformat_minor": 2
}
