{
 "cells": [
  {
   "cell_type": "markdown",
   "metadata": {},
   "source": [
    "* Create example posts to use \n"
   ]
  },
  {
   "cell_type": "code",
   "execution_count": 1,
   "metadata": {},
   "outputs": [
    {
     "name": "stdout",
     "output_type": "stream",
     "text": [
      "Note: you may need to restart the kernel to use updated packages.\n",
      "Note: you may need to restart the kernel to use updated packages.\n",
      "Note: you may need to restart the kernel to use updated packages.\n"
     ]
    }
   ],
   "source": [
    "#| default_exp testing\n",
    "\n",
    "%pip install -q langchain_core\n",
    "%pip install -q langchain_openai\n",
    "%pip install -q nbdev\n"
   ]
  },
  {
   "cell_type": "code",
   "execution_count": 1,
   "metadata": {},
   "outputs": [],
   "source": [
    "from langchain_core.prompts import PromptTemplate\n",
    "\n",
    "firstPrompt = PromptTemplate.from_template(\"\"\"Return one or more json objects together in an array to describe the jobs in a job posting. If there is only one job posting presented here, return a json object containing a summary of every separate piece of information in the job posting. If the job describes multiple roles, create separate json objects for each role. Here are the key values currently being used to categorize jobs:\\n{key_values}\\n.Use the existing key values where they are relevant. If there is no relevant existing key, add new, relevant key to your json object.\\n\n",
    "Here is the job posting:\\n{job_posting}\"\"\")\n",
    "\n",
    "subsequentPrompt = PromptTemplate.from_template(\"\"\"You will be returning one or more json objects together in an array to describe the jobs in a job posting. If there is only one job posting presented here, return a json object containing a summary of every separate piece of information in the job posting. If the job describes multiple roles, create a separate json object for each role. Here are examples of the format of the json object you should return:\\n{json_examples}\\n Here are the key values currently being used to categorize jobs:\\n{key_values}\\n.Use the existing key values where they are relevant. If there is no relevant existing key, add new, relevant key to your json object.\\n Here is the job posting: \\n{job_posting}\"\"\")\n",
    "\n"
   ]
  },
  {
   "cell_type": "code",
   "execution_count": 3,
   "metadata": {},
   "outputs": [],
   "source": [
    "from hn_jobs_chat.scraper import loadJSON\n",
    "\n",
    "posts = loadJSON('posts.json')"
   ]
  },
  {
   "cell_type": "code",
   "execution_count": 4,
   "metadata": {},
   "outputs": [],
   "source": [
    "from langchain_openai import ChatOpenAI\n",
    "\n",
    "post = posts[0]\n",
    "\n",
    "msg = firstPrompt.format(job_posting = post['comment'])\n",
    "\n",
    "model = ChatOpenAI()\n",
    "\n",
    "response = model.invoke(msg)"
   ]
  },
  {
   "cell_type": "code",
   "execution_count": 3,
   "metadata": {},
   "outputs": [
    {
     "ename": "NameError",
     "evalue": "name 'response' is not defined",
     "output_type": "error",
     "traceback": [
      "\u001b[0;31m---------------------------------------------------------------------------\u001b[0m",
      "\u001b[0;31mNameError\u001b[0m                                 Traceback (most recent call last)",
      "Cell \u001b[0;32mIn[3], line 3\u001b[0m\n\u001b[1;32m      1\u001b[0m \u001b[38;5;28;01mimport\u001b[39;00m  \u001b[38;5;21;01mjson\u001b[39;00m\n\u001b[1;32m      2\u001b[0m \u001b[38;5;66;03m# Parse the JSON string to a Python dictionary\u001b[39;00m\n\u001b[0;32m----> 3\u001b[0m initial_parsed_datum \u001b[38;5;241m=\u001b[39m json\u001b[38;5;241m.\u001b[39mloads(\u001b[43mresponse\u001b[49m\u001b[38;5;241m.\u001b[39mcontent)\n\u001b[1;32m      4\u001b[0m parsed_data \u001b[38;5;241m=\u001b[39m initial_parsed_datum\n\u001b[1;32m      6\u001b[0m parsed_data\n",
      "\u001b[0;31mNameError\u001b[0m: name 'response' is not defined"
     ]
    }
   ],
   "source": [
    "import  json\n",
    "# Parse the JSON string to a Python dictionary\n",
    "initial_parsed_datum = json.loads(response.content)\n",
    "parsed_data = initial_parsed_datum\n",
    "\n",
    "parsed_data"
   ]
  },
  {
   "cell_type": "code",
   "execution_count": 2,
   "metadata": {},
   "outputs": [
    {
     "ename": "NameError",
     "evalue": "name 'parsed_data' is not defined",
     "output_type": "error",
     "traceback": [
      "\u001b[0;31m---------------------------------------------------------------------------\u001b[0m",
      "\u001b[0;31mNameError\u001b[0m                                 Traceback (most recent call last)",
      "Cell \u001b[0;32mIn[2], line 31\u001b[0m\n\u001b[1;32m      5\u001b[0m \u001b[38;5;66;03m# Keys extracted from previous job postings\u001b[39;00m\n\u001b[1;32m      6\u001b[0m keys \u001b[38;5;241m=\u001b[39m [ \n\u001b[1;32m      7\u001b[0m     \u001b[38;5;124m'\u001b[39m\u001b[38;5;124mcompany\u001b[39m\u001b[38;5;124m'\u001b[39m,\n\u001b[1;32m      8\u001b[0m     \u001b[38;5;124m'\u001b[39m\u001b[38;5;124mlocation\u001b[39m\u001b[38;5;124m'\u001b[39m,\n\u001b[0;32m   (...)\u001b[0m\n\u001b[1;32m     28\u001b[0m     \u001b[38;5;124m'\u001b[39m\u001b[38;5;124madditional_notes\u001b[39m\u001b[38;5;124m'\u001b[39m\n\u001b[1;32m     29\u001b[0m ]\n\u001b[0;32m---> 31\u001b[0m itemStr \u001b[38;5;241m=\u001b[39m \u001b[38;5;28mmap\u001b[39m(\u001b[38;5;28;01mlambda\u001b[39;00m x: json\u001b[38;5;241m.\u001b[39mdumps(x), \u001b[43mparsed_data\u001b[49m[\u001b[38;5;241m0\u001b[39m])\n\u001b[1;32m     32\u001b[0m examplesStr \u001b[38;5;241m=\u001b[39m \u001b[38;5;124m\"\u001b[39m\u001b[38;5;124m \u001b[39m\u001b[38;5;124m\"\u001b[39m\u001b[38;5;241m.\u001b[39mjoin(itemStr)\n\u001b[1;32m     34\u001b[0m examplesStr\n",
      "\u001b[0;31mNameError\u001b[0m: name 'parsed_data' is not defined"
     ]
    }
   ],
   "source": [
    "import  json\n",
    "from hn_jobs_chat.scraper import saveJSON\n",
    "\n",
    "result = {}\n",
    "# Keys extracted from previous job postings\n",
    "keys = [ \n",
    "    'company',\n",
    "    'location',\n",
    "    'industry',\n",
    "    'target_market',\n",
    "    'company_status',\n",
    "    'company_description',\n",
    "    'company_goal',\n",
    "    'company_stage',\n",
    "    'more_company_info',\n",
    "    'employment_type',\n",
    "    'remote/local details',\n",
    "    'job_title',\n",
    "    'job_description'\n",
    "    'job_requirements/tech stack',\n",
    "    'job_soft_skills',\n",
    "    'product_description',\n",
    "    'tech_stack',\n",
    "    'application_process',\n",
    "    'work_schedule',\n",
    "    'contact_email',\n",
    "    'contact_url',\n",
    "    'additional_urls',\n",
    "    'additional_notes',\n",
    "    'compensation'\n",
    "]\n",
    "\n",
    "itemStr = map(lambda x: json.dumps(x), parsed_data[0])\n",
    "examplesStr = \" \".join(itemStr)\n",
    "\n",
    "examplesStr"
   ]
  },
  {
   "cell_type": "code",
   "execution_count": null,
   "metadata": {},
   "outputs": [],
   "source": [
    "postItems = posts[:5]\n",
    "\n",
    "for i in range(len(postItems)):\n",
    "    if i != 0:\n",
    "        msg = subsequentPrompt.format(job_posting = postItems[i]['comment'], json_examples = examplesStr, key_values = \", \".join(keys))\n",
    "\n",
    "        print(msg)\n",
    "        resp = model.invoke(msg)\n",
    "        parsed_datum = json.loads(resp.content)\n",
    "        for  job in  parsed_datum:\n",
    "            parsed_data.append(job)\n",
    "\n",
    "        # We don't care much for the shape of the json object the machine generates, as long as it remains uniform. So, we use the first 5 outputs as examples for the rest.\n",
    "        if i < 5:\n",
    "            itemStr = map(lambda x: json.dumps(x), parsed_data)\n",
    "            examplesStr += \" \".join(itemStr)\n",
    "\n",
    "        if i == 4 or i == 0:\n",
    "            print('\\n\\n', msg)\n",
    "            print ('\\n\\n', examplesStr)\n",
    "        # We don't care much for the shape of the json object the machine generates, as long as it remains uniform. So, we use the first 5 outputs as examples for the rest.\n",
    "        if i < 5:\n",
    "            itemStr = map(lambda x: json.dumps(x), parsed_data)\n",
    "            examplesStr += \" \".join(itemStr)\n",
    "\n",
    "        if i == 4 or i == 0:\n",
    "            print('\\n\\n', msg)\n",
    "            print ('\\n\\n', examplesStr)\n",
    "\n",
    "        print(parsed_data)\n",
    "\n",
    "\n",
    "saveJSON('examplePosts.json', parsed_data)"
   ]
  },
  {
   "cell_type": "markdown",
   "metadata": {},
   "source": [
    "We split the iteration over the request so we don't do it unnecessarily"
   ]
  },
  {
   "cell_type": "code",
   "execution_count": 52,
   "metadata": {},
   "outputs": [
    {
     "name": "stdout",
     "output_type": "stream",
     "text": [
      "[[{'job_title': 'Senior Software Engineer', 'company': 'Irth Solutions', 'description': 'At Irth Solutions we build software that improve resilience and reduce risk to critical infrastructure that millions of people and businesses rely on each day. Our systems handle millions of requests a day, coordinating activities between critical infrastructure providers, contract locators, excavators, and a variety of other stakeholders throughout North America.', 'technical_requirements': ['C# development experience using .NET Core, WebAPI, and Entity Framework', 'Experience building browser applications using Angular and Typescript', 'Strong relational database experience with Postgres (preferred) or MS SQL Server including SQL, database functions, indexing, and performance tuning', 'Kubernetes, Docker, Linux'], 'apply_link': 'https://apply.workable.com/irth-solutions/j/33AD66BA3A/'}], {'company': 'Tandem Health', 'job_title': 'Software Engineer', 'location': 'Stockholm, Sweden', 'work_schedule': 'Full time', 'description': \"At Tandem Health we're building a clinician copilot to allow clinicians to focus on care rather than administration. We’re building, launching and iterating quickly, already at $300k ARR (+35% MoM) with over 50 care providers using the product every day. With our target set at the ginormous European healthcare market.\", 'tech_stack': ['Python', 'TypeScript/React'], 'cloud_provider': 'Azure', 'contact_email': 'john.moberg@tandemhealth.se'}, {'company': 'Tandem Health', 'position': 'Software Engineers', 'location': 'On-site in Stockholm, Sweden', 'employment_type': 'Full time', 'description': \"At Tandem Health we're building a clinician copilot to allow clinicians to focus on care rather than administration. We’re building, launching and iterating quickly, already at $300k ARR (+35% MoM) with over 50 care providers using the product every day. With our target set at the ginormous European healthcare market. We’ve recently raised a large seed round and are expanding our Stockholm team with exceptional engineers! Our tech stack is mostly Python and TypeScript/React running on k8s in Azure.\", 'more_info': ['https://tandemhealth.ai', 'https://tandem-health.notion.site/Tandem-Health-Careers-f066...'], 'contact_email': 'john.moberg@tandemhealth.se'}]\n"
     ]
    }
   ],
   "source": [
    "print(parsed_data)"
   ]
  },
  {
   "cell_type": "code",
   "execution_count": 53,
   "metadata": {},
   "outputs": [],
   "source": [
    "\n",
    "# let's see how frequently each key appears\n",
    "tally = {}\n",
    "keys\n",
    "for key in keys:\n",
    "#     result[key] = [datum[key] for datum in parsed_data]\n",
    "    tally[key] = sum([1 for datum in parsed_data if key in datum])\n",
    "\n",
    "# result, tally"
   ]
  },
  {
   "cell_type": "markdown",
   "metadata": {},
   "source": [
    "We add all the gathered keys to the table."
   ]
  },
  {
   "cell_type": "markdown",
   "metadata": {},
   "source": [
    "We create a SQL query that posts by our new keys"
   ]
  },
  {
   "cell_type": "code",
   "execution_count": 57,
   "metadata": {},
   "outputs": [],
   "source": [
    "#| hide\n",
    "from nbdev import nbdev_export\n",
    "nbdev_export()"
   ]
  }
 ],
 "metadata": {
  "kernelspec": {
   "display_name": ".venv",
   "language": "python",
   "name": "python3"
  },
  "language_info": {
   "codemirror_mode": {
    "name": "ipython",
    "version": 3
   },
   "file_extension": ".py",
   "mimetype": "text/x-python",
   "name": "python",
   "nbconvert_exporter": "python",
   "pygments_lexer": "ipython3",
   "version": "3.12.1"
  }
 },
 "nbformat": 4,
 "nbformat_minor": 2
}
