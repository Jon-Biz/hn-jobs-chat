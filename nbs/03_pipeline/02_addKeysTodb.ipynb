{
 "cells": [
  {
   "cell_type": "markdown",
   "metadata": {},
   "source": [
    "# Add keys\n",
    "We add the keys we retreived from evaluating previous hn postings to the database."
   ]
  },
  {
   "cell_type": "markdown",
   "metadata": {},
   "source": [
    "We add all the gathered keys to the table."
   ]
  },
  {
   "cell_type": "code",
   "execution_count": 2,
   "metadata": {},
   "outputs": [],
   "source": [
    "\n",
    "from hn_jobs_chat.keys import keys\n",
    "from hn_jobs_chat.vars import postsTableName\n",
    "from hn_jobs_chat.db import connectToDB\n",
    "\n",
    "conn, cursor = connectToDB()\n",
    "\n",
    "for key in keys:\n",
    "    query = \"\"\"ALTER TABLE \"\"\"+postsTableName+\"\"\" ADD COLUMN IF NOT EXISTS  \"\"\"+ key +\"\"\" TEXT\"\"\"\n",
    "    cursor.execute(query)\n",
    "    conn.commit()\n",
    "\n",
    "conn.close()"
   ]
  },
  {
   "cell_type": "markdown",
   "metadata": {},
   "source": [
    "We create a SQL query that posts by our new keys"
   ]
  },
  {
   "cell_type": "code",
   "execution_count": 3,
   "metadata": {},
   "outputs": [],
   "source": [
    "#| hide\n",
    "from nbdev import nbdev_export\n",
    "nbdev_export()"
   ]
  }
 ],
 "metadata": {
  "kernelspec": {
   "display_name": ".venv",
   "language": "python",
   "name": "python3"
  },
  "language_info": {
   "codemirror_mode": {
    "name": "ipython",
    "version": 3
   },
   "file_extension": ".py",
   "mimetype": "text/x-python",
   "name": "python",
   "nbconvert_exporter": "python",
   "pygments_lexer": "ipython3",
   "version": "3.12.1"
  }
 },
 "nbformat": 4,
 "nbformat_minor": 2
}
