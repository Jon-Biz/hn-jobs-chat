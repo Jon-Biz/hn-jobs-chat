{
 "cells": [
  {
   "cell_type": "markdown",
   "metadata": {},
   "source": [
    "# Backup data to csv file"
   ]
  },
  {
   "cell_type": "code",
   "execution_count": null,
   "metadata": {},
   "outputs": [],
   "source": [
    "from hn_jobs_chat import init_scrape\n",
    "import psycopg2\n",
    "\n",
    "postsTableName = init_scrape.postsTableName\n",
    "\n",
    "conn = psycopg2.connect(\"dbname=Bumpant user=Bumpant password=ampegskb\")\n",
    "cursor = conn.cursor()\n",
    "\n",
    "query = \"\"\"SELECT * FROM \"\"\" + postsTableName\n",
    "\n",
    "cursor.execute(query)\n",
    "\n",
    "data = cursor.fetchall()\n",
    "\n",
    "import csv\n",
    "\n",
    "with open('backup_after_parse_' + postsTableName + '.csv', mode='w', newline='') as file:\n",
    "    writer = csv.writer(file)\n",
    "    writer.writerow([i[0] for i in cursor.description])  # write headers\n",
    "    writer.writerows(data)\n",
    "\n",
    "conn.commit()   \n",
    "conn.close() \n",
    "# Lets start by backing up the table <<postsTableName>> to a csv file"
   ]
  },
  {
   "cell_type": "code",
   "execution_count": null,
   "metadata": {},
   "outputs": [],
   "source": []
  }
 ],
 "metadata": {
  "language_info": {
   "name": "python"
  }
 },
 "nbformat": 4,
 "nbformat_minor": 2
}
