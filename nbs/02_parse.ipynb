{
 "cells": [
  {
   "cell_type": "code",
   "execution_count": 1,
   "metadata": {},
   "outputs": [
    {
     "name": "stdout",
     "output_type": "stream",
     "text": [
      "Note: you may need to restart the kernel to use updated packages.\n"
     ]
    },
    {
     "name": "stdout",
     "output_type": "stream",
     "text": [
      "Note: you may need to restart the kernel to use updated packages.\n",
      "Note: you may need to restart the kernel to use updated packages.\n"
     ]
    }
   ],
   "source": [
    "#| default_exp testing\n",
    "\n",
    "%pip install -q langchain_core\n",
    "%pip install -q langchain_openai\n",
    "%pip install -q nbdev"
   ]
  },
  {
   "cell_type": "code",
   "execution_count": 2,
   "metadata": {},
   "outputs": [],
   "source": [
    "from langchain_core.prompts import PromptTemplate\n",
    "from hn_jobs_chat.util import loadJSON\n",
    "\n",
    "import json\n",
    "\n",
    "examplePrompt = PromptTemplate.from_template(\"\"\"Here is an example job post:\\n\\n{job_posting}\\n\\nHere is the response to return for this example:\\n\\n{response}\\n\\n----------\\n\\n\"\"\")\n",
    "\n",
    "def getJsonExamples():\n",
    "    examplePrompts = []\n",
    "    posts = loadJSON('posts.json')\n",
    "    example_responses = loadJSON('./examples.json')\n",
    "\n",
    "    for example, post in zip(example_responses, posts):\n",
    "        examplePresentation = examplePrompt.format(job_posting=post['comment'], response=json.dumps(example))\n",
    "\n",
    "        examplePrompts.append(examplePresentation)\n",
    "\n",
    "    return examplePrompts"
   ]
  },
  {
   "cell_type": "code",
   "execution_count": 61,
   "metadata": {},
   "outputs": [],
   "source": [
    "from langchain_core.prompts import PromptTemplate\n",
    "\n",
    "subsequentPrompt = PromptTemplate.from_template(\"\"\"\n",
    "You will be returning one or more JSON objects together in an array to describe the jobs in a job posting.\n",
    "\n",
    "Here are examples of the format of the JSON object you should return. For each example, first the job posting is displayed, then the data that should be extracted:\\n\\n{json_examples}\\n\n",
    "\n",
    "Here are the key values currently being used to categorize jobs, with a description of the contents it will hold:\\n\\n{key_values}.\\n\\n\n",
    "* As you parse the job listing, for each piece of information you want to record, walk step by step through these key values, determining for each one where it is an appropriate key for the information you need to add. Find the most relevant key, do not add any new keys not on this list. If there is no relevant key, add the information to the 'additional_notes' array.\n",
    "* If the information for a key isn't present, omit it from your response. \\n\n",
    "* If the post states that certain specific information is available from their website, mark that as 'ON WEBSITE'. Do not use this key unless a url is available, and the job listing explicitly says that the information is there.\\n\n",
    "* If there is only one job posting presented by the post, return a JSON object containing a summary of every separate piece of information in the job posting.\\n* If the job describes multiple roles, create a separate JSON object for each role.\\n* If the job states that multiple roles are open, but does not state the roles, use 'Multiple Roles' as the job title.\\n\\nHere is the job posting to evaluate:\\n\\n{job_posting}\"\"\")\n",
    "\n"
   ]
  },
  {
   "cell_type": "code",
   "execution_count": 4,
   "metadata": {},
   "outputs": [],
   "source": [
    "from hn_jobs_chat.scraper import loadJSON\n",
    "\n",
    "posts = loadJSON('posts.json')"
   ]
  },
  {
   "cell_type": "code",
   "execution_count": 5,
   "metadata": {},
   "outputs": [],
   "source": [
    "# print(getJsonExamples())"
   ]
  },
  {
   "cell_type": "code",
   "execution_count": 6,
   "metadata": {},
   "outputs": [],
   "source": [
    "# from langchain_openai import ChatOpenAI\n",
    "\n",
    "# post = posts[0]\n",
    "\n",
    "# msg = firstPrompt.format(job_posting = post['comment'])\n",
    "\n",
    "# model = ChatOpenAI()\n",
    "\n",
    "# response = model.invoke(msg)"
   ]
  },
  {
   "cell_type": "code",
   "execution_count": 3,
   "metadata": {},
   "outputs": [],
   "source": [
    "from hn_jobs_chat.responseKeys import keysStr\n",
    "\n",
    "keysStr = keys\n"
   ]
  },
  {
   "cell_type": "code",
   "execution_count": 8,
   "metadata": {},
   "outputs": [
    {
     "name": "stdout",
     "output_type": "stream",
     "text": [
      "Here is an example job post:\n",
      "\n",
      "At Irth Solutions we build software that improve resilience and reduce risk to critical infrastructure that millions of people and businesses rely on each day. Our systems handle millions of requests a day, coordinating activities between critical infrastructure providers, contract locators, excavators, and a variety of other stakeholders throughout North America.\n",
      "We’re growing our team and are in immediate need for a Senior Software Engineer. Here are some notes on the technical requirements:\n",
      "* C# development experience using .NET Core, WebAPI, and Entity Framework\n",
      "* Experience building browser applications using Angular and Typescript\n",
      "* Strong relational database experience with Postgres (preferred) or MS SQL Server including SQL, database functions, indexing, and performance tuning\n",
      "* Kubernetes, Docker, Linux\n",
      "Apply here: https://apply.workable.com/irth-solutions/j/33AD66BA3A/\n",
      "We’re growing, so new positions will open up frequently. Please check back with if this one doesn’t fit your background\n",
      "reply\n",
      "\n",
      "Here is the response to return for this example:\n",
      "\n",
      "[{\"company\": \"Irth Solutions\", \"company_goal\": \"Improve resilience and reduce risk to critical infrastructure that millions of people and businesses rely on each day\", \"location\": \"North America\", \"job_title\": \"Senior Software Engineer\", \"job_requirements\": [\"C# development experience using .NET Core, WebAPI, and Entity Framework\", \"Experience building browser applications using Angular and Typescript\", \"Strong relational database experience with Postgres (preferred) or MS SQL Server including SQL, database functions, indexing, and performance tuning\", \"Kubernetes, Docker, Linux\"], \"tech_stack\": [\"C#\", \".Net Core\", \"WebAPI\", \"Entity Framework\", \"Angular\", \"Typescript\", \"PostGres\", \"Kubernetes\", \"Docker\", \"Linux\"], \"contact_url\": \"https://apply.workable.com/irth-solutions/j/33AD66BA3A/\", \"additional_notes\": \"We\\u2019re growing, so new positions will open up frequently. Please check back with if this one doesn\\u2019t fit your background\"}]\n",
      "\n",
      "----------\n",
      "\n",
      "Here is an example job post:\n",
      "\n",
      "Tandem Health | Software Engineers | On-site in Stockholm, Sweden | Full time\n",
      "At Tandem Health we're building a clinician copilot to allow clinicians to focus on care rather than administration. We’re building, launching and iterating quickly, already at $300k ARR (+35% MoM) with over 50 care providers using the product every day. With our target set at the ginormous European healthcare market.\n",
      "We’ve recently raised a large seed round and are expanding our Stockholm team with exceptional engineers! Our tech stack is mostly Python and TypeScript/React running on k8s in Azure.\n",
      "More info: https://tandemhealth.ai or https://tandem-health.notion.site/Tandem-Health-Careers-f066...\n",
      "Feel free to reach out to john.moberg@tandemhealth.se if you have any questions.\n",
      "reply\n",
      "\n",
      "Here is the response to return for this example:\n",
      "\n",
      "[{\"company\": \"Tandem Health\", \"company_goal\": \"we're building a clinician copilot to allow clinicians to focus on care rather than administration.\", \"job_title\": \"Software Engineer\", \"location\": \"Stockholm, Sweden\", \"company_stage\": \"seed round\", \"company_state\": \"$300k ARR (+35% MoM) with over 50 care providers using the product every day.\", \"remote/local/hybrid details\": \"On-site in Stockholm, Sweden\", \"work_schedule\": \"Full time\", \"contact_url\": \"john.moberg@tandemhealth.se\", \"tech_stack\": [\"Python\", \"TypeScript\", \"React\", \"k8s\", \"Azure\"], \"urls\": [\"https://tandemhealth.ai\", \"https://tandem-health.notion.site/Tandem-Health-Careers-f066\"]}]\n",
      "\n",
      "----------\n",
      "\n",
      "Here is an example job post:\n",
      "\n",
      "Rubie | Founding engineer | New York City | Full time | Onsite\n",
      "Rubie is helping companies with complex software (ERPs, CRMs, etc) launch with their customers faster. We do this by automating the highly repetitive manual tasks that professional services and customer success teams perform using novel agentic infrastructure. This results in a massively faster customer implementation cycle - in the case of one of our partners, 70% faster!\n",
      "We are hiring founding engineers in person in NYC. The first step in our process is completing our reverse engineering challenge, which is located here: https://ReverseEngineerThisSite.com\n",
      "reply\n",
      "\n",
      "Here is the response to return for this example:\n",
      "\n",
      "[{\"company\": \"Rubie\", \"job_title\": \"Founding engineer\", \"location\": \"New York City\", \"work_schedule\": \"Full time\", \"remote/local/hybrid details\": \"Local only\", \"company_goal\": \"helping companies with complex software (ERPs, CRMs, etc) launch with their customers faster by automating the highly repetitive manual tasks that professional services and customer success teams perform using novel agentic infrastructure.\", \"job_requirements\": \"Experience with complex software (ERPs, CRMs, etc), ability to complete reverse engineering challenge\", \"contact_url\": \"https://ReverseEngineerThisSite.com\", \"application_process\": \"The first step in our process is completing our reverse engineering challenge, which is located here: https://ReverseEngineerThisSite.com\"}]\n",
      "\n",
      "----------\n",
      "\n",
      "Here is an example job post:\n",
      "\n",
      "MongoDB-- we're looking for an experienced Java developer who has expertise in building applications with Hibernate ORM (even better if you are familiar with hibernate-ogm) to help build a Hibernate integration with MongoDB. High priority + impact + high visibility role!\n",
      "Fully REMOTE (global) | Software Engineer, Java (Database Experience Team) | Full-Time | Base + RSU's | Interested? More info + apply here: https://grnh.se/e29caf031us\n",
      "reply\n",
      "\n",
      "Here is the response to return for this example:\n",
      "\n",
      "[{\"company\": \"MongoDB\", \"job_title\": \"Software Engineer, Java (Database Experience Team)\", \"job_description\": \"High priority + impact + high visibility role!\", \"remote/local details\": \"Fully REMOTE(global)\", \"job_requirements\": \"experienced Java developer who has expertise in building applications with Hibernate ORM (even better if you are familiar with hibernate-ogm)\", \"contact_url\": \"https://grnh.se/e29caf031us\", \"tech_stack\": [\"Java\", \"Hibernate ORM\"], \"compensation\": \"Base + RSU's\"}]\n",
      "\n",
      "----------\n",
      "\n",
      "Here is an example job post:\n",
      "\n",
      "VALIS Insights | Full-time | REMOTE (US)\n",
      "I'm the co-founder and CTO of VALIS, a B2B SaaS company delivering software solutions to the metals recycling industry. Our goal is to reduce global carbon emissions through maximizing the recovery of metals through recycling, which requires a fraction of the energy compared to mining and primary metals production. We're a seed-stage startup, backed by leading climate-tech VC's.\n",
      "Product-wise, we integrate recycling processes, equipment/sensors, production, and procurement/sales data to deliver an insights platform that helps metals recovery facilities optimize their processes. We employ a strong, domain-driven design approach to building our product. We're looking for execution-focused engineers to join our team and deliver complex features with autonomy.\n",
      "We're currently hiring for two roles:\n",
      "Senior Backend Engineer - https://apply.workable.com/valis-insights-1/j/4745C9DC32/\n",
      "Full-Stack Engineer - https://apply.workable.com/valis-insights-1/j/3A06E4C40A/\n",
      "Please reach out to me at caleb.ralphs@valisinsights.com and apply if you're interested.\n",
      "reply\n",
      "\n",
      "Here is the response to return for this example:\n",
      "\n",
      "[{\"company\": \"VALIS Insights\", \"job_title\": \"Senior Backend Engineer\", \"job_requirements\": \"Execution-focused engineers who can deliver complex features with autonomy\", \"contact_url\": \"caleb.ralphs@valisinsights.com\", \"work_schedule\": \"Full-time\", \"remote/local details\": \"REMOTE (US)\", \"company_goal\": \"reduce global carbon emissions through maximizing the recovery of metals through recycling, which requires a fraction of the energy compared to mining and primary metals production.\", \"company_stage\": \"seed\", \"urls\": [\"https://apply.workable.com/valis-insights-1/j/4745C9DC32/\", \"https://apply.workable.com/valis-insights-1/j/3A06E4C40A/\"], \"additional_notes\": [\"backed by leading climate-tech VC's.\\nProduct-wise, we integrate recycling processes, equipment/sensors, production, and procurement/sales data to deliver an insights platform that helps metals recovery facilities optimize their processes.\", \"We employ a strong, domain-driven design approach to building our product.\"]}, {\"company\": \"VALIS Insights\", \"job_title\": \"Full-Stack Engineer\", \"job_requirements\": \"Execution-focused engineers who can deliver complex features with autonomy\", \"contact_url\": \"caleb.ralphs@valisinsights.com\", \"work_schedule\": \"Full-time\", \"remote/local details\": \"REMOTE (US)\", \"company_goal\": \"reduce global carbon emissions through maximizing the recovery of metals through recycling, which requires a fraction of the energy compared to mining and primary metals production.\", \"company_stage\": \"seed\", \"urls\": [\"https://apply.workable.com/valis-insights-1/j/4745C9DC32/\", \"https://apply.workable.com/valis-insights-1/j/3A06E4C40A/\"], \"additional_notes\": [\"backed by leading climate-tech VC's. Product-wise, we integrate recycling processes, equipment/sensors, production, and procurement/sales data to deliver an insights platform that helps metals recovery facilities optimize their processes.\", \"We employ a strong, domain-driven design approach to building our product.\"]}]\n",
      "\n",
      "----------\n",
      "\n",
      "Here is an example job post:\n",
      "\n",
      "Duolingo | Multiple Roles | Hybrid | Pittsburgh/Seattle/NYC | Full-time | $148,800-$274,600 + equity/benefits\n",
      "Here at Duolingo, we are passionate about educating our users, making fact-based decisions, and finding innovative solutions to complex problems. We offer meaningful work, limitless learning opportunities, and collaboration with world-class minds. Come brighten your life and over half a billion more!\n",
      "Highlighted Roles:\n",
      "Database Reliability Engineer (PGH)\n",
      "Platform Engineer (PGH)\n",
      "Senior Mobile Engineers, iOS and Android (PGH, NYC, Seattle)\n",
      "Senior Backend Engineers (PGH)\n",
      "Engineering Leadership, Manager or Director (PGH)\n",
      "Senior/Staff Data Scientists, Economics (PGH or NYC)\n",
      "For more details, you can view/apply to all current openings here: https://grnh.se/41f1af102us\n",
      "            ,     ,\n",
      "            )\\___/(\n",
      "           {(@)v(@)}\n",
      "            {|~~~|}\n",
      "            {/^^^\\}\n",
      "             `m-m`\n",
      "reply\n",
      "\n",
      "Here is the response to return for this example:\n",
      "\n",
      "[{\"company\": \"Duolingo\", \"job_title\": \"Multiple Roles\", \"job_requirements\": \"Available on the website link provided\", \"contact_url\": \"https://grnh.se/41f1af102us\", \"remote/local details\": \"Hybrid\", \"compensation\": \"$148,800-$274,600 + equity/benefits\", \"company_goal\": \"we are passionate about educating our users, making fact-based decisions, and finding innovative solutions to complex problems.\", \"additional_notes\": \"We offer meaningful work, limitless learning opportunities, and collaboration with world-class minds. Come brighten your life and over half a billion more!\"}, {\"company\": \"Duolingo\", \"job_title\": \"Database Reliability Engineer\", \"job_requirements\": \"Available on the website link provided\", \"contact_url\": \"https://grnh.se/41f1af102us\", \"remote/local details\": \"Hybrid\", \"location\": \"Pittsburgh (PGH)\", \"compensation\": \"$148,800-$274,600 + equity/benefits\", \"company_goal\": \"we are passionate about educating our users, making fact-based decisions, and finding innovative solutions to complex problems.\", \"additional_notes\": \"We offer meaningful work, limitless learning opportunities, and collaboration with world-class minds. Come brighten your life and over half a billion more!\"}, {\"company\": \"Duolingo\", \"job_title\": \"Platform Engineer (PGH)\", \"job_requirements\": \"Available on the website link provided\", \"contact_url\": \"https://grnh.se/41f1af102us\", \"remote/local details\": \"Hybrid\", \"location\": \"Pittsburgh (PGH)\", \"compensation\": \"$148,800-$274,600 + equity/benefits\", \"company_goal\": \"we are passionate about educating our users, making fact-based decisions, and finding innovative solutions to complex problems.\", \"additional_notes\": \"We offer meaningful work, limitless learning opportunities, and collaboration with world-class minds. Come brighten your life and over half a billion more!\"}, {\"company\": \"Duolingo\", \"job_title\": \"Senior Mobile Engineer, iOS and Android\", \"location\": [\"Pittsburgh (PGH)\", \"NYC\", \"Seattle\"], \"job_requirements\": \"Available on the website link provided\", \"contact_url\": \"https://grnh.se/41f1af102us\", \"remote/local details\": \"Hybrid\", \"compensation\": \"$148,800-$274,600 + equity/benefits\", \"company_goal\": \"we are passionate about educating our users, making fact-based decisions, and finding innovative solutions to complex problems.\", \"additional_notes\": \"We offer meaningful work, limitless learning opportunities, and collaboration with world-class minds. Come brighten your life and over half a billion more!\"}, {\"company\": \"Duolingo\", \"job_title\": \"Senior Backend Engineer\", \"location\": \"Pittsburgh (PGH)\", \"job_requirements\": \"Available on the website link provided\", \"contact_url\": \"https://grnh.se/41f1af102us\", \"remote/local details\": \"Hybrid\", \"compensation\": \"$148,800-$274,600 + equity/benefits\", \"company_goal\": \"we are passionate about educating our users, making fact-based decisions, and finding innovative solutions to complex problems.\", \"additional_notes\": \"We offer meaningful work, limitless learning opportunities, and collaboration with world-class minds. Come brighten your life and over half a billion more!\"}, {\"company\": \"Duolingo\", \"job_title\": \"Engineering Manager\", \"location\": \"Pittsburgh (PGH)\", \"job_requirements\": \"Available on the website link provided\", \"contact_url\": \"https://grnh.se/41f1af102us\", \"remote/local details\": \"Hybrid\", \"compensation\": \"$148,800-$274,600 + equity/benefits\", \"company_goal\": \"we are passionate about educating our users, making fact-based decisions, and finding innovative solutions to complex problems.\", \"additional_notes\": \"We offer meaningful work, limitless learning opportunities, and collaboration with world-class minds. Come brighten your life and over half a billion more!\"}, {\"company\": \"Duolingo\", \"job_title\": \"Engineering Director\", \"location\": \"Pittsburgh (PGH)\", \"job_requirements\": \"Available on the website link provided\", \"contact_url\": \"https://grnh.se/41f1af102us\", \"remote/local details\": \"Hybrid\", \"compensation\": \"$148,800-$274,600 + equity/benefits\", \"company_goal\": \"we are passionate about educating our users, making fact-based decisions, and finding innovative solutions to complex problems.\", \"additional_notes\": \"We offer meaningful work, limitless learning opportunities, and collaboration with world-class minds. Come brighten your life and over half a billion more!\"}, {\"company\": \"Duolingo\", \"job_title\": \"Senior Data Scientist, Economics\", \"location\": [\"Pittsburgh (PGH)\", \"NYC\"], \"job_requirements\": \"Available on the website link provided\", \"contact_url\": \"https://grnh.se/41f1af102us\", \"remote/local details\": \"Hybrid\", \"compensation\": \"$148,800-$274,600 + equity/benefits\", \"company_goal\": \"we are passionate about educating our users, making fact-based decisions, and finding innovative solutions to complex problems.\", \"additional_notes\": \"We offer meaningful work, limitless learning opportunities, and collaboration with world-class minds. Come brighten your life and over half a billion more!\"}, {\"company\": \"Duolingo\", \"job_title\": \"Staff Data Scientist, Economics\", \"location\": [\"Pittsburgh (PGH)\", \"NYC\"], \"job_requirements\": \"On\", \"contact_url\": \"https://grnh.se/41f1af102us\", \"remote/local details\": \"Hybrid\", \"compensation\": \"$148,800-$274,600 + equity/benefits\", \"company_goal\": \"we are passionate about educating our users, making fact-based decisions, and finding innovative solutions to complex problems.\", \"additional_notes\": \"We offer meaningful work, limitless learning opportunities, and collaboration with world-class minds. Come brighten your life and over half a billion more!\"}]\n",
      "\n",
      "----------\n",
      "\n",
      "Here is an example job post:\n",
      "\n",
      "Hey Lauren! Will Duolingo be posting any new grad / junior roles soon?\n",
      "reply\n",
      "\n",
      "Here is the response to return for this example:\n",
      "\n",
      "[{\"company\": \"Gattaca\", \"job_title\": \"Founding Engineer\", \"location\": \"NYC\", \"remote/local details\": \"in-person\", \"work_schedule\": \"Full-time\", \"contact_url\": \"https://trygattaca.com\", \"company_goal\": \"build agentic services to increase output of engineering teams, starting by solving client tests on mobile\", \"company_status\": \"3 months in: (1) $MRR growing XXX% m/o/m and (2) built v0.1 tech and early cold outreach\", \"job_requirements\": \"Searching for an A+ developer/teammate. We do not care about stack, education, age, location, or past titles. All that matters is your heart and whether you can ship faster than us.\", \"contact_email\": \"founders@trygattaca.com\", \"additional_urls\": [\"https://tinyurl.com/yrr8fdwf\", \"https://tinyurl.com/4f57haj3\"], \"additional_notes\": [\"few things in life are as special as doing meaningful work with great people\", \"opportunity to 10x your growth curve\"]}]\n",
      "\n",
      "----------\n",
      "\n",
      "Here is an example job post:\n",
      "\n",
      "Gattaca | Founding Engineer | NYC (in-person) | Full-time | https://trygattaca.com/\n",
      "What we do: build agentic services to increase output of engineering teams, starting by solving client tests on mobile\n",
      "Results 3 months in: (1) $MRR growing XXX% m/o/m and (2) built v0.1 tech and early cold outreach\n",
      "Why worth joining now: (1) few things in life are as special as doing meaningful work with great people and (2) opportunity to 10x your growth curve\n",
      "Searching for an A+ developer/teammate. We do not care about stack, education, age, location, or past titles. All that matters is your heart and whether you can ship faster than us.\n",
      "What you can expect from us: (1) motivated teammates; we are all-in, (2) ~2x higher $/equity then SV standard for pre-seed, (3) freedom and trust\n",
      "To apply email founders@trygattaca.com\n",
      "More on the role: https://tinyurl.com/yrr8fdwf\n",
      "More on us: https://tinyurl.com/4f57haj3\n",
      "reply\n",
      "\n",
      "Here is the response to return for this example:\n",
      "\n",
      "[{\"company\": \"Parakey\", \"job_title\": \"Fullstack Developer\", \"job_requirements\": [\"Experienced with Typescript/Javascript (React.js)\", \"Comfortable with backend (Node.js and MongoDB)\", \"Preferably experienced with Cloud/AWS, continuous integration/deployment, and other programming languages\"], \"contact_url\": \"https://join.parakey.co/\", \"company_status\": \"We are a growing company aiming to shake up the access industry. As we gain more customers, we need to expand our team with another Fullstack Developer!\", \"company_goal\": \"aiming to shake up the access industry. Forget keys and fobs; we provide access solutions where customers unlock with their smartphones.\", \"job_description\": \"You will play a crucial role in advancing our product. At Parakey, you will help create the access solutions of tomorrow! Your main task will be to work on the backend for our apps and API customers while continuing to develop the user interface with your skilled colleagues. You will be an important part of our success and part of a supportive team that values well-being and minimizes stress.\", \"tech_stack\": [\"Typescript/Javascript\", \"React.js\", \"Node.js\", \"MongoDB\", \"Cloud/AWS\", \"continuous integration/deployment\", \"other programming languages\"]}]\n",
      "\n",
      "----------\n",
      "\n",
      "\n"
     ]
    }
   ],
   "source": [
    "import json\n",
    "\n",
    "json_examples = getJsonExamples()\n",
    "examplesStr = \"\".join(json_examples)\n",
    "\n",
    "renderedStr = print(examplesStr)\n"
   ]
  },
  {
   "cell_type": "code",
   "execution_count": 54,
   "metadata": {},
   "outputs": [],
   "source": [
    "# |export\n",
    "import json\n",
    "\n",
    "def toValidJSON(response, repromptNum=None):\n",
    "    # try catch here. If item fails, rerun it. If it fails more than 3 times, return None\n",
    "    try:\n",
    "        return json.loads(response.replace('\\n',''))\n",
    "    except:\n",
    "        print('Json parsing failed on response', response)\n",
    "        if repromptNum == None:\n",
    "            repromptNum = 0\n",
    "        \n",
    "        if repromptNum > 3:\n",
    "            return '{ \"errpr\": \"Could not receive valid json: Too many reprompts\",\"item\": '+item+'}'\n",
    "        \n",
    "        repromptNum += 1\n",
    "        return reprompt(response, repromptNum)\n",
    "    \n",
    "def reprompt(item, repromptNum=None):\n",
    "    newPrompt = 'Your response: \\n\\n'+item.text+'was not valid json. Please try again. Here is your response. Please fix any json formatting errors. The output should be one or more json objects in an array.:\\n\\n' + item\n",
    "\n",
    "    response = getResponse(newPrompt)\n",
    "\n",
    "    print('response')\n",
    "    return toJson(response['text'], repromptNum=repromptNum)\n"
   ]
  },
  {
   "cell_type": "code",
   "execution_count": 74,
   "metadata": {},
   "outputs": [
    {
     "name": "stdout",
     "output_type": "stream",
     "text": [
      "[{'company': 'Irth Solutions', 'job_title': 'Senior Software Engineer', 'job_description': 'Build software that improves resilience and reduce risk to critical infrastructure that millions of people and businesses rely on each day. Systems handle millions of requests a day, coordinating activities between critical infrastructure providers, contract locators, excavators, and other stakeholders throughout North America.', 'tech_stack': 'C# development experience using .NET Core, WebAPI, and Entity Framework. Experience building browser applications using Angular and Typescript. Strong relational database experience with Postgres (preferred) or MS SQL Server including SQL, database functions, indexing, and performance tuning. Kubernetes, Docker, Linux.', 'contact_url': 'https://apply.workable.com/irth-solutions/j/33AD66BA3A/'}, {'company': 'Tandem Health', 'job_title': 'Software Engineer', 'location': 'Stockholm, Sweden', 'employment_type': 'Full-time', 'job_description': 'Building a clinician copilot to allow clinicians to focus on care rather than administration. Already at $300k ARR with over 50 care providers using the product every day. Targeting the European healthcare market.', 'company_description': 'Recently raised a large seed round and expanding the Stockholm team with exceptional engineers.', 'tech_stack': 'Python and TypeScript/React running on k8s in Azure', 'contact_email': 'john.moberg@tandemhealth.se', 'additional_urls': ['https://tandemhealth.ai', 'https://tandem-health.notion.site/Tandem-Health-Careers-f066']}]\n"
     ]
    }
   ],
   "source": [
    "from langchain_openai import ChatOpenAI\n",
    "\n",
    "model = ChatOpenAI()\n",
    "parsed_data = []\n",
    "\n",
    "postItems = posts[:2]\n",
    "\n",
    "for i in range(len(postItems)):\n",
    "        msg = subsequentPrompt.format(job_posting = postItems[i]['comment'], json_examples = renderedStr, key_values = keyStr)\n",
    "        \n",
    "        resp = model.invoke(msg)\n",
    "\n",
    "        parsed_datum = toValidJSON(resp.content)\n",
    "\n",
    "        for  job in  parsed_datum:\n",
    "            parsed_data.append(job)\n",
    "\n",
    "            # initially I let the llm add any keys it was missing.\n",
    "            #  This proved problematic as it would not use existing keys.\n",
    "            # # We add any new keys to the permitted keys. \n",
    "            # # This does mean that the later prompts are potentially receive a different set of\n",
    "            # # suggested keys, but those keys should only be added if necessary.\n",
    "            # for jobKey in job.keys():\n",
    "            #     keys.append(jobKey)\n",
    "            #     keys = list(set(keys))\n",
    "            #     keyStr = '\\n'.join(keys)\n",
    "\n",
    "print(parsed_data)"
   ]
  },
  {
   "cell_type": "markdown",
   "metadata": {},
   "source": [
    "We split the iteration over the request so we don't do it unnecessarily"
   ]
  },
  {
   "cell_type": "code",
   "execution_count": 75,
   "metadata": {},
   "outputs": [],
   "source": [
    "from hn_jobs_chat.util import saveJSON\n",
    "\n",
    "saveJSON('postData-2.json', parsed_data)\n",
    "saveJSON('keys.json', keys)\n"
   ]
  },
  {
   "cell_type": "code",
   "execution_count": null,
   "metadata": {},
   "outputs": [],
   "source": [
    "\n",
    "# let's see how frequently each key appears\n",
    "# tally = {}\n",
    "# keys\n",
    "# for key in keys:\n",
    "# #     result[key] = [datum[key] for datum in parsed_data]\n",
    "#     tally[key] = sum([1 for datum in parsed_data if key in datum])\n",
    "\n",
    "# # result, tally"
   ]
  },
  {
   "cell_type": "markdown",
   "metadata": {},
   "source": [
    "We add all the gathered keys to the table."
   ]
  },
  {
   "cell_type": "markdown",
   "metadata": {},
   "source": [
    "We create a SQL query that posts by our new keys"
   ]
  },
  {
   "cell_type": "code",
   "execution_count": null,
   "metadata": {},
   "outputs": [],
   "source": [
    "#| hide\n",
    "from nbdev import nbdev_export\n",
    "nbdev_export()"
   ]
  }
 ],
 "metadata": {
  "kernelspec": {
   "display_name": ".venv",
   "language": "python",
   "name": "python3"
  },
  "language_info": {
   "codemirror_mode": {
    "name": "ipython",
    "version": 3
   },
   "file_extension": ".py",
   "mimetype": "text/x-python",
   "name": "python",
   "nbconvert_exporter": "python",
   "pygments_lexer": "ipython3",
   "version": "3.12.1"
  }
 },
 "nbformat": 4,
 "nbformat_minor": 2
}
