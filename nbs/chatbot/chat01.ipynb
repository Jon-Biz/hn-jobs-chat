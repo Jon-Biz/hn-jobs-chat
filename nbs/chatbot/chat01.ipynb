{
 "cells": [
  {
   "cell_type": "code",
   "execution_count": null,
   "metadata": {},
   "outputs": [],
   "source": [
    "#| default_exp chatbot\n",
    "\n",
    "% pip install -q langchain\n",
    "% pip install -q langchain_community\n",
    "% pip install -qU langchain-openai"
   ]
  },
  {
   "cell_type": "code",
   "execution_count": 1,
   "metadata": {},
   "outputs": [],
   "source": [
    "# import getpass\n",
    "# import os\n",
    "\n",
    "# os.environ[\"LANGCHAIN_TRACING_V2\"] = \"true\"\n",
    "# os.environ[\"LANGCHAIN_API_KEY\"] = getpass.getpass()"
   ]
  },
  {
   "cell_type": "code",
   "execution_count": 2,
   "metadata": {},
   "outputs": [],
   "source": [
    "# import getpass\n",
    "# import os\n",
    "\n",
    "# os.environ[\"OPENAI_API_KEY\"] = getpass.getpass()\n",
    "\n",
    "# from langchain_openai import ChatOpenAI\n",
    "\n",
    "# model = ChatOpenAI(model=\"gpt-3.5-turbo\")"
   ]
  },
  {
   "cell_type": "code",
   "execution_count": 3,
   "metadata": {},
   "outputs": [],
   "source": [
    "from langchain_core.messages import HumanMessage, SystemMessage\n",
    "\n",
    "from langchain_openai import ChatOpenAI\n",
    "\n",
    "model = ChatOpenAI()"
   ]
  },
  {
   "cell_type": "code",
   "execution_count": 4,
   "metadata": {},
   "outputs": [],
   "source": [
    "from langchain_core.prompts import ChatPromptTemplate, MessagesPlaceholder\n",
    "\n",
    "helperPrompt  = \"\"\"You are a job search assistant. \n",
    "You are helping a job searcher find jobs to apply for. From the list of jobs you have, you need to help the job searcher find the jobs that are relevant to them. You can ask the job searcher questions to help you understand what they are looking for.\n",
    "\"\"\"\n",
    "\n",
    "basePrompt = ChatPromptTemplate.from_messages(\n",
    "    [\n",
    "        (\n",
    "            \"system\",\n",
    "            helperPrompt,\n",
    "        ),\n",
    "        MessagesPlaceholder(variable_name=\"messages\"),\n",
    "    ]\n",
    ")\n",
    "\n",
    "chain = basePrompt | model\n"
   ]
  },
  {
   "cell_type": "code",
   "execution_count": 5,
   "metadata": {},
   "outputs": [],
   "source": [
    "requirementsPrompt  = \"\"\"Current search requirements are: {\n",
    "    \"Job Title\": \"Software Engineer\",\n",
    "    \"Location\": \"Remote\",\n",
    "    \"Company\": \"Google\"\n",
    "}\n",
    "\"\"\"\n",
    "\n",
    "searchResultsPrompt = \"\"\"\n",
    "Current search results are: [\n",
    "    {\n",
    "        \"Job Title\": \"Software Engineer\",\n",
    "        \"Location\": \"Remote\",\n",
    "        \"Company\": \"Google\",\n",
    "        \"Status\": \"Pending\"\n",
    "    },\n",
    "    {\n",
    "        \"Job Title\": \"Software Engineer\",\n",
    "        \"Location\": \"Onsite\",\n",
    "        \"Company\": \"Facebook\",\n",
    "        \"Status\": \"Pending\"\n",
    "    },\n",
    "    {\n",
    "        \"Job Title\": \"Software Engineer\",\n",
    "        \"Location\": \"Remote\",\n",
    "        \"Company\": \"Amazon\",\n",
    "        \"Status\": \"Pending\"\n",
    "    }\n",
    "]\n",
    "\"\"\"\n",
    "\n"
   ]
  },
  {
   "cell_type": "code",
   "execution_count": 6,
   "metadata": {},
   "outputs": [],
   "source": [
    "from langchain_core.chat_history import (\n",
    "    BaseChatMessageHistory,\n",
    "    InMemoryChatMessageHistory,\n",
    ")\n",
    "from langchain_core.runnables.history import RunnableWithMessageHistory\n",
    "\n",
    "store = {}\n",
    "\n",
    "def get_session_history(session_id: str) -> BaseChatMessageHistory:\n",
    "    if session_id not in store:\n",
    "        store[session_id] = InMemoryChatMessageHistory()\n",
    "    return store[session_id]\n",
    "\n",
    "\n",
    "with_message_history = RunnableWithMessageHistory(chain, get_session_history, input_messages_key=\"messages\")\n"
   ]
  },
  {
   "cell_type": "code",
   "execution_count": 7,
   "metadata": {},
   "outputs": [],
   "source": [
    "config = {\"configurable\": {\"session_id\": \"abc4\"}}"
   ]
  },
  {
   "cell_type": "code",
   "execution_count": 8,
   "metadata": {},
   "outputs": [],
   "source": [
    "def remove_previous_RAG_info(session_id: str) -> dict:\n",
    "    history = get_session_history(session_id)\n",
    "\n",
    "    alteredHistory = []\n",
    "\n",
    "    for message in history.messages:\n",
    "        if type(message) is tuple:\n",
    "            msgType, text = message\n",
    "            if \"Current search requirements are\" not in text:\n",
    "                if \"Current search results are\" not in text:\n",
    "                    alteredHistory.append(message)    \n",
    "        elif type(message) is HumanMessage:\n",
    "            alteredHistory.append(message)\n",
    "        else:\n",
    "            alteredHistory.append(message)\n",
    "\n",
    "    history.messages = alteredHistory\n",
    "\n",
    "    return {\"session_id\": session_id, \"messages\": alteredHistory}"
   ]
  },
  {
   "cell_type": "code",
   "execution_count": 9,
   "metadata": {},
   "outputs": [],
   "source": [
    "from hn_jobs_chat.requirementsBot import handleSubmit as requirementsBotResponse\n",
    "\n",
    "def getResponse(input:str):\n",
    "    remove_previous_RAG_info(\"abc4\")\n",
    "\n",
    "    requirementsPrompt = requirementsBotResponse(input)\n",
    "\n",
    "    response = with_message_history.invoke(\n",
    "        { \"messages\": [\n",
    "            (   \"system\",\n",
    "                requirementsPrompt\n",
    "            ),\n",
    "            (   \"system\",\n",
    "                searchResultsPrompt\n",
    "            ),\n",
    "            HumanMessage(content=input)]\n",
    "        },\n",
    "        config=config,\n",
    "    )\n",
    "\n",
    "    return response.content"
   ]
  },
  {
   "cell_type": "code",
   "execution_count": 10,
   "metadata": {},
   "outputs": [
    {
     "data": {
      "application/vnd.jupyter.widget-view+json": {
       "model_id": "38b17279d60245e7acf3054b5a941c80",
       "version_major": 2,
       "version_minor": 0
      },
      "text/plain": [
       "Text(value='')"
      ]
     },
     "metadata": {},
     "output_type": "display_data"
    },
    {
     "data": {
      "application/vnd.jupyter.widget-view+json": {
       "model_id": "df9c7c3b5b8e45f8a83a3b895c3cc503",
       "version_major": 2,
       "version_minor": 0
      },
      "text/plain": [
       "Button(description='Submit', style=ButtonStyle())"
      ]
     },
     "metadata": {},
     "output_type": "display_data"
    },
    {
     "name": "stdout",
     "output_type": "stream",
     "text": [
      "input I want to work with React.\n",
      "response {\n",
      "  \"new_requirements\": {\n",
      "    \"tech_stack\": \"React\"\n",
      "  },\n",
      "  \"remove_requirements\": {}\n",
      "}\n",
      "jsonResponse {'new_requirements': {'tech_stack': 'React'}, 'remove_requirements': {}}\n",
      "Great to know that you are looking to work with React! I have found some job opportunities that might interest you. Here are the details:\n",
      "\n",
      "1. **Job Title:** Software Engineer\n",
      "   - **Location:** Remote\n",
      "   - **Company:** Google\n",
      "\n",
      "2. **Job Title:** Software Engineer\n",
      "   - **Location:** Remote\n",
      "   - **Company:** Amazon\n",
      "\n",
      "Would you like more details about any of these positions or should I continue searching for more React-related opportunities?\n",
      "input I don't want to work with React.\n",
      "response {\n",
      "  \"new_requirements\": {\n",
      "  },\n",
      "  \"remove_requirements\": {\n",
      "    \"tech_stack\": \"React\"\n",
      "  }\n",
      "}\n",
      "jsonResponse {'new_requirements': {}, 'remove_requirements': {'tech_stack': 'React'}}\n",
      "Got it, I'll exclude React-related positions from the search. Here are some job opportunities that might interest you based on your updated preferences:\n",
      "\n",
      "1. **Job Title:** Software Engineer\n",
      "   - **Location:** Remote\n",
      "   - **Company:** Google\n",
      "\n",
      "2. **Job Title:** Software Engineer\n",
      "   - **Location:** Onsite\n",
      "   - **Company:** Facebook\n",
      "\n",
      "3. **Job Title:** Software Engineer\n",
      "   - **Location:** Remote\n",
      "   - **Company:** Amazon\n",
      "\n",
      "Would you like more details about any of these positions or should I continue searching for more job opportunities that do not involve React?\n"
     ]
    }
   ],
   "source": [
    "import ipywidgets as widgets\n",
    "from IPython.display import display\n",
    "\n",
    "# Create input widgets\n",
    "text_input = widgets.Text()\n",
    "\n",
    "# Create a button\n",
    "submit_button = widgets.Button(description='Submit')\n",
    "\n",
    "# Define a function to handle form submission\n",
    "def handle_submit(button):\n",
    "    response = getResponse(text_input.value)\n",
    "    print(response)\n",
    "\n",
    "# Attach the function to the button's on_click event\n",
    "submit_button.on_click(handle_submit)\n",
    "\n",
    "# Display the form\n",
    "display(text_input, submit_button)\n",
    "\n"
   ]
  }
 ],
 "metadata": {
  "kernelspec": {
   "display_name": ".venv",
   "language": "python",
   "name": "python3"
  },
  "language_info": {
   "codemirror_mode": {
    "name": "ipython",
    "version": 3
   },
   "file_extension": ".py",
   "mimetype": "text/x-python",
   "name": "python",
   "nbconvert_exporter": "python",
   "pygments_lexer": "ipython3",
   "version": "3.12.1"
  }
 },
 "nbformat": 4,
 "nbformat_minor": 2
}
