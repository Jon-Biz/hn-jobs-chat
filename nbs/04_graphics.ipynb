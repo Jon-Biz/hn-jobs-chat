{
 "cells": [
  {
   "cell_type": "raw",
   "metadata": {},
   "source": [
    "---\n",
    "{}\n",
    "\n",
    "---\n",
    "\n"
   ]
  },
  {
   "cell_type": "code",
   "execution_count": null,
   "metadata": {},
   "outputs": [
    {
     "name": "stdout",
     "output_type": "stream",
     "text": [
      "Requirement already satisfied: jupyterlab-quarto in /Users/Bumpant/Development/LLM/HN-search/.venv/lib/python3.12/site-packages (0.3.3)\n",
      "Note: you may need to restart the kernel to use updated packages.\n"
     ]
    }
   ],
   "source": [
    "%pip install jupyterlab-quarto"
   ]
  },
  {
   "cell_type": "code",
   "execution_count": null,
   "metadata": {},
   "outputs": [],
   "source": []
  },
  {
   "cell_type": "markdown",
   "metadata": {},
   "source": [
    "| Default | Left | Right | Center |\n",
    "|---------|:-----|------:|:------:|\n",
    "| 12      | 12   |    12 |   12   |\n",
    "| 123     | 123  |   123 |  123   |\n",
    "| 1       | 1    |     1 |   1    |\n",
    "\n",
    ": Demonstration of pipe table syntax"
   ]
  }
 ],
 "metadata": {
  "kernelspec": {
   "display_name": "python3",
   "language": "python",
   "name": "python3"
  }
 },
 "nbformat": 4,
 "nbformat_minor": 2
}
