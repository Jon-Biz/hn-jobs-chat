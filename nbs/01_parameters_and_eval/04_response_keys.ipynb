{
 "cells": [
  {
   "cell_type": "code",
   "execution_count": 1,
   "metadata": {},
   "outputs": [
    {
     "name": "stdout",
     "output_type": "stream",
     "text": [
      "Note: you may need to restart the kernel to use updated packages.\n",
      "Note: you may need to restart the kernel to use updated packages.\n"
     ]
    }
   ],
   "source": [
    "#| default_exp responseKeys\n",
    "\n",
    "%pip install -q nbdev\n",
    "%pip install -q pydantic"
   ]
  },
  {
   "cell_type": "code",
   "execution_count": null,
   "metadata": {},
   "outputs": [],
   "source": [
    "# TODO: create response keys from scratch"
   ]
  },
  {
   "cell_type": "markdown",
   "metadata": {},
   "source": [
    "We take the keys extracted from previous month's job listings and manually add a description. This too, could have been parsed by an LLM, but since the list is relatively short, and needs to be vetted, it's faster and more accurate to do this by hand, rather than creating a prompt flow and evals etc."
   ]
  },
  {
   "cell_type": "code",
   "execution_count": 2,
   "metadata": {},
   "outputs": [],
   "source": [
    "#| export\n",
    "\n",
    "# These keys were retreived from previous analysis. The prompts will add any that are needed.\n",
    "initial_keys = [\n",
    "    'company: name of the company',\n",
    "    'location: country, city or location otherwise stated',\n",
    "    'timezone: timezones that are referred to in the job post, if any',\n",
    "    'industry: the industry vertical that the company is part of',\n",
    "    'target_market: the type of consumer or businesses that are targeted by the company venture',\n",
    "    'company_status: the current situation that company is in',\n",
    "    'company_description: description of the company, as described in the job post',\n",
    "    'company_goal: primary focus of the company',\n",
    "    'company_stage: venture stage of the company, if applicable',\n",
    "    'more_company_info: an array. any company information in the listing not otherwise covered by company_goal, company_status, company_stage, company_description, industry or location',\n",
    "    'employment_type: full-time, part-time, contract, or as otherwise described',\n",
    "    'remote_or_local_details: details about the remote, local, hybrid or otherwise work arrangement as described',\n",
    "    'job_title: job title for the position. Use the singular tense',\n",
    "    'job_description: description of the job as described in the job post',\n",
    "    'job_requirements: an array of the specific job requirements, listed in the job posting',\n",
    "    'job_soft_skills: an array of any soft skills required by the job, as outlined in the posting',\n",
    "    'product_description: a description of the product that job is related to, if any',\n",
    "    'tech_stack: an array. It is list of the names of technologies used by the company. This can include programming languages, frameworks, libraries, databases, and other tools.',\n",
    "    'application_process: any description of the application processes that the person applying will undergo',\n",
    "    'contact_email: a single email. the contact email provided in the job post. if multiple emails are presented, add the additional as an item in the additional notes array',\n",
    "    'application_url: a single url. The url used to apply for the job. information about the company other than the job listing should be placed in the information_urls key',\n",
    "    'information_urls: an array. if the posting states that more information about the company or the job is available at a URL other than the job posting, recored those urls in the array here',\n",
    "    'additional_notes: an array. any additional information about the company, role or position, not covered by the other keys',\n",
    "    'compensation: any compensation and/or benefits described in the job post'\n",
    "]"
   ]
  },
  {
   "cell_type": "markdown",
   "metadata": {},
   "source": [
    "We export this as a string, for convenient inclusion in prompts."
   ]
  },
  {
   "cell_type": "code",
   "execution_count": 3,
   "metadata": {},
   "outputs": [],
   "source": [
    "#| export\n",
    "keyStr = '\\n'.join(initial_keys)\n"
   ]
  },
  {
   "cell_type": "code",
   "execution_count": 12,
   "metadata": {},
   "outputs": [],
   "source": [
    "from langchain_openai import ChatOpenAI\n",
    "\n",
    "model = ChatOpenAI()\n",
    "\n",
    "def getResponse(prompt):\n",
    "    return model.invoke(prompt)"
   ]
  },
  {
   "cell_type": "markdown",
   "metadata": {},
   "source": [
    "We use pydantic to create a Response class that we can use for our first layer of prompt evaluation. "
   ]
  },
  {
   "cell_type": "code",
   "execution_count": 5,
   "metadata": {},
   "outputs": [
    {
     "name": "stdout",
     "output_type": "stream",
     "text": [
      "Validation error: 1 validation error for Response\n",
      "tech_stack\n",
      "  Input should be a valid list [type=list_type, input_value='C# development experienc...ernetes, Docker, Linux.', input_type=str]\n",
      "    For further information visit https://errors.pydantic.dev/2.8/v/list_type\n",
      "Attempt: 1\n",
      "Received response from AI\n",
      "Validation successful\n",
      "company='Irth Solutions' location='' timezone='' industry='' target_market='' company_status='' company_description='' company_goal='' company_stage='' more_company_info=[] employment_type='' remote_local_details='' job_title='Senior Software Engineer' job_description='Build software that improves resilience and reduce risk to critical infrastructure that millions of people and businesses rely on each day. Systems handle millions of requests a day, coordinating activities between critical infrastructure providers, contract locators, excavators, and other stakeholders throughout North America.' job_requirements=[] job_soft_skills=[] product_description='' tech_stack=['C# development experience using .NET Core, WebAPI, and Entity Framework', 'Experience building browser applications using Angular and Typescript', 'Strong relational database experience with Postgres (preferred) or MS SQL Server including SQL, database functions, indexing, and performance tuning', 'Kubernetes', 'Docker', 'Linux'] application_process='' contact_email='' application_url='' information_urls=[] additional_notes=[] compensation=''\n"
     ]
    }
   ],
   "source": [
    "#| export\n",
    "from pydantic import BaseModel, ValidationError\n",
    "from langchain_core.prompts import PromptTemplate\n",
    "import json\n",
    "\n",
    "class Response(BaseModel):\n",
    "    company: str = ''\n",
    "    location: str = ''\n",
    "    timezone: str = ''\n",
    "    industry: str = ''\n",
    "    target_market: str = ''\n",
    "    company_status: str = ''\n",
    "    company_description: str = ''\n",
    "    company_goal: str = ''\n",
    "    company_stage: str = ''\n",
    "    more_company_info: list[str] = []\n",
    "    employment_type: str = ''\n",
    "    remote_local_details: str = ''\n",
    "    job_title: str = ''\n",
    "    job_description: str = ''\n",
    "    job_requirements: list[str] = []\n",
    "    job_soft_skills: list[str] = []\n",
    "    product_description: str = ''\n",
    "    tech_stack: list[str] = []\n",
    "    application_process: str = ''\n",
    "    contact_email: str = ''\n",
    "    application_url: str = ''\n",
    "    information_urls: list[str] = []\n",
    "    additional_notes: list[str] = []\n",
    "    compensation: str = ''\n",
    "\n",
    "def callValidator(response):\n",
    "    return Response(**response)\n",
    "\n",
    "keyStr = \"List of all possible keys and their descriptions\"  # Replace with actual key descriptions\n",
    "\n",
    "def validate(response, repromptNum=None):\n",
    "    try:        \n",
    "        validated_response = callValidator(response)\n",
    "        print(\"Validation successful\")\n",
    "        return validated_response\n",
    "    except ValidationError as e:\n",
    "        if repromptNum is None:\n",
    "            repromptNum = 0\n",
    "\n",
    "        print('Validation error:', e)\n",
    "        print('Attempt:', repromptNum + 1)\n",
    "\n",
    "        if repromptNum > 3:\n",
    "            return {'error': \"Could not receive valid json: Too many reprompts\", 'item': response}\n",
    "        \n",
    "        repromptNum += 1\n",
    "        return repromptRevalidate(response, str(e), repromptNum)\n",
    "\n",
    "def repromptRevalidate(item, error_message, repromptNum):\n",
    "    promptTemplate = PromptTemplate(template='''\n",
    "    Your response did not follow the instructions in regards to appropriate keys. \n",
    "    Here is the error message from pydantic:\n",
    "\n",
    "    {error}\n",
    "\n",
    "    Here is a description of the keys:\n",
    "\n",
    "    {keyStr}\n",
    "\n",
    "    Please update your response, fixing any mistakenly assigned keys. If information has been assigned to the wrong key, assign it to the right key. Follow the directions in regards to the keys exactly. \n",
    "    The output should be a single JSON object. Here is your response again:\n",
    "\n",
    "    {item}\n",
    "    ''', input_variables=[\"error\", \"keyStr\", \"item\"])\n",
    "\n",
    "    newPrompt = promptTemplate.format(error=error_message, keyStr=keyStr, item=json.dumps(item, indent=2))\n",
    "    response = getResponse(newPrompt)\n",
    "\n",
    "    print('Received response from AI')\n",
    "    try:\n",
    "        parsed_response = json.loads(response.content)\n",
    "        return validate(parsed_response, repromptNum=repromptNum)\n",
    "    except json.JSONDecodeError:\n",
    "        print(\"Failed to parse JSON from response\")\n",
    "        return {'error': \"Invalid JSON response\", 'item': response.content}\n",
    "\n",
    "# Test data\n",
    "exampleOne = {\n",
    "    \"company\": \"Irth Solutions\",\n",
    "    \"job_title\": \"Senior Software Engineer\",\n",
    "    \"job_description\": \"Build software that improves resilience and reduce risk to critical infrastructure that millions of people and businesses rely on each day. Systems handle millions of requests a day, coordinating activities between critical infrastructure providers, contract locators, excavators, and other stakeholders throughout North America.\",\n",
    "    \"tech_stack\": \"C# development experience using .NET Core, WebAPI, and Entity Framework. Experience building browser applications using Angular and Typescript. Strong relational database experience with Postgres (preferred) or MS SQL Server including SQL, database functions, indexing, and performance tuning. Kubernetes, Docker, Linux.\",\n",
    "    \"contact_url\": \"https://apply.workable.com/irth-solutions/j/33AD66BA3A/\"\n",
    "}\n",
    "\n",
    "# # Test the function\n",
    "# result = validate(exampleOne)\n",
    "# print(result)"
   ]
  },
  {
   "cell_type": "code",
   "execution_count": 14,
   "metadata": {},
   "outputs": [],
   "source": [
    "#| export\n",
    "from langchain_core.prompts import PromptTemplate\n",
    "\n",
    "# Check each god damned key for discrepancies.\n",
    "\n",
    "# keys = '''\n",
    "# job_title: job title for the position. Use the singular tense\n",
    "# job_description: description of the job as described in the job post\n",
    "# tech_stack: an array. It is list of the names of technologies used by the company. It is not a list of descriptions. Do not return a list of phrases. This is not the same as job requirements list, use that key if the tech stack is not explicitly presented\n",
    "# '''    \n",
    "\n",
    "# promptTemplate = PromptTemplate(template='''Are all the keys on this item: {item} \n",
    "# either an empty string, or match the requirements in this list? \n",
    "# {keys}  If so, return the item. If not, return the item with the keys updated to match the requirements on the list\n",
    "# ''')\n",
    "\n",
    "# item = { \n",
    "#     'job_title': 'programmer',\n",
    "#     'job_description': 'a programmer of stuff',\n",
    "#     'tech_stack': result.model_dump()['tech_stack']\n",
    "# }\n",
    "\n",
    "# prompt = promptTemplate.format(item=result.model_dump(), keys=keyStr)\n",
    "\n",
    "# print(prompt)\n",
    "# response = getResponse(prompt)    \n",
    "\n",
    "# response.content\n",
    "    "
   ]
  },
  {
   "cell_type": "code",
   "execution_count": 8,
   "metadata": {},
   "outputs": [],
   "source": [
    "# print(response.content)"
   ]
  },
  {
   "cell_type": "code",
   "execution_count": 15,
   "metadata": {},
   "outputs": [],
   "source": [
    "#| hide\n",
    "from nbdev import nbdev_export\n",
    "nbdev_export()"
   ]
  }
 ],
 "metadata": {
  "kernelspec": {
   "display_name": ".venv",
   "language": "python",
   "name": "python3"
  },
  "language_info": {
   "codemirror_mode": {
    "name": "ipython",
    "version": 3
   },
   "file_extension": ".py",
   "mimetype": "text/x-python",
   "name": "python",
   "nbconvert_exporter": "python",
   "pygments_lexer": "ipython3",
   "version": "3.12.1"
  }
 },
 "nbformat": 4,
 "nbformat_minor": 2
}
