{
 "cells": [
  {
   "cell_type": "markdown",
   "metadata": {},
   "source": [
    "# Extract keys from parsed data\n",
    "We asked the LLM to create any keys that it did not have to categorize the data. We will examine them now, clean up any redundancies and create guidelines for their use."
   ]
  },
  {
   "cell_type": "code",
   "execution_count": 1,
   "metadata": {},
   "outputs": [],
   "source": [
    "#| default_exp keys"
   ]
  },
  {
   "cell_type": "code",
   "execution_count": 2,
   "metadata": {},
   "outputs": [
    {
     "name": "stdout",
     "output_type": "stream",
     "text": [
      "['company', 'company_goal', 'location', 'job_title', 'job_requirements', 'tech_stack', 'contact_url', 'additional_notes', 'company_stage', 'company_state', 'remote/local/hybrid details', 'work_schedule', 'urls', 'application_process', 'job_description', 'remote/local details', 'compensation', 'isPosting', 'company_status', 'contact_email', 'additional_urls']\n"
     ]
    }
   ],
   "source": [
    "from hn_jobs_chat.util import loadJSON\n",
    "\n",
    "posts = loadJSON(\"../previousData/postData.json\")\n",
    "\n",
    "keys = []\n",
    "for post in posts:\n",
    "    for key in post.keys():\n",
    "        if key not in keys:\n",
    "            keys.append(key)\n",
    "\n",
    "print(keys)"
   ]
  },
  {
   "cell_type": "markdown",
   "metadata": {},
   "source": [
    "```\n",
    "['company', 'company_goal', 'location', 'job_title', 'job_requirements', 'tech_stack', 'contact_url', 'additional_notes', 'company_stage', 'company_state', 'remote/local/hybrid details', 'work_schedule', 'urls', 'application_process', 'job_description', 'remote/local details', 'compensation', 'isPosting', 'company_status', 'contact_email', 'additional_urls']\n",
    "```"
   ]
  },
  {
   "cell_type": "code",
   "execution_count": 3,
   "metadata": {},
   "outputs": [],
   "source": [
    "#| export\n",
    "\n",
    "keys = [\n",
    "    'company',\n",
    "    'location',\n",
    "    'timezone',\n",
    "    'industry',\n",
    "    'target_market',\n",
    "    'company_status',\n",
    "    'company_description',\n",
    "    'company_goal',\n",
    "    'company_stage',\n",
    "    'more_company_info',\n",
    "    'employment_type',\n",
    "    'remote_or_local_details',\n",
    "    'job_title',\n",
    "    'job_description',\n",
    "    'job_requirements',\n",
    "    'job_soft_skills',\n",
    "    'product_description',\n",
    "    'tech_stack',\n",
    "    'application_process',\n",
    "    'contact_email',\n",
    "    'application_url',\n",
    "    'information_urls',\n",
    "    'additional_notes',\n",
    "    'compensation',\n",
    "]"
   ]
  },
  {
   "cell_type": "code",
   "execution_count": 4,
   "metadata": {},
   "outputs": [],
   "source": [
    "#| export\n",
    "\n",
    "# We add a description to each key to help the LLM understand what each key is for\n",
    "# Array keys are not embedded, but will be handled separately\n",
    "\n",
    "described_keys = [\n",
    "    {'key': 'company', 'description': 'name of the company', 'type': 'string', 'embed': False},\n",
    "    # Location will not be embedded, but will be handled separately\n",
    "    {'key': 'location', 'description': 'country, city or location otherwise stated', 'type': 'string', 'embed': False},\n",
    "    # Timezone will not be embedded, but will be handled separately\n",
    "    {'key': 'timezone', 'description': 'timezones that are referred to in the job post, if any', 'type': 'string', 'embed': False},\n",
    "    {'key': 'industry', 'description': 'the industry vertical that the company is part of', 'type': 'string', 'embed': True},\n",
    "    {'key': 'target_market', 'description': 'the type of consumer or businesses that are targeted by the company venture', 'type': 'string', 'embed': True},\n",
    "    {'key': 'company_status', 'description': 'the current situation that company is in', 'type': 'string', 'embed': True },\n",
    "    {'key': 'company_description', 'description': 'description of the company, as described in the job post', 'type': 'string', 'embed': True},\n",
    "    {'key': 'company_goal', 'description': 'primary focus of the company', 'type': 'string', 'embed': True},\n",
    "    {'key': 'company_stage', 'description': 'venture stage of the company, if applicable', 'type': 'string', 'embed': True},\n",
    "    {'key': 'more_company_info', 'description': 'an array. any company information in the listing not otherwise covered by company_goal, company_status, company_stage, company_description, industry or location', 'type': 'array', 'embed': False},\n",
    "    {'key': 'employment_type', 'description': 'full-time, part-time, contract, or as otherwise described', 'type': 'string', 'embed': True},\n",
    "    {'key': 'remote_or_local_details', 'description': 'details about the remote, local, hybrid or otherwise work arrangement as described', 'type': 'string', 'embed': True},\n",
    "    {'key': 'job_title', 'description': 'job title for the position. Use the singular tense', 'type': 'string', 'embed': True},\n",
    "    {'key': 'job_description', 'description': 'description of the job as described in the job post', 'type': 'string', 'embed': True},\n",
    "    {'key': 'job_requirements', 'description': 'an array of the specific job requirements, listed in the job posting', 'type': 'array', 'embed': False},\n",
    "    {'key': 'job_soft_skills', 'description': 'an array of any soft skills required by the job, as outlined in the posting', 'type': 'array', 'embed': False},\n",
    "    {'key': 'product_description', 'description': 'a description of the product that job is related to, if any', 'type': 'string', 'embed': True},\n",
    "    {'key': 'tech_stack', 'description': 'an array. It is list of the names of technologies used by the company. This can include programming languages, frameworks, libraries, databases, and other tools.', 'type': 'array', 'embed': False},\n",
    "    {'key': 'application_process', 'description': 'any description of the application processes that the person applying will undergo', 'type': 'string', 'embed': True},\n",
    "    {'key': 'contact_email', 'description': 'a single email. the contact email provided in the job post. if multiple emails are presented, add the additional as an item in the additional notes array', 'type': 'string', 'embed': True},\n",
    "    {'key': 'application_url', 'description': 'a single url. The url used to apply for the job. information about the company other than the job listing should be placed in the information_urls key', 'type': 'string', 'embed': False},\n",
    "    {'key': 'information_urls', 'description': 'an array. if the posting states that more information about the company or the job is available at a URL other than the job posting, recored those urls in the array here', 'type': 'array', 'embed': False},\n",
    "    {'key': 'additional_notes', 'description': 'an array. any additional information about the company, role or position, not covered by the other keys', 'type': 'array', 'embed': False},\n",
    "    {'key': 'compensation', 'description': 'any compensation and/or benefits described in the job post', 'type': 'string', 'embed': True}\n",
    "]"
   ]
  },
  {
   "cell_type": "code",
   "execution_count": 3,
   "metadata": {},
   "outputs": [],
   "source": [
    "#| hide\n",
    "from nbdev import nbdev_export\n",
    "nbdev_export()"
   ]
  }
 ],
 "metadata": {
  "kernelspec": {
   "display_name": ".venv",
   "language": "python",
   "name": "python3"
  },
  "language_info": {
   "codemirror_mode": {
    "name": "ipython",
    "version": 3
   },
   "file_extension": ".py",
   "mimetype": "text/x-python",
   "name": "python",
   "nbconvert_exporter": "python",
   "pygments_lexer": "ipython3",
   "version": "3.12.1"
  }
 },
 "nbformat": 4,
 "nbformat_minor": 2
}
