{
 "cells": [
  {
   "cell_type": "markdown",
   "metadata": {},
   "source": [
    "# Get previous Data\n",
    "We will create examples for few-shot prompting and evaluation by parsing previous HN job postings. We will also build a list of requirement categorizations that we can expect."
   ]
  },
  {
   "cell_type": "code",
   "execution_count": null,
   "metadata": {},
   "outputs": [],
   "source": [
    "#| default_exp get_examples"
   ]
  },
  {
   "cell_type": "markdown",
   "metadata": {},
   "source": [
    "Create several example outputs by hand."
   ]
  },
  {
   "cell_type": "code",
   "execution_count": null,
   "metadata": {},
   "outputs": [],
   "source": [
    "examples = \"\"\"\n",
    "Example 1.\n",
    "    Posting: \n",
    "\n",
    "        Rubie | Founding engineer | New York City | Full time | Onsite\\nRubie is helping companies with complex software (ERPs, CRMs, etc) launch with their customers faster. We do this by automating the highly repetitive manual tasks that professional services and customer success teams perform using novel agentic infrastructure. This results in a massively faster customer implementation cycle - in the case of one of our partners, 70% faster!\\nWe are hiring founding engineers in person in NYC. The first step in our process is completing our reverse engineering challenge, which is located here: https://ReverseEngineerThisSite.com\\nreply\n",
    "\n",
    "    Output:\n",
    "\n",
    "    ```json\n",
    "    [{\n",
    "        \"company\": \"Rubie\",\n",
    "        \"job_title\": \"Founding engineer\",\n",
    "        \"location\":  \"New York City\",\n",
    "        \"work_schedule\": \"Full time\",\n",
    "        \"remote/local/hybrid details\": \"Local only\",\n",
    "        \"company_goal\": \"helping companies with complex software (ERPs, CRMs, etc) launch with their customers faster by automating the highly repetitive manual tasks that professional services and customer success teams perform using novel agentic infrastructure.\",\n",
    "        \"job_requirements\": \"Experience with complex software (ERPs, CRMs, etc), ability to complete reverse engineering challenge\",\n",
    "        \"contact_url\": \"https://ReverseEngineerThisSite.com\",\n",
    "        \"application_process\": \"The first step in our process is completing our reverse engineering challenge, which is located here: https://ReverseEngineerThisSite.com\",\n",
    "    }]\n",
    "    ```\n",
    "\n",
    "Example 2.\n",
    "    Posting: \n",
    "\n",
    "        MongoDB-- we're looking for an experienced Java developer who has expertise in building applications with Hibernate ORM (even better if you are familiar with hibernate-ogm) to help build a Hibernate integration with MongoDB. High priority + impact + high visibility role!\\nFully REMOTE (global) | Software Engineer, Java (Database Experience Team) | Full-Time | Base + RSU's | Interested? More info + apply here: https://grnh.se/e29caf031us\\nreply\n",
    "\n",
    "    Output:\n",
    "\n",
    "    ```json\n",
    "    [{\n",
    "        \"company\": \"MongoDB\",\n",
    "        \"job_title\": \"Software Engineer, Java (Database Experience Team)\",\n",
    "        \"job_description\": \"High priority + impact + high visibility role!\",\n",
    "        \"remote/local details\": \"Fully REMOTE(global)\",\n",
    "        \"job_requirements\": \"experienced Java developer who has expertise in building applications with Hibernate ORM (even better if you are familiar with hibernate-ogm)\",\n",
    "        \"contact_url\": \"https://grnh.se/e29caf031us\",\n",
    "        \"tech_stack\": [\"Java\", \"Hibernate ORM\"],\n",
    "        \"compensation\": \"Base + RSU's\",\n",
    "    }]\n",
    "    ```\n",
    "\n",
    "Example 3.\n",
    "\n",
    "    Posting: \n",
    "\n",
    "        VALIS Insights | Full-time | REMOTE (US)\\nI'm the co-founder and CTO of VALIS, a B2B SaaS company delivering software solutions to the metals recycling industry. Our goal is to reduce global carbon emissions through maximizing the recovery of metals through recycling, which requires a fraction of the energy compared to mining and primary metals production. We're a seed-stage startup, backed by leading climate-tech VC's.\\nProduct-wise, we integrate recycling processes, equipment/sensors, production, and procurement/sales data to deliver an insights platform that helps metals recovery facilities optimize their processes. We employ a strong, domain-driven design approach to building our product. We're looking for execution-focused engineers to join our team and deliver complex features with autonomy.\\nWe're currently hiring for two roles:\\nSenior Backend Engineer - https://apply.workable.com/valis-insights-1/j/4745C9DC32/\\nFull-Stack Engineer - https://apply.workable.com/valis-insights-1/j/3A06E4C40A/\\nPlease reach out to me at caleb.ralphs@valisinsights.com and apply if you're interested.\\nreply\n",
    "\n",
    "    Output:\n",
    "    \n",
    "    ```json\n",
    "\n",
    "    [{\n",
    "        \"company\": \"VALIS Insights\",\n",
    "        \"job_title\": \"Senior Backend Engineer\",\n",
    "        \"job_requirements\": \"Execution-focused engineers who can deliver complex features with autonomy\",\n",
    "        \"contact_url\": \"caleb.ralphs@valisinsights.com\",\n",
    "        \"work_schedule\": \"Full-time\",\n",
    "        \"remote/local details\": \"REMOTE (US)\",\n",
    "        \"company_goal\": \"reduce global carbon emissions through maximizing the recovery of metals through recycling, which requires a fraction of the energy compared to mining and primary metals production.\",\n",
    "        \"company_stage\": \"seed\",\n",
    "        \"urls\": [\"https://apply.workable.com/valis-insights-1/j/4745C9DC32/\", \"https://apply.workable.com/valis-insights-1/j/3A06E4C40A/\"],\n",
    "        \"additional_notes\": [\"backed by leading climate-tech VC's.\\nProduct-wise, we integrate recycling processes, equipment/sensors, production, and procurement/sales data to deliver an insights platform that helps metals recovery facilities optimize their processes.\",\"We employ a strong, domain-driven design approach to building our product.\"]\n",
    "    }\n",
    "    {\n",
    "        \"company\": \"VALIS Insights\",\n",
    "        \"job_title\": \"Full-Stack Engineer\",\n",
    "        \"job_requirements\": \"Execution-focused engineers who can deliver complex features with autonomy\",\n",
    "        \"contact_url\": \"caleb.ralphs@valisinsights.com\",\n",
    "        \"work_schedule\": \"Full-time\",\n",
    "        \"remote/local details\": \"REMOTE (US)\",\n",
    "        \"company_goal\": \"reduce global carbon emissions through maximizing the recovery of metals through recycling, which requires a fraction of the energy compared to mining and primary metals production.\",\n",
    "        \"company_stage\": \"seed\",\n",
    "        \"urls\": [\"https://apply.workable.com/valis-insights-1/j/4745C9DC32/\", \"https://apply.workable.com/valis-insights-1/j/3A06E4C40A/\"],\n",
    "        \"additional_notes\": [\"backed by leading climate-tech VC's. Product-wise, we integrate recycling processes, equipment/sensors, production, and procurement/sales data to deliver an insights platform that helps metals recovery facilities optimize their processes.\",\"We employ a strong, domain-driven design approach to building our product.\"],\n",
    "    }]\n",
    "    ```\n",
    "\n",
    "Example 4.\n",
    "    Posting: \n",
    "\n",
    "        Duolingo | Multiple Roles | Hybrid | Pittsburgh/Seattle/NYC | Full-time | $148,800-$274,600 + equity/benefits\\nHere at Duolingo, we are passionate about educating our users, making fact-based decisions, and finding innovative solutions to complex problems. We offer meaningful work, limitless learning opportunities, and collaboration with world-class minds. Come brighten your life and over half a billion more!\\nHighlighted Roles:\\nDatabase Reliability Engineer (PGH)\\nPlatform Engineer (PGH)\\nSenior Mobile Engineers, iOS and Android (PGH, NYC, Seattle)\\nSenior Backend Engineers (PGH)\\nEngineering Leadership, Manager or Director (PGH)\\nSenior/Staff Data Scientists, Economics (PGH or NYC)\\nFor more details, you can view/apply to all current openings here: https://grnh.se/41f1af102us\\n            ,     ,\\n            )\\\\___/(\\n           {(@)v(@)}\\n            {|~~~|}\\n            {/^^^\\\\}\\n             `m-m`\\nreply\n",
    "\n",
    "    Output:\n",
    "    ```json\n",
    "    [{\n",
    "        \"company\": \"Duolingo\",\n",
    "        \"job_title\": \"Multiple Roles\",\n",
    "        \"job_requirements\": \"Available on the website link provided\",\n",
    "        \"contact_url\": \"https://grnh.se/41f1af102us\",\n",
    "        \"remote/local details\": \"Hybrid\",\n",
    "        \"compensation\": \"$148,800-$274,600 + equity/benefits\",\n",
    "        \"company_goal\": \"we are passionate about educating our users, making fact-based decisions, and finding innovative solutions to complex problems.\",\n",
    "        \"additional_notes\": \"We offer meaningful work, limitless learning opportunities, and collaboration with world-class minds. Come brighten your life and over half a billion more!\"\n",
    "    },\n",
    "    {\n",
    "        \"company\": \"Duolingo\",\n",
    "        \"job_title\": \"Database Reliability Engineer\",\n",
    "        \"job_requirements\": \"Available on the website link provided\",\n",
    "        \"contact_url\": \"https://grnh.se/41f1af102us\",\n",
    "        \"remote/local details\": \"Hybrid\",\n",
    "        \"location\": \"Pittsburgh (PGH)\",\n",
    "        \"compensation\": \"$148,800-$274,600 + equity/benefits\",\n",
    "        \"company_goal\": \"we are passionate about educating our users, making fact-based decisions, and finding innovative solutions to complex problems.\",\n",
    "        \"additional_notes\": \"We offer meaningful work, limitless learning opportunities, and collaboration with world-class minds. Come brighten your life and over half a billion more!\"\n",
    "    }]\n",
    "    ```\n",
    "\"\"\""
   ]
  },
  {
   "cell_type": "code",
   "execution_count": null,
   "metadata": {},
   "outputs": [],
   "source": [
    "from langchain_core.prompts import PromptTemplate\n",
    "\n",
    "getPostsPrompt = PromptTemplate.from_template(\"\"\"You will be returning one ore more json objects together in an array to describe the jobs in a job posting. Here are some examples:\\n\\n{examples}\\n\\n Here are the key values currently being used to categorize jobs:\\n\\n{key_values}.\\n\\n If there is only one job posting presented here, return a json object containing a summary of every separate piece of information in the job posting. If the job describes multiple roles, create a separate json object for each role. Use the existing key values where they are relevant. If there is no relevant existing key, add new, relevant key to your json object. Here is the job posting: \\n\\n{job_posting}\"\"\")\n",
    "\n"
   ]
  },
  {
   "cell_type": "markdown",
   "metadata": {},
   "source": [
    "1. Get last month's  job listings"
   ]
  },
  {
   "cell_type": "code",
   "execution_count": null,
   "metadata": {},
   "outputs": [],
   "source": [
    "import json\n",
    "\n",
    "# Opening JSON file\n",
    "f = open('../posts.json')\n",
    "\n",
    "# returns JSON object as \n",
    "# a dictionary\n",
    "posts = json.load(f)"
   ]
  },
  {
   "cell_type": "markdown",
   "metadata": {},
   "source": [
    "2. Create key/value pairs from each post\n",
    "* update the keys as we go"
   ]
  },
  {
   "cell_type": "markdown",
   "metadata": {},
   "source": [
    "The LLM returns the data surrounded by comments and block markers. We need to strip them to get the actual json."
   ]
  },
  {
   "cell_type": "code",
   "execution_count": null,
   "metadata": {},
   "outputs": [],
   "source": [
    "#| export\n",
    "\n",
    "def extract_middle_json(response):\n",
    "    # Split the string on '```'\n",
    "    parts = response.split('```')\n",
    "    # Select the middle portion and remove 'json' from the front\n",
    "    return parts[1].replace('json', '').strip() if len(parts) > 1 else ''\n",
    "\n",
    "def extractJSON(response):\n",
    "    jsonStr = extract_middle_json(response)\n",
    "\n",
    "    return json.loads(jsonStr)\n",
    "    "
   ]
  },
  {
   "cell_type": "code",
   "execution_count": null,
   "metadata": {},
   "outputs": [],
   "source": [
    "from langchain_openai import ChatOpenAI\n",
    "\n",
    "model = ChatOpenAI(model=\"gpt-4o-mini\")\n",
    "\n",
    "parsed_data = [  ]\n",
    "result = {}\n",
    "\n",
    "# Start with some keys we are sure will be needed\n",
    "keys = [\n",
    "    'job_title',\n",
    "    'company',\n",
    "    'location',\n",
    "    'employment_type',\n",
    "    'tech_stack',\n",
    "    'job_requirements',\n",
    "    'salary',\n",
    "]\n",
    "\n",
    "postItems = posts\n",
    "\n",
    "for i in range(len(postItems)):\n",
    "        msg = getPostsPrompt.format(examples = examples, job_posting = postItems[i]['comment'], key_values = \", \".join(keys))\n",
    "        resp = model.invoke(msg)\n",
    "        parsed_datum = extractJSON(resp.content)\n",
    "        \n",
    "        for  job in  parsed_datum:\n",
    "            parsed_data.append(job)\n",
    "\n",
    "            parsed_data_keys = list(job.keys()) \n",
    "    \n",
    "            for key in parsed_data_keys:\n",
    "                if key not in keys:\n",
    "                    keys.append(key)\n",
    "\n",
    "            # We add keys here, so subsequent examples can use them\n",
    "            keyStr = \", \".join(keys)\n",
    "\n",
    "        print(parsed_data)\n"
   ]
  },
  {
   "cell_type": "code",
   "execution_count": null,
   "metadata": {},
   "outputs": [],
   "source": [
    "resp.content"
   ]
  },
  {
   "cell_type": "code",
   "execution_count": null,
   "metadata": {},
   "outputs": [],
   "source": [
    "\n",
    "# let's see how frequently each key appears\n",
    "tally = {}\n",
    "for key in keys:\n",
    "    tally[key] = sum([1 for datum in parsed_data if key in datum])\n",
    "\n",
    "tally"
   ]
  },
  {
   "cell_type": "markdown",
   "metadata": {},
   "source": [
    "Save the keys for use, and human editing\n"
   ]
  },
  {
   "cell_type": "code",
   "execution_count": null,
   "metadata": {},
   "outputs": [],
   "source": [
    "from hn_jobs_chat.util import saveJSON\n",
    "\n",
    "saveJSON('keys.json', keys)\n",
    "saveJSON('parsed_data-july.json', parsed_data)"
   ]
  },
  {
   "cell_type": "code",
   "execution_count": null,
   "metadata": {},
   "outputs": [],
   "source": [
    "#| hide\n",
    "from nbdev import nbdev_export\n",
    "nbdev_export()"
   ]
  }
 ],
 "metadata": {
  "kernelspec": {
   "display_name": ".venv",
   "language": "python",
   "name": "python3"
  },
  "language_info": {
   "codemirror_mode": {
    "name": "ipython",
    "version": 3
   },
   "file_extension": ".py",
   "mimetype": "text/x-python",
   "name": "python",
   "nbconvert_exporter": "python",
   "pygments_lexer": "ipython3",
   "version": "3.12.1"
  }
 },
 "nbformat": 4,
 "nbformat_minor": 2
}
