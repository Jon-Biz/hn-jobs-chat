{
 "cells": [
  {
   "cell_type": "markdown",
   "metadata": {},
   "source": [
    "# Create validation data\n",
    "\n",
    "The validation data will be created by parsing last month's data and checking the results by hand."
   ]
  },
  {
   "cell_type": "code",
   "execution_count": 4,
   "metadata": {},
   "outputs": [
    {
     "name": "stdout",
     "output_type": "stream",
     "text": [
      "Note: you may need to restart the kernel to use updated packages.\n"
     ]
    }
   ],
   "source": [
    "%pip install -q ipywidgets"
   ]
  },
  {
   "cell_type": "markdown",
   "metadata": {},
   "source": [
    "# get last month's data\n"
   ]
  },
  {
   "cell_type": "code",
   "execution_count": null,
   "metadata": {},
   "outputs": [],
   "source": [
    "from hn_jobs_chat.scraper import scrape, saveJSON, loadJSON\n",
    "\n",
    "posts = loadJSON('April24.json')\n",
    "\n",
    "if (posts):\n",
    "    print(\"loaded posts\")\n",
    "else:\n",
    "    print(\"No data found, scraping...\")\n",
    "    # April 2024\n",
    "    url = \"https://news.ycombinator.com/item?id=39894820\"\n",
    "    posts = scrape(url)\n",
    "\n",
    "    saveJSON('April24.json', posts)\n",
    "\n",
    "    print(\"Data saved to April24.json\")"
   ]
  },
  {
   "cell_type": "markdown",
   "metadata": {},
   "source": [
    "Parse last month's data\n",
    "iterate over it, fix anything that needs fixing\n",
    "save it\n"
   ]
  },
  {
   "cell_type": "code",
   "execution_count": 17,
   "metadata": {},
   "outputs": [
    {
     "name": "stdout",
     "output_type": "stream",
     "text": [
      "loaded items\n"
     ]
    }
   ],
   "source": [
    "from hn_jobs_chat.clean import processItems \n",
    "from hn_jobs_chat.scraper import loadJSON, saveJSON\n",
    "\n",
    "items = loadJSON('April24-items.json')\n",
    "\n",
    "if (items):\n",
    "    print(\"loaded items\")\n",
    "else:\n",
    "    print(\"No items found, processing...\")\n",
    "    items = processItems(posts)\n",
    "\n",
    "    saveJSON('April24-items.json', items)\n",
    "    print(\"Items saved to April24-items.json\")"
   ]
  },
  {
   "cell_type": "markdown",
   "metadata": {},
   "source": [
    "Display items for adjustment one at a time alongside original text."
   ]
  },
  {
   "cell_type": "code",
   "execution_count": 18,
   "metadata": {},
   "outputs": [],
   "source": [
    "def getKeys(posts):\n",
    "    keys = []\n",
    "\n",
    "    for i in items:\n",
    "        keys.extend(list(i.keys()))\n",
    "\n",
    "    return list(set(keys))\n"
   ]
  },
  {
   "cell_type": "code",
   "execution_count": 22,
   "metadata": {},
   "outputs": [],
   "source": [
    "import ipywidgets as widgets\n",
    "from IPython.display import display\n",
    "\n",
    "keys = getKeys(items)\n",
    "\n",
    "def displayItem(item):\n",
    "    inputs = []\n",
    "\n",
    "    # Create input fields\n",
    "    for key in keys:\n",
    "        if key == 'isPosting':\n",
    "            continue\n",
    "\n",
    "        item_val= item.get(key)\n",
    "        input_field = widgets.Text(value=item_val, description=key)\n",
    "        inputs.append(input_field)\n",
    "\n",
    "    submit_button = widgets.Button(description='Submit')\n",
    "\n",
    "    fixedResults = {}\n",
    "    # Handle form submission\n",
    "    def on_submit(button):\n",
    "        for key, input_field in zip(keys, inputs):\n",
    "            fixedResults[key] = input_field.value\n",
    "            print(f\"{key}: {input_field.value}\")\n",
    "\n",
    "    submit_button.on_click(on_submit)\n",
    "\n",
    "    # Display the form\n",
    "    display(*inputs, submit_button)"
   ]
  },
  {
   "cell_type": "code",
   "execution_count": 23,
   "metadata": {},
   "outputs": [
    {
     "data": {
      "application/vnd.jupyter.widget-view+json": {
       "model_id": "d6e6c1da50d4438da5ae378b8d113f8a",
       "version_major": 2,
       "version_minor": 0
      },
      "text/plain": [
       "Text(value='Head of Software', description='job_title')"
      ]
     },
     "metadata": {},
     "output_type": "display_data"
    },
    {
     "data": {
      "application/vnd.jupyter.widget-view+json": {
       "model_id": "3d09072e850e430db1cd339919feb614",
       "version_major": 2,
       "version_minor": 0
      },
      "text/plain": [
       "Text(value='Quatt.io', description='company')"
      ]
     },
     "metadata": {},
     "output_type": "display_data"
    },
    {
     "data": {
      "application/vnd.jupyter.widget-view+json": {
       "model_id": "188515eaa883499a93c806e77ad53110",
       "version_major": 2,
       "version_minor": 0
      },
      "text/plain": [
       "Text(value='Fixme', description='job_requirements')"
      ]
     },
     "metadata": {},
     "output_type": "display_data"
    },
    {
     "data": {
      "application/vnd.jupyter.widget-view+json": {
       "model_id": "31f48fd2662a42a8a906d27d9f51f32f",
       "version_major": 2,
       "version_minor": 0
      },
      "text/plain": [
       "Text(value='https://www.quatt.io/working-at-quatt', description='contact_url')"
      ]
     },
     "metadata": {},
     "output_type": "display_data"
    },
    {
     "data": {
      "application/vnd.jupyter.widget-view+json": {
       "model_id": "e82d6c9f6d764192a8e461aec4c4784d",
       "version_major": 2,
       "version_minor": 0
      },
      "text/plain": [
       "Button(description='Submit', style=ButtonStyle())"
      ]
     },
     "metadata": {},
     "output_type": "display_data"
    }
   ],
   "source": [
    "displayItem(items[0])"
   ]
  }
 ],
 "metadata": {
  "kernelspec": {
   "display_name": ".venv",
   "language": "python",
   "name": "python3"
  },
  "language_info": {
   "codemirror_mode": {
    "name": "ipython",
    "version": 3
   },
   "file_extension": ".py",
   "mimetype": "text/x-python",
   "name": "python",
   "nbconvert_exporter": "python",
   "pygments_lexer": "ipython3",
   "version": "3.12.1"
  }
 },
 "nbformat": 4,
 "nbformat_minor": 2
}
