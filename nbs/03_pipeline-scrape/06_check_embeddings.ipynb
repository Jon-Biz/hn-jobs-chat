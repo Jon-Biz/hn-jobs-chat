{
 "cells": [
  {
   "cell_type": "code",
   "execution_count": null,
   "metadata": {},
   "outputs": [],
   "source": [
    "import psycopg2\n",
    "from openai import OpenAI\n",
    "client = OpenAI()\n",
    "\n",
    "conn = psycopg2.connect(\"dbname=Bumpant user=Bumpant password=ampegskb\")\n",
    "cursor = conn.cursor()\n",
    "\n",
    "textA = \"San Francisco, California\"\n",
    "textB = \"San Francisco\"\n",
    "textC = \"Denver, Colorado\"\n",
    "textD = \"Denver\"\n",
    "\n",
    "responseA = client.embeddings.create(\n",
    "    input=textA,\n",
    "    model=\"text-embedding-3-small\"\n",
    ")\n",
    "\n",
    "embeddingA = (responseA.data[0].embedding)\n",
    "\n",
    "responseB = client.embeddings.create(\n",
    "    input=textB,\n",
    "    model=\"text-embedding-3-small\"\n",
    ")\n",
    "\n",
    "embeddingB = (responseB.data[0].embedding)\n",
    "\n",
    "responseC = client.embeddings.create(\n",
    "    input=textC,\n",
    "    model=\"text-embedding-3-small\"\n",
    ")\n",
    "\n",
    "embeddingC = (responseC.data[0].embedding)\n",
    "\n",
    "responseD = client.embeddings.create(\n",
    "    input=textD,\n",
    "    model=\"text-embedding-3-small\"\n",
    ")\n",
    "\n",
    "embeddingD = (responseD.data[0].embedding)\n",
    "\n",
    "print(embeddingA)\n",
    "print(embeddingB)\n",
    "print(embeddingC)\n",
    "print(embeddingD)\n",
    "\n",
    "\n",
    "\n"
   ]
  }
 ],
 "metadata": {
  "kernelspec": {
   "display_name": ".venv",
   "language": "python",
   "name": "python3"
  },
  "language_info": {
   "codemirror_mode": {
    "name": "ipython",
    "version": 3
   },
   "file_extension": ".py",
   "mimetype": "text/x-python",
   "name": "python",
   "nbconvert_exporter": "python",
   "pygments_lexer": "ipython3",
   "version": "3.12.1"
  }
 },
 "nbformat": 4,
 "nbformat_minor": 2
}
