{
 "cells": [
  {
   "cell_type": "code",
   "execution_count": null,
   "metadata": {},
   "outputs": [],
   "source": [
    "from hn_jobs_chat.db import connectToDB"
   ]
  },
  {
   "cell_type": "code",
   "execution_count": 4,
   "metadata": {},
   "outputs": [],
   "source": [
    "from openai import OpenAI\n",
    "client = OpenAI()\n",
    "\n",
    "textA = \"San Francisco, California\"\n",
    "textB = \"San Francisco\"\n",
    "textC = \"Denver, Colorado\"\n",
    "textD = \"Denver\"\n",
    "\n",
    "responseA = client.embeddings.create(\n",
    "    input=textA,\n",
    "    model=\"text-embedding-3-small\"\n",
    ")\n",
    "\n",
    "embeddingA = (responseA.data[0].embedding)\n",
    "\n",
    "responseB = client.embeddings.create(\n",
    "    input=textB,\n",
    "    model=\"text-embedding-3-small\"\n",
    ")\n",
    "\n",
    "embeddingB = (responseB.data[0].embedding)\n",
    "\n",
    "responseC = client.embeddings.create(\n",
    "    input=textC,\n",
    "    model=\"text-embedding-3-small\"\n",
    ")\n",
    "\n",
    "embeddingC = (responseC.data[0].embedding)\n",
    "\n",
    "responseD = client.embeddings.create(\n",
    "    input=textD,\n",
    "    model=\"text-embedding-3-small\"\n",
    ")\n",
    "\n",
    "embeddingD = (responseD.data[0].embedding)\n",
    "\n",
    "import numpy as np\n",
    "\n",
    "# Calculate the cosine similarity between embeddings\n",
    "def cosine_similarity(embedding1, embedding2):\n",
    "    dot_product = np.dot(embedding1, embedding2)\n",
    "    magnitude1 = np.linalg.norm(embedding1)\n",
    "    magnitude2 = np.linalg.norm(embedding2)\n",
    "    return dot_product / (magnitude1 * magnitude2)\n",
    "\n",
    "# Calculate similarities\n",
    "similarity_AB = cosine_similarity(embeddingA, embeddingB)\n",
    "similarity_AC = cosine_similarity(embeddingA, embeddingC)\n",
    "similarity_AD = cosine_similarity(embeddingA, embeddingD)\n",
    "\n",
    "# Assert that embedding A is closer to embedding B than to C and D\n",
    "assert similarity_AB > similarity_AC and similarity_AB > similarity_AD\n",
    "\n"
   ]
  }
 ],
 "metadata": {
  "kernelspec": {
   "display_name": ".venv",
   "language": "python",
   "name": "python3"
  },
  "language_info": {
   "codemirror_mode": {
    "name": "ipython",
    "version": 3
   },
   "file_extension": ".py",
   "mimetype": "text/x-python",
   "name": "python",
   "nbconvert_exporter": "python",
   "pygments_lexer": "ipython3",
   "version": "3.12.1"
  }
 },
 "nbformat": 4,
 "nbformat_minor": 2
}
