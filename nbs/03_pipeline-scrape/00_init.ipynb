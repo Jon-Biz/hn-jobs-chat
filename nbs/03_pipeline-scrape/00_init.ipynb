{
 "cells": [
  {
   "cell_type": "markdown",
   "metadata": {},
   "source": [
    "# Scrape the current data\n"
   ]
  },
  {
   "cell_type": "code",
   "execution_count": 33,
   "metadata": {},
   "outputs": [],
   "source": [
    "#| default_exp init_scrape\n",
    "\n",
    "%pip install -q openai\n",
    "%pip install -q numpy\n",
    "%pip install -q psycopg2-binary\n",
    "%pip install -q langchain_core\n",
    "%pip install -q nbdev"
   ]
  },
  {
   "cell_type": "code",
   "execution_count": 34,
   "metadata": {},
   "outputs": [],
   "source": [
    "#| export\n",
    "\n",
    "url = \"https://news.ycombinator.com/item?id=41129813\"\n",
    "dataLocation = \"currentData/\"\n",
    "month = \"august\"\n",
    "postsTableName = \"posts_\" + month"
   ]
  },
  {
   "cell_type": "code",
   "execution_count": 35,
   "metadata": {},
   "outputs": [],
   "source": [
    "#| export\n",
    "\n",
    "url = \"https://news.ycombinator.com/item?id=41129813\"\n",
    "dataLocation = \"currentData/\"\n",
    "month = \"August\"\n",
    "postsTableName = \"posts_\" + month"
   ]
  },
  {
   "cell_type": "code",
   "execution_count": 36,
   "metadata": {},
   "outputs": [],
   "source": [
    "#| hide\n",
    "from nbdev import nbdev_export\n",
    "nbdev_export()"
   ]
  }
 ],
 "metadata": {
  "kernelspec": {
   "display_name": ".venv",
   "language": "python",
   "name": "python3"
  },
  "language_info": {
   "codemirror_mode": {
    "name": "ipython",
    "version": 3
   },
   "file_extension": ".py",
   "mimetype": "text/x-python",
   "name": "python",
   "nbconvert_exporter": "python",
   "pygments_lexer": "ipython3",
   "version": "3.12.1"
  }
 },
 "nbformat": 4,
 "nbformat_minor": 2
}
