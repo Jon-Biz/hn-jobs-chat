{
 "cells": [
  {
   "cell_type": "code",
   "execution_count": 1,
   "metadata": {},
   "outputs": [],
   "source": [
    "#| default_exp clean\n",
    "\n"
   ]
  },
  {
   "cell_type": "markdown",
   "metadata": {},
   "source": [
    "A lot of the data we captured is in the form of lists of items. In order to search these, we need to pull them out into separate tables."
   ]
  },
  {
   "cell_type": "code",
   "execution_count": 11,
   "metadata": {},
   "outputs": [],
   "source": [
    "# TODO: Retreive this from the key model\n",
    "array_items = \"more_company_info\",\"job_requirements\",\"job_soft_skills\",\"tech_stack\",\"information_urls\""
   ]
  },
  {
   "cell_type": "markdown",
   "metadata": {},
   "source": [
    "Back up the data before we start"
   ]
  },
  {
   "cell_type": "code",
   "execution_count": 3,
   "metadata": {},
   "outputs": [],
   "source": [
    "# from hn_jobs_chat.db import connectToDB\n",
    "# from hn_jobs_chat.vars import postsTableName\n",
    "\n",
    "# newTableName = postsTableName + \"_tech_stack\"\n",
    "\n",
    "# # Connect to the database\n",
    "# conn, cursor = connectToDB()\n",
    "\n",
    "# # Create a new table for the array data\n",
    "# query = \"\"\"CREATE TABLE IF NOT EXISTS \"\"\" + newTableName + \"\"\" (\n",
    "#         id SERIAL PRIMARY KEY, \n",
    "#         postId INT, \n",
    "#         tech TEXT\n",
    "#         );\"\"\"\n",
    "\n",
    "# cursor.execute(query)\n",
    "# conn.commit()   \n",
    "\n",
    "# # Retrieve all the data from the primary table\n",
    "# query = \"\"\"SELECT id, tech_stack FROM \"\"\" +  postsTableName +  \"\"\" ORDER BY id\"\"\"\n",
    "\n",
    "# cursor.execute(query)\n",
    "# items = cursor.fetchall()\n",
    "\n",
    "# # Iterate over the items, \n",
    "# for item in items:\n",
    "#     id, tech_stack = item\n",
    "#     if tech_stack is not None:\n",
    "#         if tech_stack != \"\":\n",
    "#             tech_stack_items = tech_stack.split(\",\")\n",
    "\n",
    "#             for tech in tech_stack_items:\n",
    "#                 query = \"\"\"INSERT INTO \"\"\"+newTableName+\"\"\" (postId, tech) VALUES (%s, %s)\"\"\"\n",
    "#                 cursor.execute(query, (id,  tech))\n",
    "\n",
    "# conn.commit()\n"
   ]
  },
  {
   "cell_type": "markdown",
   "metadata": {},
   "source": [
    "Ok, now we have need to convert the array into a new table, so we can search against the embeddings."
   ]
  },
  {
   "cell_type": "code",
   "execution_count": 12,
   "metadata": {},
   "outputs": [],
   "source": [
    "from hn_jobs_chat.db import connectToDB\n",
    "\n",
    "postsTableName = \"posts_august\"\n",
    "# Iterate over all array items\n",
    "\n",
    "for array_item in array_items:\n",
    "    newTableName = f\"{postsTableName}_{array_item}\"\n",
    "    \n",
    "    # Connect to the database\n",
    "    conn, cursor = connectToDB()\n",
    "\n",
    "    # Create a new table for the array data\n",
    "    query = f\"\"\"CREATE TABLE IF NOT EXISTS {newTableName} (\n",
    "            id SERIAL PRIMARY KEY, \n",
    "            postId INT, \n",
    "            item TEXT,\n",
    "            embedding float[1536]\n",
    "            );\"\"\"\n",
    "\n",
    "    cursor.execute(query)\n",
    "    conn.commit()   \n",
    "\n",
    "    # Retrieve all the data from the primary table\n",
    "    query = f\"\"\"SELECT id, {array_item} FROM {postsTableName} ORDER BY id\"\"\"\n",
    "\n",
    "    cursor.execute(query)\n",
    "    items = cursor.fetchall()\n",
    "\n",
    "    # Iterate over the items\n",
    "    for item in items:\n",
    "        id, array_data = item\n",
    "        if array_data is not None and array_data != \"\":\n",
    "            array_items = array_data.split(\",\")\n",
    "\n",
    "            for sub_item in array_items:\n",
    "                query = f\"\"\"INSERT INTO {newTableName} (postId, item) VALUES (%s, %s)\"\"\"\n",
    "                cursor.execute(query, (id, sub_item.strip()))\n",
    "\n",
    "    conn.commit()\n",
    "    conn.close()\n"
   ]
  },
  {
   "cell_type": "code",
   "execution_count": null,
   "metadata": {},
   "outputs": [],
   "source": [
    "from hn_jobs_chat.db import connectToDB\n"
   ]
  }
 ],
 "metadata": {
  "kernelspec": {
   "display_name": ".venv",
   "language": "python",
   "name": "python3"
  },
  "language_info": {
   "codemirror_mode": {
    "name": "ipython",
    "version": 3
   },
   "file_extension": ".py",
   "mimetype": "text/x-python",
   "name": "python",
   "nbconvert_exporter": "python",
   "pygments_lexer": "ipython3",
   "version": "3.12.1"
  }
 },
 "nbformat": 4,
 "nbformat_minor": 2
}
