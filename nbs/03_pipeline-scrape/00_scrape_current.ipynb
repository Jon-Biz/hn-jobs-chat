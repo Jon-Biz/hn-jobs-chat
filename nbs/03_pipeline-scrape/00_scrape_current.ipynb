{
 "cells": [
  {
   "cell_type": "markdown",
   "metadata": {},
   "source": [
    "# Scrape the current data\n"
   ]
  },
  {
   "cell_type": "code",
   "execution_count": 7,
   "metadata": {},
   "outputs": [
    {
     "data": {
      "text/plain": [
       "'https://news.ycombinator.com/item?id=41129813'"
      ]
     },
     "execution_count": 7,
     "metadata": {},
     "output_type": "execute_result"
    }
   ],
   "source": [
    "from hn_jobs_chat.var import url, postsTableName\n"
   ]
  },
  {
   "cell_type": "code",
   "execution_count": 5,
   "metadata": {},
   "outputs": [],
   "source": [
    "from hn_jobs_chat.db import connectToDB\n",
    "\n",
    "query = \"\"\"CREATE TABLE IF NOT EXISTS \"\"\" + postsTableName + \"\"\" (\n",
    "        id SERIAL PRIMARY KEY, \n",
    "        hnuser TEXT, \n",
    "        date TIMESTAMP, \n",
    "        comment TEXT,\n",
    "        fileName TEXT,\n",
    "        html TEXT\n",
    "        );\"\"\"\n",
    "\n",
    "conn, cursor = connectToDB()\n",
    "\n",
    "cursor.execute(query)\n",
    "\n",
    "conn.commit()   \n",
    "conn.close() "
   ]
  },
  {
   "cell_type": "code",
   "execution_count": 6,
   "metadata": {},
   "outputs": [
    {
     "name": "stdout",
     "output_type": "stream",
     "text": [
      "Scraping page 1\n",
      "all pages scraped\n",
      "Scraped 181 posts\n"
     ]
    }
   ],
   "source": [
    "from hn_jobs_chat.scraper import scrape\n",
    "\n",
    "# April 2024\n",
    "monthPosts = scrape(url)\n",
    "monthPosts = monthPosts[0:154]"
   ]
  },
  {
   "cell_type": "code",
   "execution_count": 7,
   "metadata": {},
   "outputs": [],
   "source": [
    "import psycopg2\n",
    "\n",
    "conn = psycopg2.connect(\"dbname=Bumpant user=Bumpant password=ampegskb\")\n",
    "cursor = conn.cursor()\n",
    "\n",
    "for post in monthPosts:\n",
    "    hnuser = post[\"hnuser\"]\n",
    "    date = post[\"date\"]\n",
    "    comment = post[\"comment\"]\n",
    "    \n",
    "    fileName = post[\"fileName\"]\n",
    "    html = post[\"html\"]\n",
    "\n",
    "    cursor.execute(\n",
    "        \"\"\"INSERT INTO \"\"\" + postsTableName + \n",
    "        \"\"\" (hnuser, date, comment, fileName, html) VALUES (%s, %s, %s, %s, %s)\"\"\"\n",
    "        , (hnuser, date, comment, fileName, html)\n",
    "    )\n",
    "\n",
    "    conn.commit()\n",
    "\n",
    "conn.close()\n"
   ]
  },
  {
   "cell_type": "markdown",
   "metadata": {},
   "source": [
    "Since it's small, let's just back it up to a csv file, in case something get's messed up later."
   ]
  },
  {
   "cell_type": "code",
   "execution_count": null,
   "metadata": {},
   "outputs": [],
   "source": [
    "from hn_jobs_chat import init_scrape\n",
    "import psycopg2\n",
    "\n",
    "postsTableName = init_scrape.postsTableName\n",
    "\n",
    "conn = psycopg2.connect(\"dbname=Bumpant user=Bumpant password=ampegskb\")\n",
    "cursor = conn.cursor()\n",
    "\n",
    "query = \"\"\"SELECT * FROM \"\"\" + postsTableName\n",
    "\n",
    "cursor.execute(query)\n",
    "\n",
    "data = cursor.fetchall()\n",
    "\n",
    "import csv\n",
    "\n",
    "with open('backup_after_parse' + postsTableName + '.csv', mode='w', newline='') as file:\n",
    "    writer = csv.writer(file)\n",
    "    writer.writerow([i[0] for i in cursor.description])  # write headers\n",
    "    writer.writerows(data)\n",
    "\n",
    "conn.commit()   \n",
    "conn.close() \n",
    "# Lets start by backing up the table <<postsTableName>> to a csv file"
   ]
  },
  {
   "cell_type": "code",
   "execution_count": 8,
   "metadata": {},
   "outputs": [],
   "source": [
    "#| hide\n",
    "from nbdev import nbdev_export\n",
    "nbdev_export()"
   ]
  }
 ],
 "metadata": {
  "kernelspec": {
   "display_name": ".venv",
   "language": "python",
   "name": "python3"
  },
  "language_info": {
   "codemirror_mode": {
    "name": "ipython",
    "version": 3
   },
   "file_extension": ".py",
   "mimetype": "text/x-python",
   "name": "python",
   "nbconvert_exporter": "python",
   "pygments_lexer": "ipython3",
   "version": "3.12.1"
  }
 },
 "nbformat": 4,
 "nbformat_minor": 2
}
