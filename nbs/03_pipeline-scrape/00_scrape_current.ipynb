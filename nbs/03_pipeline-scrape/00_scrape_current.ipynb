{
 "cells": [
  {
   "cell_type": "markdown",
   "metadata": {},
   "source": [
    "# Scrape the current data\n"
   ]
  },
  {
   "cell_type": "code",
   "execution_count": 108,
   "metadata": {},
   "outputs": [
    {
     "name": "stdout",
     "output_type": "stream",
     "text": [
      "Note: you may need to restart the kernel to use updated packages.\n",
      "Note: you may need to restart the kernel to use updated packages.\n",
      "Note: you may need to restart the kernel to use updated packages.\n",
      "Note: you may need to restart the kernel to use updated packages.\n"
     ]
    }
   ],
   "source": []
  },
  {
   "cell_type": "code",
   "execution_count": 109,
   "metadata": {},
   "outputs": [],
   "source": [
    "\n",
    "url = \"https://news.ycombinator.com/item?id=36573871\"\n",
    "\n",
    "dataLocation = \"currentData/\"\n",
    "month = \"July\"\n",
    "postsTableName = \"posts_\" + month"
   ]
  },
  {
   "cell_type": "code",
   "execution_count": 110,
   "metadata": {},
   "outputs": [],
   "source": [
    "import psycopg2\n",
    "\n",
    "conn = psycopg2.connect(\"dbname=Bumpant user=Bumpant password=ampegskb\")\n",
    "cursor = conn.cursor()\n",
    "\n",
    "query = \"\"\"CREATE TABLE IF NOT EXISTS \"\"\" + postsTableName + \"\"\" (\n",
    "        id SERIAL PRIMARY KEY, \n",
    "        hnuser TEXT, \n",
    "        date TIMESTAMP, \n",
    "        comment TEXT,\n",
    "        fileName TEXT,\n",
    "        html TEXT\n",
    "        );\"\"\"\n",
    "\n",
    "cursor.execute(query)\n",
    "\n",
    "conn.commit()   \n",
    "conn.close() "
   ]
  },
  {
   "cell_type": "code",
   "execution_count": 113,
   "metadata": {},
   "outputs": [
    {
     "name": "stdout",
     "output_type": "stream",
     "text": [
      "Scraping page 1\n",
      "Scraping page 2\n",
      "all pages scraped\n",
      "Scraped 155 posts\n"
     ]
    }
   ],
   "source": [
    "from hn_jobs_chat.scraper import scrape\n",
    "\n",
    "# April 2024\n",
    "monthPosts = scrape(url)\n",
    "monthPosts = monthPosts[0:154]"
   ]
  },
  {
   "cell_type": "code",
   "execution_count": 114,
   "metadata": {},
   "outputs": [],
   "source": [
    "import psycopg2\n",
    "\n",
    "conn = psycopg2.connect(\"dbname=Bumpant user=Bumpant password=ampegskb\")\n",
    "cursor = conn.cursor()\n",
    "\n",
    "for post in monthPosts:\n",
    "    hnuser = post[\"hnuser\"]\n",
    "    date = post[\"date\"]\n",
    "    comment = post[\"comment\"]\n",
    "    fileName = post[\"fileName\"]\n",
    "    html = post[\"html\"]\n",
    "\n",
    "    cursor.execute(\n",
    "        \"\"\"INSERT INTO \"\"\" + postsTableName + \n",
    "        \"\"\" (hnuser, date, comment, fileName, html) VALUES (%s, %s, %s, %s, %s)\"\"\"\n",
    "        , (hnuser, date, comment, fileName, html)\n",
    "    )\n",
    "\n",
    "    conn.commit()\n",
    "\n",
    "conn.close()\n"
   ]
  },
  {
   "cell_type": "code",
   "execution_count": null,
   "metadata": {},
   "outputs": [],
   "source": [
    "#| hide\n",
    "from nbdev import nbdev_export\n",
    "nbdev_export()"
   ]
  }
 ],
 "metadata": {
  "kernelspec": {
   "display_name": ".venv",
   "language": "python",
   "name": "python3"
  },
  "language_info": {
   "codemirror_mode": {
    "name": "ipython",
    "version": 3
   },
   "file_extension": ".py",
   "mimetype": "text/x-python",
   "name": "python",
   "nbconvert_exporter": "python",
   "pygments_lexer": "ipython3",
   "version": "3.12.1"
  }
 },
 "nbformat": 4,
 "nbformat_minor": 2
}
