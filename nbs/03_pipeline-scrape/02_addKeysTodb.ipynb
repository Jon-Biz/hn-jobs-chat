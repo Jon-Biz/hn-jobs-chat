{
 "cells": [
  {
   "cell_type": "markdown",
   "metadata": {},
   "source": [
    "# Add keys\n",
    "We add the keys we retreived from evaluating previous hn postings to the database."
   ]
  },
  {
   "cell_type": "code",
   "execution_count": 40,
   "metadata": {},
   "outputs": [
    {
     "name": "stdout",
     "output_type": "stream",
     "text": [
      "Note: you may need to restart the kernel to use updated packages.\n",
      "Note: you may need to restart the kernel to use updated packages.\n",
      "Note: you may need to restart the kernel to use updated packages.\n",
      "Note: you may need to restart the kernel to use updated packages.\n"
     ]
    }
   ],
   "source": [
    "%pip install -q langchain_core\n",
    "%pip install -q langchain_openai\n",
    "%pip install -q psycopg2-binary\n",
    "%pip install -q nbdev"
   ]
  },
  {
   "cell_type": "code",
   "execution_count": 41,
   "metadata": {},
   "outputs": [],
   "source": [
    "\n",
    "from langchain_core.prompts import PromptTemplate"
   ]
  },
  {
   "cell_type": "markdown",
   "metadata": {},
   "source": [
    "We add all the gathered keys to the table."
   ]
  },
  {
   "cell_type": "code",
   "execution_count": 1,
   "metadata": {},
   "outputs": [
    {
     "name": "stdout",
     "output_type": "stream",
     "text": [
      "company\n",
      "location\n",
      "timezone\n",
      "industry\n",
      "target_market\n",
      "company_status\n",
      "company_description\n",
      "company_goal\n",
      "company_stage\n",
      "more_company_info\n",
      "employment_type\n",
      "remote_or_local_details\n",
      "job_title\n",
      "job_description\n",
      "job_requirements\n",
      "job_soft_skills\n",
      "product_description\n",
      "tech_stack\n",
      "application_process\n",
      "contact_email\n",
      "application_url\n",
      "information_urls\n",
      "additional_notes\n",
      "compensation\n"
     ]
    }
   ],
   "source": [
    "\n",
    "from hn_jobs_chat.keys import keys\n",
    "import psycopg2\n",
    "\n",
    "month = \"july\"\n",
    "postsTableName = \"posts_\" + month\n",
    "\n",
    "conn = psycopg2.connect(\"dbname=Bumpant user=Bumpant password=ampegskb\")\n",
    "cursor = conn.cursor()\n",
    "\n",
    "for key in keys:\n",
    "    query = f\"ALTER TABLE \\\"{postsTableName}\\\" ADD COLUMN IF NOT EXISTS  \\\"{key}\\\"  TEXT\"\n",
    "    cursor.execute(query)\n",
    "    conn.commit()\n",
    "\n",
    "conn.close()"
   ]
  },
  {
   "cell_type": "markdown",
   "metadata": {},
   "source": [
    "We create a SQL query that posts by our new keys"
   ]
  },
  {
   "cell_type": "code",
   "execution_count": 57,
   "metadata": {},
   "outputs": [],
   "source": [
    "#| hide\n",
    "from nbdev import nbdev_export\n",
    "nbdev_export()"
   ]
  }
 ],
 "metadata": {
  "kernelspec": {
   "display_name": ".venv",
   "language": "python",
   "name": "python3"
  },
  "language_info": {
   "codemirror_mode": {
    "name": "ipython",
    "version": 3
   },
   "file_extension": ".py",
   "mimetype": "text/x-python",
   "name": "python",
   "nbconvert_exporter": "python",
   "pygments_lexer": "ipython3",
   "version": "3.12.1"
  }
 },
 "nbformat": 4,
 "nbformat_minor": 2
}
