{
 "cells": [
  {
   "cell_type": "markdown",
   "metadata": {},
   "source": [
    "# Process the data\n",
    "We have everything we need now to convert the current scraped posts into a set of key/values we can interact with."
   ]
  },
  {
   "cell_type": "code",
   "execution_count": 2,
   "metadata": {},
   "outputs": [
    {
     "name": "stdout",
     "output_type": "stream",
     "text": [
      "Note: you may need to restart the kernel to use updated packages.\n",
      "Note: you may need to restart the kernel to use updated packages.\n",
      "Note: you may need to restart the kernel to use updated packages.\n",
      "Note: you may need to restart the kernel to use updated packages.\n"
     ]
    }
   ],
   "source": [
    "#| default_exp get_examples"
   ]
  },
  {
   "cell_type": "markdown",
   "metadata": {},
   "source": [
    "Create several example outputs by hand."
   ]
  },
  {
   "cell_type": "code",
   "execution_count": 15,
   "metadata": {},
   "outputs": [],
   "source": [
    "examples = \"\"\"Example 1.\n",
    "    Posting: \n",
    "\n",
    "        Rubie | Founding engineer | New York City | Full time | Onsite\\nRubie is helping companies with complex software (ERPs, CRMs, etc) launch with their customers faster. We do this by automating the highly repetitive manual tasks that professional services and customer success teams perform using novel agentic infrastructure. This results in a massively faster customer implementation cycle - in the case of one of our partners, 70% faster!\\nWe are hiring founding engineers in person in NYC. The first step in our process is completing our reverse engineering challenge, which is located here: https://ReverseEngineerThisSite.com\\nreply\n",
    "\n",
    "    Output:\n",
    "\n",
    "    ```json\n",
    "    [{\n",
    "        \"company\": \"Rubie\",\n",
    "        \"job_title\": \"Founding engineer\",\n",
    "        \"location\":  \"New York City\",\n",
    "        \"work_schedule\": \"Full time\",\n",
    "        \"remote/local/hybrid details\": \"Local only\",\n",
    "        \"company_goal\": \"helping companies with complex software (ERPs, CRMs, etc) launch with their customers faster by automating the highly repetitive manual tasks that professional services and customer success teams perform using novel agentic infrastructure.\",\n",
    "        \"job_requirements\": \"Experience with complex software (ERPs, CRMs, etc), ability to complete reverse engineering challenge\",\n",
    "        \"contact_url\": \"https://ReverseEngineerThisSite.com\",\n",
    "        \"application_process\": \"The first step in our process is completing our reverse engineering challenge, which is located here: https://ReverseEngineerThisSite.com\",\n",
    "    }]\n",
    "    ```\n",
    "\n",
    "Example 2.\n",
    "    Posting: \n",
    "\n",
    "        MongoDB-- we're looking for an experienced Java developer who has expertise in building applications with Hibernate ORM (even better if you are familiar with hibernate-ogm) to help build a Hibernate integration with MongoDB. High priority + impact + high visibility role!\\nFully REMOTE (global) | Software Engineer, Java (Database Experience Team) | Full-Time | Base + RSU's | Interested? More info + apply here: https://grnh.se/e29caf031us\\nreply\n",
    "\n",
    "    Output:\n",
    "\n",
    "    ```json\n",
    "    [{\n",
    "        \"company\": \"MongoDB\",\n",
    "        \"job_title\": \"Software Engineer, Java (Database Experience Team)\",\n",
    "        \"job_description\": \"High priority + impact + high visibility role!\",\n",
    "        \"remote/local details\": \"Fully REMOTE(global)\",\n",
    "        \"job_requirements\": \"experienced Java developer who has expertise in building applications with Hibernate ORM (even better if you are familiar with hibernate-ogm)\",\n",
    "        \"contact_url\": \"https://grnh.se/e29caf031us\",\n",
    "        \"tech_stack\": [\"Java\", \"Hibernate ORM\"],\n",
    "        \"compensation\": \"Base + RSU's\",\n",
    "    }]\n",
    "    ```\n",
    "\n",
    "Example 3.\n",
    "\n",
    "    Posting: \n",
    "\n",
    "        VALIS Insights | Full-time | REMOTE (US)\\nI'm the co-founder and CTO of VALIS, a B2B SaaS company delivering software solutions to the metals recycling industry. Our goal is to reduce global carbon emissions through maximizing the recovery of metals through recycling, which requires a fraction of the energy compared to mining and primary metals production. We're a seed-stage startup, backed by leading climate-tech VC's.\\nProduct-wise, we integrate recycling processes, equipment/sensors, production, and procurement/sales data to deliver an insights platform that helps metals recovery facilities optimize their processes. We employ a strong, domain-driven design approach to building our product. We're looking for execution-focused engineers to join our team and deliver complex features with autonomy.\\nWe're currently hiring for two roles:\\nSenior Backend Engineer - https://apply.workable.com/valis-insights-1/j/4745C9DC32/\\nFull-Stack Engineer - https://apply.workable.com/valis-insights-1/j/3A06E4C40A/\\nPlease reach out to me at caleb.ralphs@valisinsights.com and apply if you're interested.\\nreply\n",
    "\n",
    "    Output:\n",
    "    \n",
    "    ```json\n",
    "\n",
    "    [{\n",
    "        \"company\": \"VALIS Insights\",\n",
    "        \"job_title\": \"Senior Backend Engineer\",\n",
    "        \"job_requirements\": \"Execution-focused engineers who can deliver complex features with autonomy\",\n",
    "        \"contact_url\": \"caleb.ralphs@valisinsights.com\",\n",
    "        \"work_schedule\": \"Full-time\",\n",
    "        \"remote/local details\": \"REMOTE (US)\",\n",
    "        \"company_goal\": \"reduce global carbon emissions through maximizing the recovery of metals through recycling, which requires a fraction of the energy compared to mining and primary metals production.\",\n",
    "        \"company_stage\": \"seed\",\n",
    "        \"urls\": [\"https://apply.workable.com/valis-insights-1/j/4745C9DC32/\", \"https://apply.workable.com/valis-insights-1/j/3A06E4C40A/\"],\n",
    "        \"additional_notes\": [\"backed by leading climate-tech VC's.\\nProduct-wise, we integrate recycling processes, equipment/sensors, production, and procurement/sales data to deliver an insights platform that helps metals recovery facilities optimize their processes.\",\"We employ a strong, domain-driven design approach to building our product.\"]\n",
    "    }\n",
    "    {\n",
    "        \"company\": \"VALIS Insights\",\n",
    "        \"job_title\": \"Full-Stack Engineer\",\n",
    "        \"job_requirements\": \"Execution-focused engineers who can deliver complex features with autonomy\",\n",
    "        \"contact_url\": \"caleb.ralphs@valisinsights.com\",\n",
    "        \"work_schedule\": \"Full-time\",\n",
    "        \"remote/local details\": \"REMOTE (US)\",\n",
    "        \"company_goal\": \"reduce global carbon emissions through maximizing the recovery of metals through recycling, which requires a fraction of the energy compared to mining and primary metals production.\",\n",
    "        \"company_stage\": \"seed\",\n",
    "        \"urls\": [\"https://apply.workable.com/valis-insights-1/j/4745C9DC32/\", \"https://apply.workable.com/valis-insights-1/j/3A06E4C40A/\"],\n",
    "        \"additional_notes\": [\"backed by leading climate-tech VC's. Product-wise, we integrate recycling processes, equipment/sensors, production, and procurement/sales data to deliver an insights platform that helps metals recovery facilities optimize their processes.\",\"We employ a strong, domain-driven design approach to building our product.\"],\n",
    "    }]\n",
    "    ```\n",
    "\n",
    "Example 4.\n",
    "    Posting: \n",
    "\n",
    "        Duolingo | Multiple Roles | Hybrid | Pittsburgh/Seattle/NYC | Full-time | $148,800-$274,600 + equity/benefits\\nHere at Duolingo, we are passionate about educating our users, making fact-based decisions, and finding innovative solutions to complex problems. We offer meaningful work, limitless learning opportunities, and collaboration with world-class minds. Come brighten your life and over half a billion more!\\nHighlighted Roles:\\nDatabase Reliability Engineer (PGH)\\nPlatform Engineer (PGH)\\nSenior Mobile Engineers, iOS and Android (PGH, NYC, Seattle)\\nSenior Backend Engineers (PGH)\\nEngineering Leadership, Manager or Director (PGH)\\nSenior/Staff Data Scientists, Economics (PGH or NYC)\\nFor more details, you can view/apply to all current openings here: https://grnh.se/41f1af102us\\n            ,     ,\\n            )\\\\___/(\\n           {(@)v(@)}\\n            {|~~~|}\\n            {/^^^\\\\}\\n             `m-m`\\nreply\n",
    "\n",
    "    Output:\n",
    "    ```json\n",
    "    [{\n",
    "        \"company\": \"Duolingo\",\n",
    "        \"job_title\": \"Multiple Roles\",\n",
    "        \"job_requirements\": \"Available on the website link provided\",\n",
    "        \"contact_url\": \"https://grnh.se/41f1af102us\",\n",
    "        \"remote/local details\": \"Hybrid\",\n",
    "        \"compensation\": \"$148,800-$274,600 + equity/benefits\",\n",
    "        \"company_goal\": \"we are passionate about educating our users, making fact-based decisions, and finding innovative solutions to complex problems.\",\n",
    "        \"additional_notes\": \"We offer meaningful work, limitless learning opportunities, and collaboration with world-class minds. Come brighten your life and over half a billion more!\"\n",
    "    },\n",
    "    {\n",
    "        \"company\": \"Duolingo\",\n",
    "        \"job_title\": \"Database Reliability Engineer\",\n",
    "        \"job_requirements\": \"Available on the website link provided\",\n",
    "        \"contact_url\": \"https://grnh.se/41f1af102us\",\n",
    "        \"remote/local details\": \"Hybrid\",\n",
    "        \"location\": \"Pittsburgh (PGH)\",\n",
    "        \"compensation\": \"$148,800-$274,600 + equity/benefits\",\n",
    "        \"company_goal\": \"we are passionate about educating our users, making fact-based decisions, and finding innovative solutions to complex problems.\",\n",
    "        \"additional_notes\": \"We offer meaningful work, limitless learning opportunities, and collaboration with world-class minds. Come brighten your life and over half a billion more!\"\n",
    "    }]\n",
    "    ```\n",
    "\"\"\""
   ]
  },
  {
   "cell_type": "code",
   "execution_count": 16,
   "metadata": {},
   "outputs": [],
   "source": [
    "from langchain_core.prompts import PromptTemplate\n",
    "\n",
    "getPostsPrompt = PromptTemplate.from_template(\"\"\"You will be returning one ore more json objects together in an array to describe the jobs in a job posting. Here are some examples:\\n\\n{examples}\\n\\n Here are the key values currently being used to categorize jobs:\\n\\n{key_values}.\\n\\n If there is only one job posting presented here, return a json object containing a summary of every separate piece of information in the job posting. If the job describes multiple roles, create a separate json object for each role. Use the existing key values where they are relevant. If there is no relevant existing key, add new, relevant key to your json object. Here is the job posting: \\n\\n{job_posting}\"\"\")\n",
    "\n"
   ]
  },
  {
   "cell_type": "markdown",
   "metadata": {},
   "source": [
    "The LLM returns the data surrounded by comments and block markers. We need to strip them to get the actual json."
   ]
  },
  {
   "cell_type": "code",
   "execution_count": 17,
   "metadata": {},
   "outputs": [],
   "source": [
    "#| export\n",
    "import json\n",
    "\n",
    "def extract_middle_json(response):\n",
    "    # Split the string on '```'\n",
    "    parts = response.split('```')\n",
    "    # Select the middle portion and remove 'json' from the front\n",
    "    return parts[1].replace('json', '').strip() if len(parts) > 1 else ''\n",
    "\n",
    "def extractJSON(response):\n",
    "    jsonStr = extract_middle_json(response)\n",
    "\n",
    "    return json.loads(jsonStr)\n",
    "    "
   ]
  },
  {
   "cell_type": "code",
   "execution_count": 18,
   "metadata": {},
   "outputs": [],
   "source": [
    "from hn_jobs_chat.keys import described_keys\n",
    "\n",
    "key_descriptions = []\n",
    "\n",
    "for keyDesc in described_keys:\n",
    "    key_descriptions.append(f\"{keyDesc['key']} - {keyDesc['description']}\")\n"
   ]
  },
  {
   "cell_type": "code",
   "execution_count": 19,
   "metadata": {},
   "outputs": [],
   "source": [
    "from langchain_openai import ChatOpenAI\n",
    "\n",
    "model = ChatOpenAI(model=\"gpt-4-turbo\")\n",
    "\n",
    "def callLLM(item):\n",
    "    msg = getPostsPrompt.format(examples = examples, job_posting = item['comment'], key_values = \"\\n\".join(key_descriptions))\n",
    "\n",
    "    resp = model.invoke(msg)\n",
    "    parsed_datum = extractJSON(resp.content)\n",
    "\n",
    "    return parsed_datum"
   ]
  },
  {
   "cell_type": "code",
   "execution_count": 21,
   "metadata": {},
   "outputs": [],
   "source": [
    "from hn_jobs_chat.keys import keys\n",
    "import psycopg2\n",
    "\n",
    "month = \"july\"\n",
    "postsTableName = \"posts_\" + month\n",
    "\n",
    "conn = psycopg2.connect(\"dbname=Bumpant user=Bumpant password=ampegskb\")\n",
    "cursor = conn.cursor()\n",
    "\n",
    "areMorePosts = True\n",
    "id = 1\n",
    "posts = []\n",
    "\n",
    "while areMorePosts:\n",
    "    cursor.execute(f\"SELECT row_to_json({postsTableName}) FROM {postsTableName} WHERE id = {id}\")\n",
    "\n",
    "    response = cursor.fetchone()\n",
    "\n",
    "    if response is not None:\n",
    "        post = response[0]\n",
    "\n",
    "        if post['is_job'] is True:\n",
    "            result = callLLM(post)\n",
    "\n",
    "            for job in result:\n",
    "                for key in job.keys():\n",
    "                    if key not in keys:\n",
    "                        print('ERROR new key used:', key, result[key])\n",
    "                    else:\n",
    "                        query = f\"UPDATE {postsTableName} SET {key} = %s WHERE id = %s\", (job[key], id)\n",
    "                        cursor.execute(*query)\n",
    "\n",
    "                conn.commit()\n",
    "\n",
    "\n",
    "    # areMorePosts = response is not None\n",
    "    areMorePosts = False\n",
    "    id += 1\n",
    "\n",
    "\n",
    "cursor.close()\n",
    "\n"
   ]
  },
  {
   "cell_type": "code",
   "execution_count": 22,
   "metadata": {},
   "outputs": [
    {
     "data": {
      "text/plain": [
       "dict_keys(['company', 'location', 'industry', 'company_status', 'company_description', 'company_goal', 'company_stage', 'employment_type', 'remote_or_local_details', 'job_title', 'job_description', 'job_requirements', 'tech_stack', 'application_process', 'contact_email', 'application_url', 'information_urls', 'additional_notes'])"
      ]
     },
     "execution_count": 22,
     "metadata": {},
     "output_type": "execute_result"
    }
   ],
   "source": [
    "result[0].keys()"
   ]
  },
  {
   "cell_type": "markdown",
   "metadata": {},
   "source": [
    "Save the keys for use, and human editing\n"
   ]
  },
  {
   "cell_type": "code",
   "execution_count": 23,
   "metadata": {},
   "outputs": [],
   "source": [
    "#| hide\n",
    "from nbdev import nbdev_export\n",
    "nbdev_export()"
   ]
  }
 ],
 "metadata": {
  "kernelspec": {
   "display_name": ".venv",
   "language": "python",
   "name": "python3"
  },
  "language_info": {
   "codemirror_mode": {
    "name": "ipython",
    "version": 3
   },
   "file_extension": ".py",
   "mimetype": "text/x-python",
   "name": "python",
   "nbconvert_exporter": "python",
   "pygments_lexer": "ipython3",
   "version": "3.12.1"
  }
 },
 "nbformat": 4,
 "nbformat_minor": 2
}
