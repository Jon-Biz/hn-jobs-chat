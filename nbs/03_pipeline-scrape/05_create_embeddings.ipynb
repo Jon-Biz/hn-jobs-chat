{
 "cells": [
  {
   "cell_type": "code",
   "execution_count": 5,
   "metadata": {},
   "outputs": [],
   "source": [
    "#| default_exp clean\n",
    "from hn_jobs_chat.var import postsTableName\n",
    "from hn_jobs_chat.db import connectToDB\n"
   ]
  },
  {
   "cell_type": "markdown",
   "metadata": {},
   "source": [
    "With our new tables created, we now need to create embeddings for each of the items.\n",
    "\n",
    "First, let's add the embedding column to each of the tables."
   ]
  },
  {
   "cell_type": "code",
   "execution_count": 6,
   "metadata": {},
   "outputs": [],
   "source": [
    "conn, cursor = connectToDB()\n",
    "\n",
    "# TODO: Retreive this from the key model\n",
    "array_items = \"more_company_info\",\"job_requirements\",\"job_soft_skills\",\"tech_stack\",\"information_urls\"\n",
    "\n",
    "for item in array_items:\n",
    "    tableName = postsTableName + \"_\" + item\n",
    "\n",
    "    query = \"\"\"ALTER TABLE \"\"\"+tableName+\"\"\" ADD COLUMN IF NOT EXISTS embedding float[1536]\"\"\"\n",
    "    cursor.execute(query)\n",
    "    conn.commit()\n",
    "\n",
    "conn.close()\n"
   ]
  },
  {
   "cell_type": "markdown",
   "metadata": {},
   "source": [
    "Now we can create the embeddings for each of the items."
   ]
  },
  {
   "cell_type": "code",
   "execution_count": 8,
   "metadata": {},
   "outputs": [
    {
     "ename": "NameError",
     "evalue": "name 'c' is not defined",
     "output_type": "error",
     "traceback": [
      "\u001b[0;31m---------------------------------------------------------------------------\u001b[0m",
      "\u001b[0;31mNameError\u001b[0m                                 Traceback (most recent call last)",
      "Cell \u001b[0;32mIn[8], line 7\u001b[0m\n\u001b[1;32m      4\u001b[0m conn, cursor \u001b[38;5;241m=\u001b[39m connectToDB()\n\u001b[1;32m      6\u001b[0m \u001b[38;5;28;01mfor\u001b[39;00m item \u001b[38;5;129;01min\u001b[39;00m array_items:\n\u001b[0;32m----> 7\u001b[0m     \u001b[38;5;28mprint\u001b[39m(\u001b[38;5;124m'\u001b[39m\u001b[38;5;124mprocessing field: \u001b[39m\u001b[38;5;124m'\u001b[39m \u001b[38;5;241m+\u001b[39m \u001b[43mc\u001b[49m)\n\u001b[1;32m      8\u001b[0m     tableName \u001b[38;5;241m=\u001b[39m postsTableName \u001b[38;5;241m+\u001b[39m \u001b[38;5;124m\"\u001b[39m\u001b[38;5;124m_\u001b[39m\u001b[38;5;124m\"\u001b[39m \u001b[38;5;241m+\u001b[39m item\n\u001b[1;32m     10\u001b[0m     query \u001b[38;5;241m=\u001b[39m \u001b[38;5;124m\"\"\"\u001b[39m\u001b[38;5;124mSELECT * FROM \u001b[39m\u001b[38;5;124m\"\"\"\u001b[39m \u001b[38;5;241m+\u001b[39m tableName\n",
      "\u001b[0;31mNameError\u001b[0m: name 'c' is not defined"
     ]
    }
   ],
   "source": [
    "from openai import OpenAI\n",
    "client = OpenAI()\n",
    "\n",
    "conn, cursor = connectToDB()\n",
    "\n",
    "for item in array_items:\n",
    "    print('processing field: ' + item)\n",
    "    tableName = postsTableName + \"_\" + item\n",
    "\n",
    "    query = \"\"\"SELECT * FROM \"\"\" + tableName\n",
    "\n",
    "    cursor.execute(query)\n",
    "\n",
    "    data = cursor.fetchall()\n",
    "\n",
    "    for datum in data:\n",
    "        # if an identical item has already been processed, just use that embedding\n",
    "        # otherwise, retreive and embedding\n",
    "        item_id, text = datum[0],datum[2]\n",
    "\n",
    "        print('processing: ' + str(item_id))\n",
    "\n",
    "        search_query = \"\"\"SELECT * FROM \"\"\" + tableName + \"\"\" WHERE \"\"\"+item+\"\"\" = %s AND embedding IS NOT NULL\"\"\"\n",
    "        cursor.execute(search_query, (text,))\n",
    "        search_results = cursor.fetchone()\n",
    "\n",
    "        if search_results is not None:\n",
    "            embedding = search_results[3]\n",
    "        else:\n",
    "            response = client.embeddings.create(\n",
    "                input=text,\n",
    "                model=\"text-embedding-3-small\"\n",
    "            )\n",
    "\n",
    "            embedding = (response.data[0].embedding)\n",
    "\n",
    "        query = \"\"\"UPDATE \"\"\" + tableName + \"\"\" SET embedding = %s WHERE id = %s\"\"\"\n",
    "        cursor.execute(query, (embedding, item_id))\n",
    "        conn.commit()\n",
    "        \n",
    "conn.close()"
   ]
  }
 ],
 "metadata": {
  "kernelspec": {
   "display_name": ".venv",
   "language": "python",
   "name": "python3"
  },
  "language_info": {
   "codemirror_mode": {
    "name": "ipython",
    "version": 3
   },
   "file_extension": ".py",
   "mimetype": "text/x-python",
   "name": "python",
   "nbconvert_exporter": "python",
   "pygments_lexer": "ipython3",
   "version": "3.12.1"
  }
 },
 "nbformat": 4,
 "nbformat_minor": 2
}
