{
 "cells": [
  {
   "cell_type": "markdown",
   "metadata": {},
   "source": [
    "# Evals are all you need"
   ]
  },
  {
   "cell_type": "code",
   "execution_count": null,
   "metadata": {},
   "outputs": [],
   "source": [
    "%%capture\n",
    "#| default_exp clean\n",
    "\n",
    "%pip install openai\n",
    "%pip install numpy\n",
    "# %pip install langchain"
   ]
  },
  {
   "cell_type": "markdown",
   "metadata": {},
   "source": [
    "We start with a test item"
   ]
  },
  {
   "cell_type": "code",
   "execution_count": null,
   "metadata": {},
   "outputs": [],
   "source": [
    "\n",
    "import json\n",
    "\n",
    "# Opening JSON file\n",
    "f = open('../posts.json')\n",
    "\n",
    "# returns JSON object as \n",
    "# a dictionary\n",
    "posts = json.load(f)\n"
   ]
  },
  {
   "cell_type": "code",
   "execution_count": null,
   "metadata": {},
   "outputs": [],
   "source": [
    "import numpy as np\n",
    "\n",
    "postsArr = np.array(posts)\n",
    "\n",
    "testItems = postsArr[0:9]"
   ]
  },
  {
   "cell_type": "code",
   "execution_count": null,
   "metadata": {},
   "outputs": [],
   "source": [
    "# testItems = [{'hnuser': 'grantmuller',\n",
    "# 'date': '2024-07-08T22:39:26',\n",
    "# 'comment': 'We build software that improve resilience and reduce risk to critical infrastructure that millions of people and businesses rely on each day. Our systems handle millions of requests a day, coordinating activities between critical infrastructure providers, contract locators, excavators, and a variety of other stakeholders throughout North America.\\nWe’re growing our team and are in immediate need for a Senior Software Engineer. Here are some notes on the technical requirements:\\n* C# development experience using .NET Core, WebAPI, and Entity Framework\\n* Experience building browser applications using Angular and Typescript\\n* Strong relational database experience with Postgres (preferred) or MS SQL Server including SQL, database functions, indexing, and performance tuning\\n* Kubernetes, Docker, Linux\\nApply here: https://apply.workable.com/irth-solutions/j/33AD66BA3A/\\nWe’re growing, so new positions will open up frequently. Please check back with if this one doesn’t fit your background\\nreply'}]\n"
   ]
  },
  {
   "cell_type": "markdown",
   "metadata": {},
   "source": [
    "We need to determine:\n",
    "* company name\n",
    "* company location\n",
    "* contact info\n",
    "\n",
    "If any information isn't present, we need to make sure that we don't hallucinate."
   ]
  },
  {
   "cell_type": "code",
   "execution_count": null,
   "metadata": {},
   "outputs": [],
   "source": [
    "import os\n",
    "import openai\n",
    "\n",
    "# openai.api_base = \"https://openrouter.ai/api/v1\"\n",
    "openai.api_key = os.environ.get('OPENAI_API_KEY')\n",
    "\n"
   ]
  },
  {
   "cell_type": "markdown",
   "metadata": {},
   "source": [
    "Is the posting a job posting?"
   ]
  },
  {
   "cell_type": "code",
   "execution_count": null,
   "metadata": {},
   "outputs": [],
   "source": [
    "def getResponse(text: str):\n",
    "    response = openai.chat.completions.create(\n",
    "        model=\"gpt-3.5-turbo\",\n",
    "        messages=[{\"role\": \"user\", \"content\": text}],\n",
    "    )\n",
    "\n",
    "    result = {\n",
    "        \"input_text\": text,\n",
    "        \"text\": response.choices[0].message.content\n",
    "    }\n",
    "\n",
    "    return result\n",
    " "
   ]
  },
  {
   "cell_type": "code",
   "execution_count": null,
   "metadata": {},
   "outputs": [],
   "source": [
    "import json\n",
    "\n",
    "def toJson(response, repromptNum=None):\n",
    "    # try catch here. If item fails, rerun it. If it fails more than 3 times, return None\n",
    "    try:\n",
    "        return json.loads(response.replace('\\n',''))\n",
    "    except:\n",
    "        if repromptNum == None:\n",
    "            repromptNum = 0\n",
    "        \n",
    "        if repromptNum > 3:\n",
    "            return '{ \"errpr\": \"Could not receive valid json: Too many reprompts\",\"item\": '+item+'}'\n",
    "        \n",
    "        repromptNum += 1\n",
    "        return reprompt(response, repromptNum)\n",
    "    \n",
    "def reprompt(item, repromptNum=None):\n",
    "    newPrompt = 'Your response: \\n\\n'+item.text+'was not valid json. Please try again. Here is the original request:\\n' + item\n",
    "\n",
    "    response = getResponse(newPrompt)\n",
    "\n",
    "    print('response')\n",
    "    return toJson(response['text'], repromptNum=repromptNum)\n"
   ]
  },
  {
   "cell_type": "code",
   "execution_count": null,
   "metadata": {},
   "outputs": [],
   "source": [
    "def extractData(item, resultItem): \n",
    "    text = \"From the following job description, extract the name of the company, the job title, job requirements and how they want to be contacted: \" + item['comment'] + \"\\n\\n-----------\\n\\nReturn the information as a json object with the following keys: 'company', 'job_title', 'job_requirements','contact_url'. If you can't find a particular piece of information, return 'Unavailable' for the value of the key.\"\n",
    "\n",
    "    result = getResponse(text)\n",
    "\n",
    "    response = toJson(result['text'])\n",
    "\n",
    "    # TODO: add validation to check if the response is valid\n",
    "    resultItem['company'] = response['company']\n",
    "    resultItem['job_title'] = response['job_title']\n",
    "    resultItem['job_requirements'] = response['job_requirements']\n",
    "    resultItem['contact_url'] = response['contact_url']\n",
    "\n",
    "    print(resultItem)\n",
    "\n"
   ]
  },
  {
   "cell_type": "code",
   "execution_count": null,
   "metadata": {},
   "outputs": [],
   "source": [
    "def isJob(item, resultItem):\n",
    "    text='Is the following message a job posting, or something else? If it is a job posting, reply { \"isPosting: true }. If it is not a job posting, reply with { \"isPosting\": false }\\n-----------------\\n'+ item['comment']\n",
    "\n",
    "    result = getResponse(text)\n",
    "    resp = toJson(result['text'])\n",
    " \n",
    "    resultItem['isPosting'] = resp['isPosting']\n",
    "\n",
    "    return resultItem['isPosting']"
   ]
  },
  {
   "cell_type": "code",
   "execution_count": null,
   "metadata": {},
   "outputs": [],
   "source": [
    "def processItem(item):\n",
    "    resultItem = { 'isPosting': 'whoops'}\n",
    "\n",
    "    if isJob(item, resultItem):\n",
    "        extractData(item, resultItem)\n",
    "\n",
    "    return resultItem"
   ]
  },
  {
   "cell_type": "code",
   "execution_count": null,
   "metadata": {},
   "outputs": [],
   "source": [
    "resultData = []\n",
    "\n",
    "for item in testItems:\n",
    "    datum = processItem(item)\n",
    "    print(item)\n",
    "    resultData.append(datum)\n",
    "\n",
    "print(resultData)"
   ]
  },
  {
   "cell_type": "code",
   "execution_count": null,
   "metadata": {},
   "outputs": [],
   "source": [
    "import json\n",
    "\n",
    "with open('../postData.json', 'w', encoding='utf-8') as f:\n",
    "    json.dump(resultData, f, ensure_ascii=False, indent=4)"
   ]
  }
 ],
 "metadata": {
  "kernelspec": {
   "display_name": ".venv",
   "language": "python",
   "name": "python3"
  },
  "language_info": {
   "codemirror_mode": {
    "name": "ipython",
    "version": 3
   },
   "file_extension": ".py",
   "mimetype": "text/x-python",
   "name": "python",
   "nbconvert_exporter": "python",
   "pygments_lexer": "ipython3",
   "version": "3.12.1"
  }
 },
 "nbformat": 4,
 "nbformat_minor": 2
}
