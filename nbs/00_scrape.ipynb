{
 "cells": [
  {
   "cell_type": "markdown",
   "metadata": {},
   "source": [
    "# Scrape HN\n",
    "\n",
    "This file scrapes this month's HN Jobs post using Selenium"
   ]
  },
  {
   "cell_type": "code",
   "execution_count": 22,
   "metadata": {},
   "outputs": [],
   "source": [
    "#| default_exp scraper\n",
    "#| export\n",
    "who_is_hiring = \"https://news.ycombinator.com/item?id=40846428\"\n"
   ]
  },
  {
   "cell_type": "code",
   "execution_count": 23,
   "metadata": {},
   "outputs": [],
   "source": [
    "%%capture\n",
    "\n",
    "%pip install selenium\n",
    "%pip install nbdev\n",
    "%pip install webdriver-manager\n",
    "%pip install pillow"
   ]
  },
  {
   "cell_type": "code",
   "execution_count": 24,
   "metadata": {},
   "outputs": [],
   "source": [
    "#| hide\n",
    "from nbdev.showdoc import *\n"
   ]
  },
  {
   "cell_type": "code",
   "execution_count": 25,
   "metadata": {},
   "outputs": [],
   "source": [
    "#| export\n",
    "from selenium import webdriver\n",
    "from selenium.webdriver.chrome.service import Service\n",
    "from webdriver_manager.chrome import ChromeDriverManager"
   ]
  },
  {
   "cell_type": "markdown",
   "metadata": {},
   "source": []
  },
  {
   "cell_type": "code",
   "execution_count": 26,
   "metadata": {},
   "outputs": [],
   "source": [
    "#| export\n",
    "\n",
    "def scrape(url: str):\n",
    "    url = url or who_is_hiring\n",
    "\n",
    "    #create an instance of the Service object\n",
    "    service = Service(executable_path=ChromeDriverManager().install())\n",
    "    #start Chrome using the service keyword\n",
    "    driver = webdriver.Chrome(service=service)\n",
    "    driver.get(url)\n",
    "\n",
    "    tbody = driver.find_element(By.CLASS_NAME, \"comment-tree\")\n",
    "    postsHtml = tbody.find_elements(By.CLASS_NAME, \"athing comtr\")\n",
    "\n",
    "    driver.quit()\n",
    "\n",
    "    return _getPosts(postsHtml)\n",
    "\n",
    "    \n"
   ]
  },
  {
   "cell_type": "code",
   "execution_count": 27,
   "metadata": {},
   "outputs": [],
   "source": [
    "#| export\n",
    "def _getPosts(postsHtml: list):\n",
    "    posts = []\n",
    "\n",
    "    for post in postsHtml:\n",
    "        indent = post.find_element(By.CLASS_NAME, \"ind\").get_attribute(\"indent\")\n",
    "\n",
    "        # ignore reply comments: comments indented by 1+\n",
    "        # later on it might be useful to attach these to the parent comment\n",
    "        if (indent == 0):\n",
    "            hnuser = post.find_element(By.CLASS_NAME, \"hnuser\").text\n",
    "            date = post.find_element(By.CLASS_NAME, \"age\").get_attribute(\"title\")\n",
    "            comment = post.find_element(By.CLASS_NAME, \"comment\").text\n",
    "\n",
    "            post = {\n",
    "                \"hnuser\": hnuser,\n",
    "                \"date\": date,\n",
    "                \"comment\": comment    \n",
    "            }\n",
    "\n",
    "\n",
    "            posts.append(post)"
   ]
  },
  {
   "cell_type": "code",
   "execution_count": 28,
   "metadata": {},
   "outputs": [],
   "source": [
    "#| export\n",
    "import json\n",
    "\n",
    "def savePosts(filename, posts):\n",
    "    with open(filename, 'w', encoding='utf-8') as f:\n",
    "        json.dump(posts, f, ensure_ascii=False, indent=4)"
   ]
  },
  {
   "cell_type": "code",
   "execution_count": 29,
   "metadata": {},
   "outputs": [],
   "source": [
    "#| export\n",
    "import json\n",
    "\n",
    "def loadPosts(filename):\n",
    "    with open(filename, 'r', encoding='utf-8') as f:\n",
    "        return json.load(f)\n",
    "    "
   ]
  },
  {
   "cell_type": "code",
   "execution_count": 30,
   "metadata": {},
   "outputs": [],
   "source": [
    "#| hide\n",
    "nbdev.nbdev_export()\n"
   ]
  }
 ],
 "metadata": {
  "kernelspec": {
   "display_name": "python3",
   "language": "python",
   "name": "python3"
  },
  "language_info": {
   "codemirror_mode": {
    "name": "ipython",
    "version": 3
   },
   "file_extension": ".py",
   "mimetype": "text/x-python",
   "name": "python",
   "nbconvert_exporter": "python",
   "pygments_lexer": "ipython3",
   "version": "3.12.1"
  }
 },
 "nbformat": 4,
 "nbformat_minor": 4
}
